{
 "cells": [
  {
   "cell_type": "code",
   "execution_count": 3,
   "id": "1af6b7e7",
   "metadata": {},
   "outputs": [],
   "source": [
    "import numpy as np"
   ]
  },
  {
   "cell_type": "markdown",
   "id": "28d865da",
   "metadata": {},
   "source": [
    "---\n",
    "\n",
    "**Exercício 1:**\n",
    "\n",
    "Você tem dados da temperatura média diária (°C) em Fernando de Noronha durante \n",
    "um mês: \n",
    "\n",
    "[28.1, 28.5, 27.9, 28.3, 35.2, 28.0, 28.2, 28.4, 27.8, 28.6, 28.1, \n",
    "28.3, 27.7, 28.5, 28.2, 28.4, 27.9, 28.3, 28.1, 28.6, 28.0, 28.2, \n",
    "28.4, 27.8, 28.5, 28.2, 28.3, 27.7, 28.6, 28.1]. \n",
    " \n",
    "Calcule o Z-score para cada temperatura e identifique os dias que são outliers \n",
    "usando um limiar de +/- 3.\n",
    "\n",
    "---"
   ]
  },
  {
   "cell_type": "code",
   "execution_count": 4,
   "id": "26a3fdce",
   "metadata": {},
   "outputs": [],
   "source": [
    "temp = [28.1, 28.5, 27.9, 28.3, 35.2, 28.0, 28.2, 28.4, 27.8, 28.6, 28.1, \n",
    "28.3, 27.7, 28.5, 28.2, 28.4, 27.9, 28.3, 28.1, 28.6, 28.0, 28.2, \n",
    "28.4, 27.8, 28.5, 28.2, 28.3, 27.7, 28.6, 28.1]"
   ]
  },
  {
   "cell_type": "code",
   "execution_count": 5,
   "id": "0657f294",
   "metadata": {},
   "outputs": [],
   "source": [
    "media2 = np.mean(temp)\n",
    "desvio2 = np.std(temp)\n",
    "zscore = (temp - media2) / desvio2\n"
   ]
  },
  {
   "cell_type": "code",
   "execution_count": 6,
   "id": "b20b03ac",
   "metadata": {},
   "outputs": [
    {
     "name": "stdout",
     "output_type": "stream",
     "text": [
      "Outliers: temperatura 35.2⁰C e z_score: 5.273474969711503\n"
     ]
    }
   ],
   "source": [
    "for indice,k in enumerate(zscore):\n",
    "    if k <= -3 or k>= 3:\n",
    "        print(f'Outliers: temperatura {temp[indice]}⁰C e z_score: {k}')"
   ]
  },
  {
   "cell_type": "markdown",
   "id": "f9e96973",
   "metadata": {},
   "source": [
    "---\n",
    "\n",
    "**Exercício 2:**  \n",
    "Os preços (em R$) de um determinado tipo de artesanato no Mercado de São José \n",
    "são: \n",
    "\n",
    "[15, 18, 16, 20, 17, 19, 15, 22, 18, 17, 16, 19, 17, 20, 18, 16, 45, \n",
    "17, 19, 21] \n",
    "\n",
    "Utilize o método do Intervalo Interquartil (1.5 * IIQ) para identificar os outliers neste \n",
    "conjunto de preços.\n",
    "\n",
    "---"
   ]
  },
  {
   "cell_type": "code",
   "execution_count": 7,
   "id": "e02b7176",
   "metadata": {},
   "outputs": [],
   "source": [
    "precos = [15, 18, 16, 20, 17, 19, 15, 22, 18, 17, 16, 19, 17, 20, 18, 16, 45, \n",
    "17, 19, 21]"
   ]
  },
  {
   "cell_type": "code",
   "execution_count": 8,
   "id": "c857dec3",
   "metadata": {},
   "outputs": [],
   "source": [
    "q1 = np.percentile(precos, 25)\n",
    "q3 = np.percentile(precos, 75)\n",
    "iiq = q3 - q1"
   ]
  },
  {
   "cell_type": "code",
   "execution_count": 9,
   "id": "653b385c",
   "metadata": {},
   "outputs": [
    {
     "name": "stdout",
     "output_type": "stream",
     "text": [
      "13.0 23.0\n"
     ]
    }
   ],
   "source": [
    "lim_inf = q1 - 1.5*iiq\n",
    "lim_sup = q3 + 1.5*iiq\n",
    "print(lim_inf,lim_sup)"
   ]
  },
  {
   "cell_type": "code",
   "execution_count": 10,
   "id": "0f1a24aa",
   "metadata": {},
   "outputs": [
    {
     "name": "stdout",
     "output_type": "stream",
     "text": [
      "45\n"
     ]
    }
   ],
   "source": [
    "for valor in precos:\n",
    "    if valor < lim_inf or valor >= lim_sup:\n",
    "        print(valor)"
   ]
  },
  {
   "cell_type": "markdown",
   "id": "0dce439a",
   "metadata": {},
   "source": [
    "---\n",
    "\n",
    "**Exercício 3:**\n",
    "\n",
    "Crie um box plot para visualizar a distribuição do seguinte conjunto de dados \n",
    "representando o tempo de viagem (em minutos) de casa para o trabalho de \n",
    "diferentes pessoas na Região Metropolitana do Recife:  \n",
    "\n",
    "[25, 30, 28, 35, 22, 40, 27, 60, 32, 29, 31, 33, 26, 38, 34]. \n",
    " \n",
    "Identifique visualmente os possíveis outliers no gráfico.\n",
    "\n",
    "---"
   ]
  },
  {
   "cell_type": "code",
   "execution_count": 11,
   "id": "4de5a56e",
   "metadata": {},
   "outputs": [],
   "source": [
    "import matplotlib.pyplot as plt"
   ]
  },
  {
   "cell_type": "code",
   "execution_count": 12,
   "id": "2f9e61fe",
   "metadata": {},
   "outputs": [],
   "source": [
    "tempo_viagem = [25, 30, 28, 35, 22, 40, 27, 60, 32, 29, 31, 33, 26, 38, 34]"
   ]
  },
  {
   "cell_type": "code",
   "execution_count": 13,
   "id": "44a9196a",
   "metadata": {},
   "outputs": [
    {
     "data": {
      "image/png": "[encoded data removed]",
      "text/plain": [
       "<Figure size 640x480 with 1 Axes>"
      ]
     },
     "metadata": {},
     "output_type": "display_data"
    }
   ],
   "source": [
    "plt.boxplot(tempo_viagem)\n",
    "plt.title('Tempo de viagem de casa para o trabalho')\n",
    "plt.ylabel('Tempo  (minutos)')\n",
    "plt.grid()"
   ]
  },
  {
   "cell_type": "markdown",
   "id": "598d1346",
   "metadata": {},
   "source": [
    "---\n",
    "\n",
    "**Exercício 4:**\n",
    "\n",
    "Você tem a altura (em metros) de alguns edifícios em Boa Viagem:  \n",
    "\n",
    "[80, 90, 75, 85, 105, 78, 82, 88, 70, 95, 81, 86, 77, 92, 150]. \n",
    "\n",
    "a) Identifique os outliers usando o Z-score (+/- 3). \n",
    "\n",
    "b) Identifique os outliers usando o método do IIQ (1.5 * IIQ).\n",
    "\n",
    "---"
   ]
  },
  {
   "cell_type": "code",
   "execution_count": 14,
   "id": "25074822",
   "metadata": {},
   "outputs": [],
   "source": [
    "alturas_predios = [80, 90, 75, 85, 105, 78, 82, 88, 70, 95, 81, 86, 77, 92, 150]"
   ]
  },
  {
   "cell_type": "code",
   "execution_count": 15,
   "id": "7c79c30d",
   "metadata": {},
   "outputs": [],
   "source": [
    "# a) outliers com z_score (+/- 3)\n",
    "\n",
    "media_predios = np.mean(alturas_predios)\n",
    "desvio_predios = np.std(alturas_predios)\n",
    "z_score_predios = (alturas_predios - media_predios) / desvio_predios"
   ]
  },
  {
   "cell_type": "code",
   "execution_count": 16,
   "id": "ec8dd672",
   "metadata": {},
   "outputs": [
    {
     "name": "stdout",
     "output_type": "stream",
     "text": [
      "z_score = 3.3232497247404686. Predio com 150 m  outliers\n"
     ]
    }
   ],
   "source": [
    "for indice_predio, p in enumerate(z_score_predios):\n",
    "    if p <= -3 or p >= 3:\n",
    "        print(f'z_score = {p}. Predio com {alturas_predios[indice_predio]} m  outliers')"
   ]
  },
  {
   "cell_type": "code",
   "execution_count": 17,
   "id": "d5b920e4",
   "metadata": {},
   "outputs": [],
   "source": [
    "# b) outliers com IIQ(1.5*IIQ)\n",
    "\n",
    "q1_predios = np.percentile(alturas_predios, 25)\n",
    "q3_predios = np.percentile(alturas_predios, 75)\n",
    "iiq_predios = q3_predios - q1_predios\n",
    "lim_inf_predio = q1_predios - 1.5*iiq_predios\n",
    "lim_sup_predio = q3_predios + 1.5*iiq_predios\n",
    "intervalo_quartis = (np.float64(lim_inf_predio),np.float64(lim_sup_predio))"
   ]
  },
  {
   "cell_type": "code",
   "execution_count": 18,
   "id": "ccd7f648",
   "metadata": {},
   "outputs": [
    {
     "name": "stdout",
     "output_type": "stream",
     "text": [
      "Predio com 150 m outliers. Intervalo (limites) (np.float64(61.0), np.float64(109.0))\n"
     ]
    }
   ],
   "source": [
    "for v in alturas_predios:\n",
    "    if v <= lim_inf_predio or v >= lim_sup_predio:\n",
    "        print(f'Predio com {v} m outliers. Intervalo (limites) {intervalo_quartis}')"
   ]
  },
  {
   "cell_type": "markdown",
   "id": "fe434426",
   "metadata": {},
   "source": [
    "---\n",
    "\n",
    "**Exercício 5:**\n",
    "\n",
    "Gere um box plot para o seguinte conjunto de dados representando o salário mensal \n",
    "(em R$) de profissionais em diferentes áreas em Pernambuco: \n",
    "\n",
    "[2500, 3000, 2800, 3500, 2200, 4000, 2700, 7000, 3200, 2900, 3100, \n",
    "3300, 2600, 3800, 3400].  \n",
    "\n",
    "O gráfico deve exibir os outliers identificados.\n",
    "\n",
    "---"
   ]
  },
  {
   "cell_type": "code",
   "execution_count": 19,
   "id": "579f2788",
   "metadata": {},
   "outputs": [],
   "source": [
    "salarios = [2500, 3000, 2800, 3500, 2200, 4000, 2700, 7000, 3200, 2900, 3100, 3300, 2600, 3800, 3400]"
   ]
  },
  {
   "cell_type": "code",
   "execution_count": 21,
   "id": "737e1806",
   "metadata": {},
   "outputs": [
    {
     "data": {
      "text/plain": [
       "Text(0, 0.5, 'Salarios R$')"
      ]
     },
     "execution_count": 21,
     "metadata": {},
     "output_type": "execute_result"
    },
    {
     "data": {
      "image/png": "[encoded data removed]",
      "text/plain": [
       "<Figure size 640x480 with 1 Axes>"
      ]
     },
     "metadata": {},
     "output_type": "display_data"
    }
   ],
   "source": [
    "plt.boxplot(salarios)\n",
    "plt.grid()\n",
    "plt.title('Salarios mensais')\n",
    "plt.ylabel('Salarios R$')"
   ]
  },
  {
   "cell_type": "markdown",
   "id": "d6b7194b",
   "metadata": {},
   "source": [
    "---\n",
    "\n",
    "**Exercício 6:**\n",
    "\n",
    "Os casos de Chikungunya registrados por semana no estado de Pernambuco \n",
    "durante um período são:  \n",
    "\n",
    "[12, 15, 10, 18, 20, 13, 16, 25, 11, 14, 17, 19, 12, 16, 22, 14, 18, \n",
    "35, 15, 17]  \n",
    "\n",
    "Calcule o Z-score para cada semana. Considerando que a distribuição pode não ser \n",
    "perfeitamente normal, quais valores você consideraria suspeitos usando um limiar \n",
    "mais conservador de +/- 2.5?\n",
    "\n",
    "---"
   ]
  },
  {
   "cell_type": "code",
   "execution_count": 22,
   "id": "a4a53470",
   "metadata": {},
   "outputs": [],
   "source": [
    "casos = [12, 15, 10, 18, 20, 13, 16, 25, 11, 14, 17, 19, 12, 16, 22, 14, 18, 35, 15, 17]"
   ]
  },
  {
   "cell_type": "code",
   "execution_count": 23,
   "id": "eb2e7ac9",
   "metadata": {},
   "outputs": [],
   "source": [
    "media_casos = np.mean(casos)\n",
    "desvio_casos = np.std(casos)\n",
    "z_score_casos = (casos - media_casos) / desvio_casos"
   ]
  },
  {
   "cell_type": "code",
   "execution_count": 24,
   "id": "8f46f7cb",
   "metadata": {},
   "outputs": [
    {
     "name": "stdout",
     "output_type": "stream",
     "text": [
      "z_score = 3.276542052137435. Outliers 35 casos.\n"
     ]
    }
   ],
   "source": [
    "for indice_casos, c in enumerate(z_score_casos):\n",
    "    if c <= -2.5 or c >= 2.5:\n",
    "        print(f'z_score = {c}. Outliers {casos[indice_casos]} casos.')"
   ]
  }
 ],
 "metadata": {
  "kernelspec": {
   "display_name": "venv",
   "language": "python",
   "name": "python3"
  },
  "language_info": {
   "codemirror_mode": {
    "name": "ipython",
    "version": 3
   },
   "file_extension": ".py",
   "mimetype": "text/x-python",
   "name": "python",
   "nbconvert_exporter": "python",
   "pygments_lexer": "ipython3",
   "version": "3.12.3"
  }
 },
 "nbformat": 4,
 "nbformat_minor": 5
}
