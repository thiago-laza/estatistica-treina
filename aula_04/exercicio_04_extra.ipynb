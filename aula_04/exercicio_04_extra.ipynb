{
 "cells": [
  {
   "cell_type": "markdown",
   "id": "9f588b9b",
   "metadata": {},
   "source": [
    "\n",
    "\n",
    "**Instruções Gerais:**\n",
    "\n",
    "Para cada conjunto de dados abaixo, realize as seguintes análises:\n",
    "\n",
    "1.  **Z-score:**\n",
    "    * Calcule a média e o desvio padrão do conjunto de dados.\n",
    "    * Calcule o Z-score para cada ponto de dado.\n",
    "    * Identifique os outliers considerando um limiar de Z-score de +/- 3.\n",
    "2.  **Intervalo Interquartil (IIQ):**\n",
    "    * Calcule o primeiro quartil (Q1) e o terceiro quartil (Q3).\n",
    "    * Calcule o IIQ (Q3 - Q1).\n",
    "    * Determine o limite inferior (Q1 - 1.5 \\* IIQ) e o limite superior (Q3 + 1.5 \\* IIQ).\n",
    "    * Identifique os outliers como os pontos de dados fora desses limites.\n",
    "3.  **Boxplot:**\n",
    "    * Crie um boxplot para o conjunto de dados.\n",
    "    * Visualize e identifique os outliers no boxplot.\n",
    "\n",
    "**Questões:**\n",
    "\n",
    "1.      Dados: Pontuações de um teste: \\[75, 82, 90, 68, 78, 85, 92, 70, 76, 88] [cite: 1]\n",
    " [cite: 2]\n",
    "3.      Dados: Idades de participantes de um congresso: \\[28, 35, 42, 28, 30, 35, 45, 28, 32, 38, 40, 35, 28, 31, 36] [cite: 3]\n",
    "4.      Dados: Tempo de reação (em segundos): \\[0.25, 0.30, 0.28, 0.35, 0.26, 0.32, 0.29, 0.31] [cite: 4]\n",
    "5.      Dados: Número de filhos por família: \\[2, 1, 3, 2, 8, 4, 2, 2, 1, 3] [cite: 5]\n",
    "6.      Dados: Preços de um livro em reais: \\[45.50, 48.00, 46.20, 47.50, 46.20] [cite: 7]\n",
    "7.      Dados: Alturas de plantas (em metros): \\[1.5, 1.8, 1.6, 2.0, 1.7, 1.8, 1.9, 1.6, 1.7, 1.8, 2.1, 1.7] [cite: 9]\n",
    "8.      Dados: E-mails recebidos por dia útil: \\[15, 22, 18, 25, 20, 22] [cite: 10]\n",
    "9.      Dados: Notas de um aluno: \\[7.0, 8.0, 6.5, 9.0, 7.5, 8.5, 7.0] [cite: 11]\n",
    "10.      Dados: Duração de chamadas telefônicas (em minutos): \\[3, 5, 2, 8, 4, 4, 6, 3, 5, 7] [cite: 12]\n",
    "11.      Dados: Temperaturas em Recife (Celsius): \\[28, 30, 29, 31, 28, 32, 30] [cite: 14]\n",
    "12.      Dados: Cliques em um anúncio online: \\[150, 165, 140, 170, 155] [cite: 15]\n",
    "13.      Dados: Alturas de jogadores de basquete (cm): \\[195, 202, 188, 205, 198, 200, 192, 203] [cite: 16]\n",
    "14.      Dados: Tempo de espera em fila de banco (minutos): \\[5, 8, 3, 9, 6, 7, 4, 10, 5, 8] [cite: 18]\n",
    "15.      Dados: Livros lidos por pessoas em um ano: \\[2, 5, 1, 8, 3, 3, 6, 4, 2, 7, 4, 5] [cite: 19]\n",
    "16.      Dados: Salários em mil reais: \\[3.5, 4.0, 3.8, 4.2, 3.6, 5.5, 3.9] [cite: 21]\n",
    "17.      Dados: Notas em 6 provas: \\[7.0, 8.5, 6.5, 9.0, 7.5, 8.0] [cite: 23]\n",
    "18.      Dados: Retorno percentual de um investimento: \\[1.2, 0.8, 1.5, 0.5, 1.0] [cite: 24]\n",
    "19.      Dados: Idades de participantes de um grupo de estudo: \\[22, 25, 28, 21, 30, 24, 26, 23, 27] [cite: 25]\n",
    "20.      Dados: Leituras de pressão (PSI): \\[10.2, 10.5, 9.8, 10.7, 10.0, 10.3, 10.1] [cite: 27]\n",
    "\n"
   ]
  },
  {
   "cell_type": "markdown",
   "id": "b3cb8d9d",
   "metadata": {},
   "source": [
    "---\n",
    "Bibliotecas"
   ]
  },
  {
   "cell_type": "code",
   "execution_count": 46,
   "id": "7afaa4af",
   "metadata": {},
   "outputs": [],
   "source": [
    "import numpy as np\n",
    "import matplotlib.pyplot as plt"
   ]
  },
  {
   "cell_type": "markdown",
   "id": "9eae0336",
   "metadata": {},
   "source": [
    "---\n",
    "1.      Dados: Pontuações de um teste: \\[75, 82, 90, 68, 78, 85, 92, 70, 76, 88] "
   ]
  },
  {
   "cell_type": "code",
   "execution_count": 41,
   "id": "6c9d168e",
   "metadata": {},
   "outputs": [],
   "source": [
    "# z_score\n",
    "\n",
    "import numpy as np\n",
    "\n",
    "pontuacao = [75, 82, 90, 68, 78, 85, 92, 95, 70, 76, 88]\n",
    "\n",
    "pontuacao_media = np.mean(pontuacao)\n",
    "pontuacao_desvio = np.std(pontuacao)\n",
    "pontuacao_z_score = (pontuacao - pontuacao_media) / pontuacao_desvio\n",
    "\n",
    "for pontuacao_indice, p in enumerate(pontuacao_z_score):\n",
    "    if p <= -3 or p >= 3:\n",
    "        print(f'z_score = {p}. Outliers {pontuacao[pontuacao_indice]}')"
   ]
  },
  {
   "cell_type": "code",
   "execution_count": 42,
   "id": "b7878f2a",
   "metadata": {},
   "outputs": [],
   "source": [
    "# Intervalo interquatil(QII)\n",
    "import numpy as np\n",
    "\n",
    "pontuacao = [75, 82, 90, 68, 78, 85, 92, 95, 70, 76, 88]\n",
    "\n",
    "pontuacao_q1 = np.percentile(pontuacao, 25)\n",
    "pontuacao_q3 = np.percentile(pontuacao, 75)\n",
    "pontuacao_qii = pontuacao_q3 - pontuacao_q1\n",
    "\n",
    "pontuacao_limite_inferior = pontuacao_q1 - 1.5*pontuacao_qii\n",
    "pontuacao_limite_superior = pontuacao_q3 + 1.5*pontuacao_qii\n",
    "\n",
    "pontuacao_intervalo = (np.float64(pontuacao_limite_inferior), np.float64(pontuacao_limite_superior))\n",
    "\n",
    "for p in pontuacao:\n",
    "    if p <= pontuacao_limite_inferior or p >= pontuacao_limite_superior:\n",
    "        print(f'Pontuacao {p} outlier para o intervalo {pontuacao_intervalo}')"
   ]
  },
  {
   "cell_type": "code",
   "execution_count": 43,
   "id": "66206e62",
   "metadata": {},
   "outputs": [
    {
     "data": {
      "image/png": "[encoded data removed]",
      "text/plain": [
       "<Figure size 640x480 with 1 Axes>"
      ]
     },
     "metadata": {},
     "output_type": "display_data"
    }
   ],
   "source": [
    "#Boxplot\n",
    "\n",
    "pontuacao = [75, 82, 90, 68, 78, 85, 92, 95, 70, 76, 88]\n",
    "\n",
    "plt.boxplot(pontuacao)\n",
    "plt.title('Pontuacao no teste')\n",
    "plt.ylabel('Pontucao')\n",
    "plt.grid()\n"
   ]
  },
  {
   "cell_type": "markdown",
   "id": "bce6bc75",
   "metadata": {},
   "source": [
    "---\n",
    "2.      Dados: Unidades vendidas de um produto em 7 dias: \\[25, 30, 28, 35, 32, 30, 27]"
   ]
  },
  {
   "cell_type": "code",
   "execution_count": null,
   "id": "abcc1948",
   "metadata": {
    "vscode": {
     "languageId": "markdown"
    }
   },
   "outputs": [
    {
     "name": "stdout",
     "output_type": "stream",
     "text": [
      "34.06666666666667\n"
     ]
    }
   ],
   "source": [
    "# z_score\n",
    "\n",
    "idades = [28, 35, 42, 28, 30, 35, 45, 28, 32, 38, 40, 35, 28, 31, 36]\n",
    "\n",
    "idades_media = np.mean(idades)\n",
    "\n",
    "\n"
   ]
  }
 ],
 "metadata": {
  "kernelspec": {
   "display_name": "venv",
   "language": "python",
   "name": "python3"
  },
  "language_info": {
   "codemirror_mode": {
    "name": "ipython",
    "version": 3
   },
   "file_extension": ".py",
   "mimetype": "text/x-python",
   "name": "python",
   "nbconvert_exporter": "python",
   "pygments_lexer": "ipython3",
   "version": "3.13.0"
  }
 },
 "nbformat": 4,
 "nbformat_minor": 5
}
