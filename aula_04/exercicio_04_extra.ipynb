{
 "cells": [
  {
   "cell_type": "markdown",
   "id": "9f588b9b",
   "metadata": {},
   "source": [
    "\n",
    "\n",
    "**Instruções Gerais:**\n",
    "\n",
    "Para cada conjunto de dados abaixo, realize as seguintes análises:\n",
    "\n",
    "1.  **Z-score:**\n",
    "    * Calcule a média e o desvio padrão do conjunto de dados.\n",
    "    * Calcule o Z-score para cada ponto de dado.\n",
    "    * Identifique os outliers considerando um limiar de Z-score de +/- 3.\n",
    "2.  **Intervalo Interquartil (IIQ):**\n",
    "    * Calcule o primeiro quartil (Q1) e o terceiro quartil (Q3).\n",
    "    * Calcule o IIQ (Q3 - Q1).\n",
    "    * Determine o limite inferior (Q1 - 1.5 \\* IIQ) e o limite superior (Q3 + 1.5 \\* IIQ).\n",
    "    * Identifique os outliers como os pontos de dados fora desses limites.\n",
    "3.  **Boxplot:**\n",
    "    * Crie um boxplot para o conjunto de dados.\n",
    "    * Visualize e identifique os outliers no boxplot.\n",
    "\n",
    "**Questões:**\n",
    "\n",
    "1.      Dados: Pontuações de um teste: \\[75, 82, 90, 68, 78, 85, 92, 70, 76, 88] [cite: 1]\n",
    "2.      Dados: Unidades vendidas de um produto em 7 dias: \\[25, 30, 28, 35, 32, 30, 27] [cite: 2]\n",
    "3.      Dados: Idades de participantes de um congresso: \\[28, 35, 42, 28, 30, 35, 45, 28, 32, 38, 40, 35, 28, 31, 36] [cite: 3]\n",
    "4.      Dados: Tempo de reação (em segundos): \\[0.25, 0.30, 0.28, 0.35, 0.26, 0.32, 0.29, 0.31] [cite: 4]\n",
    "5.      Dados: Número de filhos por família: \\[2, 1, 3, 2, 8, 4, 2, 2, 1, 3] [cite: 5]\n",
    "6.      Dados: Preços de um livro em reais: \\[45.50, 48.00, 46.20, 47.50, 46.20] [cite: 7]\n",
    "7.      Dados: Alturas de plantas (em metros): \\[1.5, 1.8, 1.6, 2.0, 1.7, 1.8, 1.9, 1.6, 1.7, 1.8, 2.1, 1.7] [cite: 9]\n",
    "8.      Dados: E-mails recebidos por dia útil: \\[15, 22, 18, 25, 20, 22] [cite: 10]\n",
    "9.      Dados: Notas de um aluno: \\[7.0, 8.0, 6.5, 9.0, 7.5, 8.5, 7.0] [cite: 11]\n",
    "10.      Dados: Duração de chamadas telefônicas (em minutos): \\[3, 5, 2, 8, 4, 4, 6, 3, 5, 7] [cite: 12]\n",
    "11.      Dados: Temperaturas em Recife (Celsius): \\[28, 30, 29, 31, 28, 32, 30] [cite: 14]\n",
    "12.      Dados: Cliques em um anúncio online: \\[150, 165, 140, 170, 155] [cite: 15]\n",
    "13.      Dados: Alturas de jogadores de basquete (cm): \\[195, 202, 188, 205, 198, 200, 192, 203] [cite: 16]\n",
    "14.      Dados: Tempo de espera em fila de banco (minutos): \\[5, 8, 3, 9, 6, 7, 4, 10, 5, 8] [cite: 18]\n",
    "15.      Dados: Livros lidos por pessoas em um ano: \\[2, 5, 1, 8, 3, 3, 6, 4, 2, 7, 4, 5] [cite: 19]\n",
    "16.      Dados: Salários em mil reais: \\[3.5, 4.0, 3.8, 4.2, 3.6, 5.5, 3.9] [cite: 21]\n",
    "17.      Dados: Notas em 6 provas: \\[7.0, 8.5, 6.5, 9.0, 7.5, 8.0] [cite: 23]\n",
    "18.      Dados: Retorno percentual de um investimento: \\[1.2, 0.8, 1.5, 0.5, 1.0] [cite: 24]\n",
    "19.      Dados: Idades de participantes de um grupo de estudo: \\[22, 25, 28, 21, 30, 24, 26, 23, 27] [cite: 25]\n",
    "20.      Dados: Leituras de pressão (PSI): \\[10.2, 10.5, 9.8, 10.7, 10.0, 10.3, 10.1] [cite: 27]\n",
    "\n"
   ]
  }
 ],
 "metadata": {
  "kernelspec": {
   "display_name": "venv",
   "language": "python",
   "name": "python3"
  },
  "language_info": {
   "name": "python",
   "version": "3.12.3"
  }
 },
 "nbformat": 4,
 "nbformat_minor": 5
}
