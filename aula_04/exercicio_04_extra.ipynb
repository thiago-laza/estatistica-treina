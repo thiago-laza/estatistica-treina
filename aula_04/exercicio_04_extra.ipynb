{
 "cells": [
  {
   "cell_type": "markdown",
   "id": "9f588b9b",
   "metadata": {},
   "source": [
    "\n",
    "\n",
    "\n",
    "---\n",
    "\n",
    "### **Instruções Gerais:**\n",
    "\n",
    "Para cada conjunto de dados abaixo, realize as seguintes análises:\n",
    "\n",
    "1.  **Z-score:**\n",
    "    * Calcule a **média** e o **desvio padrão** do conjunto de dados.\n",
    "    * Calcule o **Z-score** para cada ponto de dado.\n",
    "    * Identifique os **outliers** considerando um limiar de Z-score de **+/- 3**.\n",
    "2.  **Intervalo Interquartil (IIQ):**\n",
    "    * Calcule o **primeiro quartil (Q1)** e o **terceiro quartil (Q3)**.\n",
    "    * Calcule o **IIQ** ($Q3 - Q1$).\n",
    "    * Determine o **limite inferior** ($Q1 - 1.5 \\times IIQ$) e o **limite superior** ($Q3 + 1.5 \\times IIQ$).\n",
    "    * Identifique os **outliers** como os pontos de dados fora desses limites.\n",
    "3.  **Boxplot:**\n",
    "    * Crie um **boxplot** para o conjunto de dados.\n",
    "    * Visualize e identifique os **outliers** no boxplot.\n",
    "\n",
    "---\n",
    "\n",
    "### **Questões:**\n",
    "\n",
    "1.  **Dados: Pontuações de um teste:** $[75, 82, 90, 68, 78, 85, 92, 70, 76, 88, 15, 110]$\n",
    "2.  **Dados: Idades de participantes de um congresso:** $[28, 35, 42, 28, 30, 35, 45, 28, 32, 38, 40, 35, 28, 31, 36, 65, 12]$\n",
    "3.  **Dados: Tempo de reação (em segundos):** $[0.25, 0.30, 0.28, 0.35, 0.26, 0.32, 0.29, 0.31, 1.5, 0.1]$\n",
    "4.  **Dados: Número de filhos por família:** $[2, 1, 3, 2, 8, 4, 2, 2, 1, 3, 15]$\n",
    "5.  **Dados: Preços de um livro em reais:** $[45.50, 48.00, 46.20, 47.50, 46.20, 150.00, 20.00]$\n",
    "6.  **Dados: Alturas de plantas (em metros):** $[1.5, 1.8, 1.6, 2.0, 1.7, 1.8, 1.9, 1.6, 1.7, 1.8, 2.1, 1.7, 5.0, 0.5]$\n",
    "7.  **Dados: E-mails recebidos por dia útil:** $[15, 22, 18, 25, 20, 22, 100, 5]$\n",
    "8.  **Dados: Notas de um aluno:** $[7.0, 8.0, 6.5, 9.0, 7.5, 8.5, 7.0, 2.0, 10.0]$\n",
    "9.  **Dados: Duração de chamadas telefônicas (em minutos):** $[3, 5, 2, 8, 4, 4, 6, 3, 5, 7, 20, 1]$\n",
    "10. **Dados: Temperaturas em Recife (Celsius):** $[28, 30, 29, 31, 28, 32, 30, 40, 15]$\n",
    "11. **Dados: Cliques em um anúncio online:** $[150, 165, 140, 170, 155, 500, 10]$\n",
    "12. **Dados: Alturas de jogadores de basquete (cm):** $[195, 202, 188, 205, 198, 200, 192, 203, 220, 160]$\n",
    "13. **Dados: Tempo de espera em fila de banco (minutos):** $[5, 8, 3, 9, 6, 7, 4, 10, 5, 8, 30, 1]$\n",
    "14. **Dados: Livros lidos por pessoas em um ano:** $[2, 5, 1, 8, 3, 3, 6, 4, 2, 7, 4, 5, 25, 0]$\n",
    "15. **Dados: Salários em mil reais:** $[3.5, 4.0, 3.8, 4.2, 3.6, 5.5, 3.9, 15.0, 1.0]$\n",
    "16. **Dados: Notas em 6 provas:** $[7.0, 8.5, 6.5, 9.0, 7.5, 8.0, 3.0, 10.0]$\n",
    "17. **Dados: Retorno percentual de um investimento:** $[1.2, 0.8, 1.5, 0.5, 1.0, 5.0, -2.0]$\n",
    "18. **Dados: Idades de participantes de um grupo de estudo:** $[22, 25, 28, 21, 30, 24, 26, 23, 27, 45, 18]$\n",
    "19. **Dados: Leituras de pressão (PSI):** $[10.2, 10.5, 9.8, 10.7, 10.0, 10.3, 10.1, 15.0, 5.0]$\n",
    "\n",
    "---\n",
    "\n"
   ]
  },
  {
   "cell_type": "markdown",
   "id": "b3cb8d9d",
   "metadata": {},
   "source": [
    "---\n",
    "Bibliotecas"
   ]
  },
  {
   "cell_type": "markdown",
   "id": "9eae0336",
   "metadata": {},
   "source": [
    "---\n",
    "1.      Dados: Pontuações de um teste: \\[75, 82, 90, 68, 78, 85, 92, 70, 76, 88] "
   ]
  },
  {
   "cell_type": "code",
   "execution_count": 46,
   "id": "6c9d168e",
   "metadata": {},
   "outputs": [
    {
     "name": "stdout",
     "output_type": "stream",
     "text": [
      "z_score = -2.8712073822711495. Outliers 15\n"
     ]
    }
   ],
   "source": [
    "# z_score\n",
    "\n",
    "import numpy as np\n",
    "\n",
    "pontuacao = [75,82,90,68,78,85,92,70,76,88,15,110]\n",
    "\n",
    "pontuacao_media = np.mean(pontuacao)\n",
    "pontuacao_desvio = np.std(pontuacao)\n",
    "pontuacao_z_score = (np.array(pontuacao) - pontuacao_media) / pontuacao_desvio\n",
    "\n",
    "for pontuacao_indice, p in enumerate(pontuacao_z_score):\n",
    "    if p <= -2 or p >= 2:\n",
    "        print(f'z_score = {p}. Outliers {pontuacao[pontuacao_indice]}')"
   ]
  },
  {
   "cell_type": "code",
   "execution_count": 38,
   "id": "b7878f2a",
   "metadata": {},
   "outputs": [
    {
     "name": "stdout",
     "output_type": "stream",
     "text": [
      "Pontuacao 15 outlier para o intervalo (51.625, 110.625)\n"
     ]
    }
   ],
   "source": [
    "# Intervalo interquatil(QII)\n",
    "import numpy as np\n",
    "\n",
    "pontuacao = [75,82,90,68,78,85,92,70,76,88,15,110]\n",
    "\n",
    "pontuacao_q1 = np.percentile(pontuacao, 25)\n",
    "pontuacao_q3 = np.percentile(pontuacao, 75)\n",
    "pontuacao_qii = pontuacao_q3 - pontuacao_q1\n",
    "\n",
    "pontuacao_limite_inferior = float(pontuacao_q1 - 1.5*pontuacao_qii)\n",
    "pontuacao_limite_superior = float(pontuacao_q3 + 1.5*pontuacao_qii)\n",
    "\n",
    "pontuacao_intervalo = (pontuacao_limite_inferior, pontuacao_limite_superior)\n",
    "\n",
    "for p in pontuacao:\n",
    "    if p <= pontuacao_limite_inferior or p >= pontuacao_limite_superior:\n",
    "        print(f'Pontuacao {p} outlier para o intervalo {pontuacao_intervalo}')"
   ]
  },
  {
   "cell_type": "code",
   "execution_count": 30,
   "id": "66206e62",
   "metadata": {},
   "outputs": [
    {
     "data": {
      "image/png": "[encoded data removed]",
      "text/plain": [
       "<Figure size 640x480 with 1 Axes>"
      ]
     },
     "metadata": {},
     "output_type": "display_data"
    }
   ],
   "source": [
    "#Boxplot\n",
    "\n",
    "import matplotlib.pyplot as plt\n",
    "pontuacao = [75,82,90,68,78,85,92,70,76,88,15,110]\n",
    "\n",
    "plt.boxplot(pontuacao)\n",
    "plt.title('Pontuacao no teste')\n",
    "plt.ylabel('Pontucao')\n",
    "plt.grid()\n"
   ]
  },
  {
   "cell_type": "markdown",
   "id": "bce6bc75",
   "metadata": {},
   "source": [
    "---\n",
    "2.  **Dados: Idades de participantes de um congresso:** $[28, 35, 42, 28, 30, 35, 45, 28, 32, 38, 40, 35, 28, 31, 36, 65, 12"
   ]
  },
  {
   "cell_type": "code",
   "execution_count": 44,
   "id": "ec1e46ce",
   "metadata": {},
   "outputs": [
    {
     "name": "stdout",
     "output_type": "stream",
     "text": [
      "Outlier: idade 65 e z_score 2.9104713764503582\n",
      "Outlier: idade 12 e z_score -2.1617427631662234\n"
     ]
    }
   ],
   "source": [
    "# z_score\n",
    "\n",
    "idades = [28,35,42,28,30,35,45,28,32,38,40,35,28,31,36,65,12]\n",
    "\n",
    "idades_media = np.mean(idades)\n",
    "idades_desvio = np.std(idades)\n",
    "idades_z_score = (np.array(idades) - idades_media) / idades_desvio\n",
    "\n",
    "for indice, z_score in enumerate(idades_z_score):\n",
    "    if z_score <= -1 or z_score >= 1:\n",
    "        print(f'Outlier: idade {idades[indice]} e z_score {z_score}')"
   ]
  },
  {
   "cell_type": "code",
   "execution_count": 35,
   "id": "7578738c",
   "metadata": {},
   "outputs": [
    {
     "name": "stdout",
     "output_type": "stream",
     "text": [
      "outlier 65 ano. Fora do intervalo (13.0, 53.0)\n",
      "outlier 12 ano. Fora do intervalo (13.0, 53.0)\n"
     ]
    }
   ],
   "source": [
    "# Intervalo interquartil(QII)\n",
    "\n",
    "idades = [28,35,42,28,30,35,45,28,32,38,40,35,28,31,36,65,12]\n",
    "\n",
    "idades_q1 = np.percentile(idades, 25)\n",
    "idades_q3 = np.percentile(idades, 75)\n",
    "idades_iiq = idades_q3 - idades_q1\n",
    "\n",
    "idades_limite_inferior = float(idades_q1 - 1.5*idades_iiq)\n",
    "idades_limite_supuerior = float(idades_q3 + 1.5*idades_iiq)\n",
    "\n",
    "idades_intervalo = (idades_limite_inferior, idades_limite_supuerior)\n",
    "\n",
    "for i in idades:\n",
    "    if i <= idades_limite_inferior or i >= idades_limite_supuerior:\n",
    "        print(f'outlier {i} ano. Fora do intervalo {idades_intervalo}')\n"
   ]
  },
  {
   "cell_type": "code",
   "execution_count": 39,
   "id": "9111cc5b",
   "metadata": {},
   "outputs": [
    {
     "data": {
      "image/png": "[encoded data removed]",
      "text/plain": [
       "<Figure size 640x480 with 1 Axes>"
      ]
     },
     "metadata": {},
     "output_type": "display_data"
    }
   ],
   "source": [
    "# Boxplot\n",
    "\n",
    "idades = [28,35,42,28,30,35,45,28,32,38,40,35,28,31,36,65,12]\n",
    "\n",
    "plt.boxplot(idades)\n",
    "plt.title('idades dos participantes em um congresso')\n",
    "plt.ylabel('idades')\n",
    "plt.grid()"
   ]
  },
  {
   "cell_type": "markdown",
   "id": "941045a3",
   "metadata": {},
   "source": [
    "---\n",
    "Dados: Tempo de reação (em segundos): [0.25,0.30,0.28,0.35,0.26,0.32,0.29,0.31,1.5,0.1]"
   ]
  },
  {
   "cell_type": "code",
   "execution_count": 50,
   "id": "9dbecc45",
   "metadata": {},
   "outputs": [
    {
     "name": "stdout",
     "output_type": "stream",
     "text": [
      "Outliers: 1.5. z_score: 2.955381085502473\n"
     ]
    }
   ],
   "source": [
    "# z_score\n",
    "\n",
    "tempo_reacao = [0.25,0.30,0.28,0.35,0.26,0.32,0.29,0.31,1.5,0.1]\n",
    "\n",
    "tempo_media = np.mean(tempo_reacao)\n",
    "tempo_desvio = np.std(tempo_reacao)\n",
    "tempo_reacao_z_score = (np.array(tempo_reacao) - tempo_media) / tempo_desvio\n",
    "\n",
    "for tempo_reacao_indice, t in enumerate(tempo_reacao_z_score):\n",
    "    if t <= -1 or t >= 1:\n",
    "        print(f'Outliers: {tempo_reacao[tempo_reacao_indice]}. z_score: {t}')"
   ]
  },
  {
   "cell_type": "code",
   "execution_count": 47,
   "id": "3f51bc7e",
   "metadata": {},
   "outputs": [
    {
     "name": "stdout",
     "output_type": "stream",
     "text": [
      "1.5 outlier fora do intervalo (0.18625000000000003, 0.39625)\n",
      "0.1 outlier fora do intervalo (0.18625000000000003, 0.39625)\n"
     ]
    }
   ],
   "source": [
    "# Intervalo interquartil(QII)\n",
    "\n",
    "tempo_reacao = [0.25,0.30,0.28,0.35,0.26,0.32,0.29,0.31,1.5,0.1]\n",
    "\n",
    "tempo_reacao_q1 = np.percentile(tempo_reacao, 25)\n",
    "tempo_reacao_q3 = np.percentile(tempo_reacao, 75)\n",
    "tempo_reacao_qii = tempo_reacao_q3 - tempo_reacao_q1\n",
    "\n",
    "tempo_reacao_limite_inferior = float(tempo_reacao_q1 - 1.5*tempo_reacao_qii)\n",
    "tempo_reacao_limite_superior = float(tempo_reacao_q3 + 1.5*tempo_reacao_qii)\n",
    "\n",
    "tempo_reacao_intervalo = (tempo_reacao_limite_inferior, tempo_reacao_limite_superior)\n",
    "\n",
    "for t in tempo_reacao:\n",
    "    if t <= tempo_reacao_limite_inferior or t >= tempo_reacao_limite_superior:\n",
    "        print(f'{t} outlier fora do intervalo {tempo_reacao_intervalo}')\n",
    "\n",
    "\n"
   ]
  },
  {
   "cell_type": "code",
   "execution_count": 48,
   "id": "a77aa8a5",
   "metadata": {},
   "outputs": [
    {
     "data": {
      "image/png": "[encoded data removed]",
      "text/plain": [
       "<Figure size 640x480 with 1 Axes>"
      ]
     },
     "metadata": {},
     "output_type": "display_data"
    }
   ],
   "source": [
    "# Boxplot\n",
    "\n",
    "tempo_reacao = [0.25,0.30,0.28,0.35,0.26,0.32,0.29,0.31,1.5,0.1]\n",
    "\n",
    "plt.boxplot(tempo_reacao)\n",
    "plt.title('Tempo de reacao')\n",
    "plt.ylabel('tempo')\n",
    "plt.grid()"
   ]
  },
  {
   "cell_type": "markdown",
   "id": "1df7e0fb",
   "metadata": {},
   "source": [
    "---\n",
    "4. Dados: Número de filhos por família: [2,1,3,2,8,4,2,2,1,3,15]"
   ]
  },
  {
   "cell_type": "code",
   "execution_count": 51,
   "id": "48f0e860",
   "metadata": {},
   "outputs": [
    {
     "name": "stdout",
     "output_type": "stream",
     "text": [
      "Outlier 8. z_score 1.0318278779506243\n",
      "Outlier 15. z_score 2.797400024666137\n"
     ]
    }
   ],
   "source": [
    "# z_score\n",
    "\n",
    "filhos = [2,1,3,2,8,4,2,2,1,3,15]\n",
    "\n",
    "filhos_media = np.mean(filhos)\n",
    "filhos_desvio = np.std(filhos)\n",
    "filhos_z_score = (np.array(filhos) - filhos_media) / filhos_desvio\n",
    "\n",
    "for filhos_indice, f in enumerate(filhos_z_score):\n",
    "    if f <= -1 or f >= 1:\n",
    "        print(f'Outlier {filhos[filhos_indice]}. z_score {f}')"
   ]
  },
  {
   "cell_type": "code",
   "execution_count": 57,
   "id": "12c3fe0d",
   "metadata": {},
   "outputs": [
    {
     "name": "stdout",
     "output_type": "stream",
     "text": [
      "8 outlier. Fora do intervalo (-0.25, 5.75)\n",
      "15 outlier. Fora do intervalo (-0.25, 5.75)\n"
     ]
    }
   ],
   "source": [
    "# Intervalo interquartil(QII)\n",
    "\n",
    "filhos = [2,1,3,2,8,4,2,2,1,3,15]\n",
    "\n",
    "filhos_q1 = np.percentile(filhos, 25)\n",
    "filhos_q3 = np.percentile(filhos, 75)\n",
    "filhos_qii = filhos_q3 - filhos_q1\n",
    "\n",
    "filhos_limite_inferiro = float(filhos_q1 - 1.5*filhos_qii)\n",
    "filhos_limite_superior = float(filhos_q3 + 1.5*filhos_qii)\n",
    "\n",
    "filhos_intervalo = (filhos_limite_inferiro, filhos_limite_superior)\n",
    "\n",
    "for f in filhos:\n",
    "    if f <= filhos_limite_inferiro or f >= filhos_limite_superior:\n",
    "        print(f'{f} outlier. Fora do intervalo {filhos_intervalo}')"
   ]
  },
  {
   "cell_type": "code",
   "execution_count": 53,
   "id": "c79285df",
   "metadata": {},
   "outputs": [
    {
     "data": {
      "image/png": "[encoded data removed]",
      "text/plain": [
       "<Figure size 640x480 with 1 Axes>"
      ]
     },
     "metadata": {},
     "output_type": "display_data"
    }
   ],
   "source": [
    "# Boxplot\n",
    "\n",
    "filhos = [2,1,3,2,8,4,2,2,1,3,15]\n",
    "\n",
    "plt.boxplot(filhos)\n",
    "plt.title('Numero de filhos')\n",
    "plt.ylabel('filhos')\n",
    "plt.grid()"
   ]
  },
  {
   "cell_type": "markdown",
   "id": "3815528b",
   "metadata": {},
   "source": [
    "---\n",
    "5. Dados: Preços de um livro em reais: [45.50,48.00,46.20,47.50,46.20,150.00,20.00]"
   ]
  },
  {
   "cell_type": "code",
   "execution_count": 55,
   "id": "56fcbf76",
   "metadata": {},
   "outputs": [
    {
     "name": "stdout",
     "output_type": "stream",
     "text": [
      "Outlier 150.0. z_score 2.3791345013401632\n"
     ]
    }
   ],
   "source": [
    "# z_score\n",
    "\n",
    "precos = [45.50,48.00,46.20,47.50,46.20,150.00,20.00]\n",
    "\n",
    "precos_media = np.mean(precos)\n",
    "precos_desvio = np.std(precos)\n",
    "precos_z_score = (np.array(precos) - precos_media) / precos_desvio\n",
    "\n",
    "for precos_indice, p in enumerate(precos_z_score):\n",
    "    if p <= -2 or p >= 2:\n",
    "        print(f'Outlier {precos[precos_indice]}. z_score {p}')"
   ]
  },
  {
   "cell_type": "code",
   "execution_count": 58,
   "id": "2a693f28",
   "metadata": {},
   "outputs": [
    {
     "name": "stdout",
     "output_type": "stream",
     "text": [
      "Outlier 150.0. Fora do intervalo (43.0, 50.599999999999994)\n",
      "Outlier 20.0. Fora do intervalo (43.0, 50.599999999999994)\n"
     ]
    }
   ],
   "source": [
    "# Intervalo interquatil(QII)\n",
    "\n",
    "precos = [45.50,48.00,46.20,47.50,46.20,150.00,20.00]\n",
    "\n",
    "precos_q1 = np.percentile(precos, 25)\n",
    "precos_q3 = np.percentile(precos, 75)\n",
    "precos_qii = precos_q3 - precos_q1\n",
    "\n",
    "precos_limite_inferior = float(precos_q1 - 1.5*precos_qii)\n",
    "precos_limite_superior = float(precos_q3 + 1.5*precos_qii)\n",
    "\n",
    "precos_intervalo = (precos_limite_inferior, precos_limite_superior)\n",
    "\n",
    "for p in precos:\n",
    "    if p <= precos_limite_inferior or p >= precos_limite_superior:\n",
    "        print(f'Outlier {p}. Fora do intervalo {precos_intervalo}')"
   ]
  },
  {
   "cell_type": "code",
   "execution_count": 59,
   "id": "443bb6b7",
   "metadata": {},
   "outputs": [
    {
     "data": {
      "image/png": "[encoded data removed]",
      "text/plain": [
       "<Figure size 640x480 with 1 Axes>"
      ]
     },
     "metadata": {},
     "output_type": "display_data"
    }
   ],
   "source": [
    "#Boxplot\n",
    "\n",
    "precos = [45.50,48.00,46.20,47.50,46.20,150.00,20.00]\n",
    "\n",
    "plt.boxplot(precos)\n",
    "plt.title('Preco dos livros')\n",
    "plt.ylabel('Precos')\n",
    "plt.grid()"
   ]
  },
  {
   "cell_type": "markdown",
   "id": "20553ca1",
   "metadata": {},
   "source": [
    "---\n",
    "Dados: Alturas de plantas (em metros): [1.5,1.8,1.6,2.0,1.7,1.8,1.9,1.6,1.7,1.8,2.1,1.7,5.0,0.5]"
   ]
  },
  {
   "cell_type": "code",
   "execution_count": 60,
   "id": "b1da1679",
   "metadata": {},
   "outputs": [
    {
     "name": "stdout",
     "output_type": "stream",
     "text": [
      "Outlier 5.0. z_score 3.325558679334911\n",
      "Outlier 0.5. z_score -1.513013994986091\n"
     ]
    }
   ],
   "source": [
    "# z_score\n",
    "\n",
    "plantas = [1.5,1.8,1.6,2.0,1.7,1.8,1.9,1.6,1.7,1.8,2.1,1.7,5.0,0.5]\n",
    "\n",
    "plantas_media = np.mean(plantas)\n",
    "plantas_desvio = np.std(plantas)\n",
    "plantas_z_score = (np.array(plantas) - plantas_media) / plantas_desvio\n",
    "\n",
    "for plantas_indice, p in enumerate(plantas_z_score):\n",
    "    if p <= -1 or p >= 1:\n",
    "        print(f'Outlier {plantas[plantas_indice]}. z_score {p}')"
   ]
  },
  {
   "cell_type": "code",
   "execution_count": 61,
   "id": "40827425",
   "metadata": {},
   "outputs": [
    {
     "name": "stdout",
     "output_type": "stream",
     "text": [
      "Outlier 5.0. Fora do intervalo (1.25, 4.6875)\n",
      "Outlier 0.5. Fora do intervalo (1.25, 4.6875)\n"
     ]
    }
   ],
   "source": [
    "# Intervalo interquartil(QII)\n",
    "\n",
    "plantas = [1.5,1.8,1.6,2.0,1.7,1.8,1.9,1.6,1.7,1.8,2.1,1.7,5.0,0.5]\n",
    "\n",
    "plantas_q1 = np.percentile(plantas, 25)\n",
    "plantas_q3 = np.percentile(plantas, 75)\n",
    "plantas_q2 = plantas_q3 - plantas_q1\n",
    "\n",
    "plantas_limite_inferior = float(plantas_q1 - 1.5*plantas_q2)\n",
    "plantas_limite_superior = float(plantas_q3 + 1.5*plantas_q3)\n",
    "\n",
    "plantas_intervalo = (plantas_limite_inferior, plantas_limite_superior)\n",
    "\n",
    "for p in plantas:\n",
    "    if p <= plantas_limite_inferior or p >= plantas_limite_superior:\n",
    "        print(f'Outlier {p}. Fora do intervalo {plantas_intervalo}')\n"
   ]
  },
  {
   "cell_type": "code",
   "execution_count": 62,
   "id": "76d6518e",
   "metadata": {},
   "outputs": [
    {
     "data": {
      "image/png": "[encoded data removed]",
      "text/plain": [
       "<Figure size 640x480 with 1 Axes>"
      ]
     },
     "metadata": {},
     "output_type": "display_data"
    }
   ],
   "source": [
    "#Boxplot\n",
    "\n",
    "plantas = [1.5,1.8,1.6,2.0,1.7,1.8,1.9,1.6,1.7,1.8,2.1,1.7,5.0,0.5]\n",
    "\n",
    "plt.boxplot(plantas)\n",
    "plt.title('Altura das plantas')\n",
    "plt.ylabel('Alturas')\n",
    "plt.grid()"
   ]
  },
  {
   "cell_type": "markdown",
   "id": "b7b9df88",
   "metadata": {},
   "source": [
    "---\n",
    "7. Dados: E-mails recebidos por dia útil: [15,22,18,25,20,22,100,5]"
   ]
  },
  {
   "cell_type": "code",
   "execution_count": 64,
   "id": "2df371c3",
   "metadata": {},
   "outputs": [
    {
     "name": "stdout",
     "output_type": "stream",
     "text": [
      "Outlier 100. z_score 2.588365265192818\n"
     ]
    }
   ],
   "source": [
    "# z_score\n",
    "\n",
    "emails = [15,22,18,25,20,22,100,5]\n",
    "\n",
    "emails_media = np.mean(emails)\n",
    "emails_desvio = np.std(emails)\n",
    "emails_z_score = (np.array(emails) - emails_media) / emails_desvio\n",
    "\n",
    "for emails_indice, e in enumerate(emails_z_score):\n",
    "    if e <= -2 or e >= 2:\n",
    "        print(f'Outlier {emails[emails_indice]}. z_score {e}')"
   ]
  },
  {
   "cell_type": "code",
   "execution_count": 66,
   "id": "cd1e1733",
   "metadata": {},
   "outputs": [
    {
     "name": "stdout",
     "output_type": "stream",
     "text": [
      "Outlier 100, fora do intervalo (9.0, 31.0)\n",
      "Outlier 5, fora do intervalo (9.0, 31.0)\n"
     ]
    }
   ],
   "source": [
    "# Intervalo interquartil(QII)\n",
    "\n",
    "emails = [15,22,18,25,20,22,100,5]\n",
    "\n",
    "emails_q1 = np.percentile(emails, 25)\n",
    "emails_q3 = np.percentile(emails, 75)\n",
    "emails_q2 = emails_q3 - emails_q1\n",
    "\n",
    "emails_intervalo_inferior = float(emails_q1 - 1.5*emails_q2)\n",
    "emails_intervalo_superior = float(emails_q3 + 1.5*emails_q2)\n",
    "\n",
    "emails_intervalo = (emails_intervalo_inferior, emails_intervalo_superior)\n",
    "\n",
    "for e in emails:\n",
    "    if e <= emails_intervalo_inferior or e >= emails_intervalo_superior:\n",
    "        print(f'Outlier {e}, fora do intervalo {emails_intervalo}')"
   ]
  },
  {
   "cell_type": "code",
   "execution_count": 67,
   "id": "ed493cf4",
   "metadata": {},
   "outputs": [
    {
     "data": {
      "image/png": "[encoded data removed]",
      "text/plain": [
       "<Figure size 640x480 with 1 Axes>"
      ]
     },
     "metadata": {},
     "output_type": "display_data"
    }
   ],
   "source": [
    "#Boxplot\n",
    "\n",
    "emails = [15,22,18,25,20,22,100,5]\n",
    "\n",
    "plt.boxplot(emails)\n",
    "plt.title('Numero de emails')\n",
    "plt.ylabel('emails')\n",
    "plt.grid()"
   ]
  },
  {
   "cell_type": "markdown",
   "id": "41d50e71",
   "metadata": {},
   "source": [
    "---\n",
    "8. Dados: Notas de um aluno: [7.0,8.0,6.5,9.0,7.5,8.5,7.0,2.0,10.0]"
   ]
  },
  {
   "cell_type": "code",
   "execution_count": 70,
   "id": "679abdb6",
   "metadata": {},
   "outputs": [
    {
     "name": "stdout",
     "output_type": "stream",
     "text": [
      "Outlier 2.0. z_score -2.471077624817866\n"
     ]
    }
   ],
   "source": [
    "# z_score\n",
    "\n",
    "notas = [7.0,8.0,6.5,9.0,7.5,8.5,7.0,2.0,10.0]\n",
    "\n",
    "notas_media = np.mean(notas)\n",
    "notas_desvio = np.std(notas)\n",
    "notas_z_score = (np.array(notas) - notas_media) / notas_desvio\n",
    "\n",
    "for notas_indice, n in enumerate(notas_z_score):\n",
    "    if n <= -2 or n >= 2:\n",
    "        print(f'Outlier {notas[notas_indice]}. z_score {n}')"
   ]
  },
  {
   "cell_type": "code",
   "execution_count": 69,
   "id": "79fad9fb",
   "metadata": {},
   "outputs": [
    {
     "name": "stdout",
     "output_type": "stream",
     "text": [
      "Outlier 2.0, fora do intervalo (4.75, 10.75)\n"
     ]
    }
   ],
   "source": [
    "# Intervalo interquartil(QII)\n",
    "\n",
    "notas = [7.0,8.0,6.5,9.0,7.5,8.5,7.0,2.0,10.0]\n",
    "\n",
    "notas_q1 = np.percentile(notas, 25)\n",
    "notas_q3 = np.percentile(notas, 75)\n",
    "notas_q2 = notas_q3 - notas_q1\n",
    "\n",
    "notas_intervalo_inferior = float(notas_q1 - 1.5*notas_q2)\n",
    "notas_intervalo_superior = float(notas_q3 + 1.5*notas_q2)\n",
    "\n",
    "notas_intervalo = (notas_intervalo_inferior, notas_intervalo_superior)\n",
    "\n",
    "for n in notas:\n",
    "    if n <= notas_intervalo_inferior or n >= notas_intervalo_superior:\n",
    "        print(f'Outlier {n}, fora do intervalo {notas_intervalo}')"
   ]
  },
  {
   "cell_type": "code",
   "execution_count": 71,
   "id": "b4a80600",
   "metadata": {},
   "outputs": [
    {
     "data": {
      "image/png": "[encoded data removed]",
      "text/plain": [
       "<Figure size 640x480 with 1 Axes>"
      ]
     },
     "metadata": {},
     "output_type": "display_data"
    }
   ],
   "source": [
    "#Boxplot\n",
    "\n",
    "notas = [7.0,8.0,6.5,9.0,7.5,8.5,7.0,2.0,10.0]\n",
    "\n",
    "plt.boxplot(notas)\n",
    "plt.title('Notas do estudante X')\n",
    "plt.ylabel('notas')\n",
    "plt.grid()"
   ]
  }
 ],
 "metadata": {
  "kernelspec": {
   "display_name": "venv",
   "language": "python",
   "name": "python3"
  },
  "language_info": {
   "codemirror_mode": {
    "name": "ipython",
    "version": 3
   },
   "file_extension": ".py",
   "mimetype": "text/x-python",
   "name": "python",
   "nbconvert_exporter": "python",
   "pygments_lexer": "ipython3",
   "version": "3.13.0"
  }
 },
 "nbformat": 4,
 "nbformat_minor": 5
}
