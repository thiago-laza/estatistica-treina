{
 "cells": [
  {
   "cell_type": "markdown",
   "id": "513aa5e1",
   "metadata": {},
   "source": [
    "---"
   ]
  },
  {
   "cell_type": "markdown",
   "id": "4be4d5da",
   "metadata": {},
   "source": [
    "## Distribuição de Probabilidade Discreta "
   ]
  },
  {
   "cell_type": "markdown",
   "id": "1d21fc56",
   "metadata": {},
   "source": [
    "---"
   ]
  },
  {
   "cell_type": "markdown",
   "id": "21166254",
   "metadata": {},
   "source": [
    "** Exercício 01:** \\\n",
    "Um time de vôlei de praia de Pernambuco tem 70% de chance de vencer \n",
    "cada partida que disputa. Em um campeonato com 5 partidas, qual a probabilidade de o \n",
    "time vencer exatamente 3 partidas? (Use a distribuição Binomial)."
   ]
  },
  {
   "cell_type": "code",
   "execution_count": 18,
   "id": "127face2",
   "metadata": {},
   "outputs": [
    {
     "name": "stdout",
     "output_type": "stream",
     "text": [
      "A probabilidade do time, em 5 jogos vencer exatamente 3 jogos e: 0.3087\n"
     ]
    }
   ],
   "source": [
    "import numpy as np\n",
    "from scipy.stats import binom\n",
    "\n",
    "volei_prob_vitoria = 0.7\n",
    "volei_num_jogos = 5\n",
    "k_vitorias = 3\n",
    "\n",
    "volei_probabilidade = binom.pmf(k_vitorias, volei_num_jogos, volei_prob_vitoria)\n",
    "\n",
    "\n",
    "print(f'A probabilidade do time, em 5 jogos vencer exatamente 3 jogos e: {volei_probabilidade:.4f}')\n"
   ]
  },
  {
   "cell_type": "markdown",
   "id": "ded64e35",
   "metadata": {},
   "source": [
    "---"
   ]
  },
  {
   "cell_type": "markdown",
   "id": "5852aaf6",
   "metadata": {},
   "source": [
    "**Exercício 02:** \\\n",
    "Uma empresa de energia solar em Petrolina instala placas solares. A \n",
    "probabilidade de uma placa apresentar uma falha no primeiro ano de uso é de 2%. Se 100 \n",
    "placas são instaladas em um projeto, qual a probabilidade de nenhuma placa apresentar \n",
    "falha no primeiro ano? (Aproxime usando a distribuição de Poisson)."
   ]
  },
  {
   "cell_type": "code",
   "execution_count": null,
   "id": "b10e7eba",
   "metadata": {},
   "outputs": [
    {
     "ename": "",
     "evalue": "",
     "output_type": "error",
     "traceback": [
      "\u001b[1;31mThe kernel failed to start as the Python Environment 'Python' is no longer available. Consider selecting another kernel or refreshing the list of Python Environments."
     ]
    }
   ],
   "source": [
    "from scipy.stats import poisson\n",
    "\n",
    "solar_lambda = 2\n",
    "\n",
    "solar_probabilidade = poisson.pmf(0, solar_lambda)\n",
    "\n",
    "print(f'A probabilidade de nenhuma placa apresentar falha no primeiro ano: {solar_probabilidade:.4f}')"
   ]
  },
  {
   "cell_type": "markdown",
   "id": "93b5de8e",
   "metadata": {},
   "source": [
    "---"
   ]
  },
  {
   "cell_type": "markdown",
   "id": "175667e3",
   "metadata": {},
   "source": [
    "**Exercício 03:**\\\n",
    "Em um determinado horário da manhã, a média de chegada de jangadas à \n",
    "beira-mar de Porto de Galinhas é de 3 a cada 15 minutos. Qual a probabilidade de \n",
    "chegarem exatamente 5 jangadas nos próximos 15 minutos? (Use a distribuição de \n",
    "Poisson)."
   ]
  },
  {
   "cell_type": "code",
   "execution_count": 17,
   "id": "5a9d6551",
   "metadata": {},
   "outputs": [
    {
     "name": "stdout",
     "output_type": "stream",
     "text": [
      "A probabilidade de chegaram exatamente 5 jangadas nos proximos 15 minutos: 0.1008\n"
     ]
    }
   ],
   "source": [
    "from scipy.stats import poisson\n",
    "\n",
    "jangadas_lambda = 3\n",
    "\n",
    "jangadas_probabilidade = poisson.pmf(5, jangadas_lambda)\n",
    "\n",
    "print(f'A probabilidade de chegaram exatamente 5 jangadas nos proximos 15 minutos: {jangadas_probabilidade:.4f}')"
   ]
  },
  {
   "cell_type": "markdown",
   "id": "b59302a6",
   "metadata": {},
   "source": [
    "---"
   ]
  },
  {
   "cell_type": "markdown",
   "id": "bfbdb94b",
   "metadata": {},
   "source": [
    "Exercício 04: Em um grupo de 8 turistas visitando o Marco Zero do Recife, a probabilidade \n",
    "de um turista ser brasileiro é de 60%. Qual a probabilidade de haver pelo menos 6 turistas \n",
    "brasileiros no grupo? (Use a distribuição Binomial)."
   ]
  },
  {
   "cell_type": "code",
   "execution_count": 21,
   "id": "abf5d13b",
   "metadata": {},
   "outputs": [
    {
     "name": "stdout",
     "output_type": "stream",
     "text": [
      "A probabilidade de haver pelomenos 5 turistas brasileiros: 0.6846\n"
     ]
    }
   ],
   "source": [
    "turista_prob_brasileiro = 0.6\n",
    "\n",
    "turista_num = 8\n",
    "\n",
    "turista_k = 6\n",
    "\n",
    "turista_probabilidade = binom.cdf(turista_k - 1, turista_num, turista_prob_brasileiro)\n",
    "\n",
    "probabilidade_ao_menos_6 = 1 - turista_probabilidade\n",
    "\n",
    "print(f'A probabilidade de haver pelomenos 5 turistas brasileiros: {turista_probabilidade:.4f}')\n",
    "\n"
   ]
  }
 ],
 "metadata": {
  "kernelspec": {
   "display_name": "venv",
   "language": "python",
   "name": "python3"
  },
  "language_info": {
   "codemirror_mode": {
    "name": "ipython",
    "version": 3
   },
   "file_extension": ".py",
   "mimetype": "text/x-python",
   "name": "python",
   "nbconvert_exporter": "python",
   "pygments_lexer": "ipython3",
   "version": "3.13.0"
  }
 },
 "nbformat": 4,
 "nbformat_minor": 5
}
