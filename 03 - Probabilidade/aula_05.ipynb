{
 "cells": [
  {
   "cell_type": "markdown",
   "id": "194572c2",
   "metadata": {},
   "source": [
    "---\n",
    "# Distribuições de  Probabilidade Discretas\n",
    "Sumarizam as probabilidades de uma variável aleatória discreta.\\\n",
    "Através de uma função matemática, atribui uma probabilidade de \n",
    "saída a cada valor específico (Função massa de probabilidade)\n"
   ]
  },
  {
   "cell_type": "markdown",
   "id": "d2f611b7",
   "metadata": {},
   "source": [
    "---\n",
    "\n",
    "\n",
    "\n",
    "## Bernoulli vs. Binomial\n",
    "\n",
    "* **Distribuição de Bernoulli**: Descreve um **único experimento** (ou tentativa) que tem apenas dois resultados possíveis: sucesso (geralmente codificado como 1) ou fracasso (codificado como 0). A probabilidade de sucesso é denotada por $p$.\n",
    "    * Nos seus exercícios, quando você simulou **um único** lançamento de moeda, **uma única** verificação de e-mail ou **um único** teste de peça, e o resultado era cara/coroa, spam/não spam, aprovada/reprovada, você estava trabalhando com a **Distribuição de Bernoulli**.\n",
    "    * O código `np.random.binomial(1, p, 1)` é, na prática, uma simulação de uma variável aleatória de Bernoulli, pois o `n` (número de tentativas na Binomial) está definido como 1.\n",
    "\n",
    "* **Distribuição Binomial**: Descreve o **número de sucessos** em uma **série de $n$ experimentos de Bernoulli independentes e identicamente distribuídos** (ou seja, a probabilidade de sucesso $p$ é a mesma para cada experimento).\n",
    "    * Quando você realizou o \"bônus\" nos exercícios, simulando, por exemplo, 500 lançamentos de moeda e depois contando quantos resultaram em \"cara\" (`num_simulacoes = 500`, `cara = np.sum(lancamentos)`), você estava, de fato, trabalhando com a **Distribuição Binomial**. O resultado de interesse aqui não é o sucesso/fracasso de uma única tentativa, mas sim o **número total de sucessos** em $n$ tentativas.\n",
    "    * A variável `cara` no seu código do bônus (que conta o número de sucessos em `num_simulacoes` tentativas) segue uma distribuição Binomial com parâmetros $n = \\text{num\\_simulacoes}$ e $p = \\text{p\\_cara}$.\n",
    "\n",
    "**Em resumo:**\n",
    "\n",
    "* A **Bernoulli** é o bloco de construção: um único evento com dois resultados.\n",
    "* A **Binomial** é a soma de vários eventos de Bernoulli independentes: o número de sucessos em $n$ tentativas.\n",
    "\n",
    "Você pode pensar na Distribuição de Bernoulli como um caso especial da Distribuição Binomial onde $n=1$.\n",
    "\n",
    "Ótima observação! Isso mostra que você está compreendendo bem a relação entre essas duas distribuições fundamentais.\n"
   ]
  },
  {
   "cell_type": "markdown",
   "id": "76740d8e",
   "metadata": {},
   "source": [
    "- Exemplo"
   ]
  },
  {
   "cell_type": "code",
   "execution_count": 9,
   "id": "09cd180b",
   "metadata": {},
   "outputs": [
    {
     "name": "stdout",
     "output_type": "stream",
     "text": [
      "🙁 Você errou a questão no chute.\n",
      "\n",
      "--- Simulação de 1000 chutes ---\n",
      "Número de acertos (sucessos): 242\n",
      "Número de erros (fracassos): 758\n",
      "Probabilidade estimada de acerto: 0.24\n"
     ]
    }
   ],
   "source": [
    "import numpy as np\n",
    "\n",
    "# Probabilidade de sucesso (acertar a questão)\n",
    "p_sucesso = 0.25\n",
    "\n",
    "# Realizar um único experimento de Bernoulli (chutar uma questão)\n",
    "# 1 representa sucesso (acertar), 0 representa fracasso (errar)\n",
    "# O parâmetro 'p' é a probabilidade de sucesso.\n",
    "# O parâmetro 'size' é o número de experimentos.\n",
    "chute = np.random.binomial(1, p_sucesso, 1)\n",
    "\n",
    "if chute[0] == 1:\n",
    "  print(\"🎉 Você acertou a questão no chute!\")\n",
    "else:\n",
    "  print(\"🙁 Você errou a questão no chute.\")\n",
    "\n",
    "# Para visualizar a distribuição, podemos simular várias vezes\n",
    "num_simulacoes = 1000\n",
    "chutes = np.random.binomial(1, p_sucesso, num_simulacoes)\n",
    "\n",
    "# Contar o número de sucessos e fracassos\n",
    "sucessos = np.sum(chutes)\n",
    "fracassos = num_simulacoes - sucessos\n",
    "\n",
    "print(f\"\\n--- Simulação de {num_simulacoes} chutes ---\")\n",
    "print(f\"Número de acertos (sucessos): {sucessos}\")\n",
    "print(f\"Número de erros (fracassos): {fracassos}\")\n",
    "print(f\"Probabilidade estimada de acerto: {sucessos/num_simulacoes:.2f}\")"
   ]
  },
  {
   "cell_type": "markdown",
   "id": "8a67e9d6",
   "metadata": {},
   "source": [
    "---\n",
    "- ### Exercicio"
   ]
  },
  {
   "cell_type": "markdown",
   "id": "b23456c5",
   "metadata": {},
   "source": [
    "---\n",
    "\n",
    "**Exercício 1: Lançamento de Moeda**\n",
    "\n",
    "Uma moeda honesta é lançada.\n",
    "\n",
    "Sucesso: Obter \"Cara\".\n",
    "Fracasso: Obter \"Coroa\".\n",
    "Tarefa:\n",
    "\n",
    "- Defina a probabilidade de sucesso (obter \"Cara\").\n",
    "- Simule um único lançamento da moeda usando a distribuição de Bernoulli.\n",
    "- Imprima se o resultado foi \"Cara\" ou \"Coroa\".\n",
    "- Bônus: Simule 500 lançamentos e conte quantas vezes deu \"Cara\" e quantas deu \"Coroa\".\\\n",
    " Verifique se a proporção de \"Caras\" se aproxima da probabilidade definida."
   ]
  },
  {
   "cell_type": "code",
   "execution_count": 10,
   "id": "f0cab9b0",
   "metadata": {},
   "outputs": [
    {
     "name": "stdout",
     "output_type": "stream",
     "text": [
      "Resultado: cara\n",
      "Lancamentos 500\n",
      "numero de caras 249\n",
      "numero de coroa 251\n",
      "Probabilidade estimada de cara 0.498\n"
     ]
    }
   ],
   "source": [
    "import numpy as np\n",
    "\n",
    "p_cara = 0.5\n",
    "\n",
    "lancamento = np.random.binomial(1, p_cara, 1)\n",
    "\n",
    "if lancamento[0] == 1:\n",
    "    print('Resultado: cara')\n",
    "else:\n",
    "    print('Resultado: coroa')\n",
    "\n",
    "num_simulacoes = 500\n",
    "\n",
    "lancamentos = np.random.binomial(1, p_cara, num_simulacoes)\n",
    "\n",
    "cara = np.sum(lancamentos)\n",
    "coroa = num_simulacoes - cara\n",
    "\n",
    "print(f'Lancamentos {num_simulacoes}')\n",
    "print(f'numero de caras {cara}')\n",
    "print(f'numero de coroa {coroa}')\n",
    "print(f'Probabilidade estimada de cara {cara/num_simulacoes}')"
   ]
  },
  {
   "cell_type": "markdown",
   "id": "9d56c04a",
   "metadata": {},
   "source": [
    "---"
   ]
  },
  {
   "cell_type": "markdown",
   "id": "39336ad5",
   "metadata": {},
   "source": [
    "** Exercício 2: Verificação de E-mail Spam **\n",
    "\n",
    "Um sistema de detecção de spam analisa um e-mail.\n",
    "\n",
    "Sucesso: O e-mail é classificado como spam.\\\n",
    "Fracasso: O e-mail é classificado como não spam (ham).\\\n",
    "Considere que a probabilidade de um e-mail aleatório ser spam é de 65% (0.65).\n",
    "\n",
    "Tarefa:\n",
    "\n",
    "Defina a probabilidade de sucesso (e-mail ser spam).\\\n",
    "Simule a classificação de um único e-mail.\\\n",
    "Imprima se o e-mail foi classificado como \"Spam\" ou \"Não Spam\".\\\n",
    "Bônus: Simule a classificação de 1000 e-mails e veja quantos são classificados como spam."
   ]
  },
  {
   "cell_type": "code",
   "execution_count": 11,
   "id": "e10eafbe",
   "metadata": {},
   "outputs": [
    {
     "name": "stdout",
     "output_type": "stream",
     "text": [
      "SPAM\n",
      "e-mails classificados: 1000\n",
      "numero de spam: 651\n",
      "numero de nao spam: 349\n",
      "Probabilidade estimada de spam: 0.651\n"
     ]
    }
   ],
   "source": [
    "p_spam = 0.65\n",
    "\n",
    "evento_spam = np.random.binomial(1, p_spam, 1)\n",
    "\n",
    "if evento_spam[0] == 1:\n",
    "    print('SPAM')\n",
    "else:\n",
    "    print('NAO SPAM')\n",
    "\n",
    "num_simulacoes_spam = 1000\n",
    "\n",
    "eventos_spam = np.random.binomial(1, p_spam, num_simulacoes_spam)\n",
    "\n",
    "spam = np.sum(eventos_spam)\n",
    "n_spam = num_simulacoes_spam - spam\n",
    "\n",
    "print(f'e-mails classificados: {num_simulacoes_spam}')\n",
    "print(f'numero de spam: {spam}')\n",
    "print(f'numero de nao spam: {n_spam}')\n",
    "print(f'Probabilidade estimada de spam: {spam/num_simulacoes_spam}')"
   ]
  },
  {
   "cell_type": "markdown",
   "id": "45627eb5",
   "metadata": {},
   "source": [
    "---"
   ]
  },
  {
   "cell_type": "markdown",
   "id": "e772029e",
   "metadata": {},
   "source": [
    "** Exercício 3: Teste de Qualidade de Peça **\n",
    "\n",
    "Uma peça é produzida em uma fábrica e passa por um teste de qualidade.\n",
    "\n",
    "Sucesso: A peça é aprovada no teste (não tem defeito).\\\n",
    "Fracasso: A peça é reprovada no teste (tem defeito).\\\n",
    "Suponha que a probabilidade de uma peça ser produzida sem defeitos e ser aprovada é de 98% (0.98).\n",
    "\n",
    "Tarefa:\n",
    "\n",
    "Defina a probabilidade de sucesso (peça aprovada).\\\n",
    "Simule o teste de qualidade de uma única peça.\\\n",
    "Imprima se a peça foi \"Aprovada\" ou \"Reprovada\".\\\n",
    "Bônus: Simule o teste de 200 peças e conte quantas foram aprovadas."
   ]
  },
  {
   "cell_type": "code",
   "execution_count": 12,
   "id": "de23687e",
   "metadata": {},
   "outputs": [
    {
     "name": "stdout",
     "output_type": "stream",
     "text": [
      "Peca BOA\n",
      "Numero de pecas analisadas: 200\n",
      "Numero de pecas boas 194\n",
      "Numero de pecas defeituosas: 6\n",
      "Probabilidade estimada de pecas boas 0.97\n"
     ]
    }
   ],
   "source": [
    "p_boa = 0.98\n",
    "\n",
    "\n",
    "evento_peca_produzida = np.random.binomial(1, p_boa, 1)\n",
    "\n",
    "if evento_peca_produzida[0] == 1:\n",
    "    print('Peca BOA')\n",
    "else:\n",
    "    print('Peca DEFEITUOSA')\n",
    "\n",
    "\n",
    "num_pecas = 200\n",
    "\n",
    "evento_pecas = np.random.binomial(1, p_boa, num_pecas)\n",
    "\n",
    "boa = np.sum(evento_pecas)\n",
    "defeituosa = num_pecas - boa\n",
    "\n",
    "print(f'Numero de pecas analisadas: {num_pecas}')\n",
    "print(f'Numero de pecas boas {boa}')\n",
    "print(f'Numero de pecas defeituosas: {defeituosa}')\n",
    "print(f'Probabilidade estimada de pecas boas {boa/num_pecas}')\n",
    "\n"
   ]
  },
  {
   "cell_type": "markdown",
   "id": "a8a16fba",
   "metadata": {},
   "source": [
    "---\n",
    "\n",
    "## **Distribuição de Poisson**\n",
    "A Distribuição de Poisson é uma distribuição de probabilidade discreta que expressa a probabilidade de um determinado número de eventos ocorrer em um intervalo fixo de tempo ou espaço, se esses eventos ocorrem com uma taxa média conhecida e independentemente do tempo desde o último evento.\n",
    "\n",
    "Pense nela quando você está contando a ocorrência de algo raro em um período de tempo ou em uma área. Por exemplo:\n",
    "\n",
    "O número de clientes que chegam a uma loja em uma hora.\n",
    "O número de chamadas que um call center recebe em um minuto.\n",
    "O número de defeitos em um metro quadrado de tecido.\n",
    "O número de acidentes em uma rodovia por mês.\n",
    "O principal parâmetro da distribuição de Poisson é λ (lambda), que representa a taxa média de ocorrência de eventos no intervalo em questão. A função massa de probabilidade (FMP) para a distribuição de Poisson é:\n",
    "\n",
    "$$P(X=k) = \\frac{e^{-\\lambda} \\lambda^k}{k!}$$\n",
    " \n",
    "​\n",
    " \n",
    "\n",
    "Onde:\n",
    "\n",
    "P(X=k) é a probabilidade de ocorrerem exatamente k eventos.\n",
    "e é a base do logaritmo natural (aproximadamente 2.71828).\n",
    "λ (lambda) é a taxa média de ocorrências por intervalo.\n",
    "k é o número de ocorrências desejado (0, 1, 2, ...).\n",
    "k! é o fatorial de k.\n",
    "É importante que os eventos sejam independentes e que a taxa média λ seja constante ao longo do intervalo."
   ]
  },
  {
   "cell_type": "markdown",
   "id": "5e8c1ed5",
   "metadata": {},
   "source": [
    "**Exemplo: Chamadas para um Call Center**\n",
    "\n",
    "Imagine que um call center recebe, em média, 7 chamadas por hora. Queremos saber a probabilidade de receber um certo número de chamadas em uma hora.\n",
    "\n",
    "Neste caso, λ=7."
   ]
  },
  {
   "cell_type": "code",
   "execution_count": 13,
   "id": "6f969c7b",
   "metadata": {},
   "outputs": [
    {
     "name": "stdout",
     "output_type": "stream",
     "text": [
      "Probabilidade de receber exatamente 5 chamadas: 0.1277\n",
      "Probabilidade de receber 10 ou mais chamadas: 0.1695\n",
      "\n",
      "--- Simulação de 1000 horas ---\n",
      "Média de chamadas simuladas: 6.84\n",
      "Número mínimo de chamadas em uma hora simulada: 0\n",
      "Número máximo de chamadas em uma hora simulada: 17\n",
      "\n",
      "Frequência de chamadas observadas (ex.: 5, 6, 7, 8):\n",
      "  5 chamadas: 132 vezes\n",
      "  6 chamadas: 169 vezes\n",
      "  7 chamadas: 165 vezes\n",
      "  8 chamadas: 117 vezes\n"
     ]
    }
   ],
   "source": [
    "import numpy as np\n",
    "from scipy.stats import poisson\n",
    "\n",
    "# Taxa média de chamadas por hora (lambda)\n",
    "lambda_chamadas = 7\n",
    "\n",
    "# Qual a probabilidade de receber exatamente 5 chamadas em uma hora?\n",
    "prob_5_chamadas = poisson.pmf(5, lambda_chamadas)\n",
    "print(f\"Probabilidade de receber exatamente 5 chamadas: {prob_5_chamadas:.4f}\")\n",
    "\n",
    "# Qual a probabilidade de receber 10 ou mais chamadas em uma hora?\n",
    "# É 1 - a probabilidade de receber 0 a 9 chamadas (CDF acumulada)\n",
    "prob_10_ou_mais_chamadas = 1 - poisson.cdf(9, lambda_chamadas)\n",
    "print(f\"Probabilidade de receber 10 ou mais chamadas: {prob_10_ou_mais_chamadas:.4f}\")\n",
    "\n",
    "# Simulação de 1000 horas para ver o número de chamadas\n",
    "# O numpy.random.poisson gera amostras de uma distribuição de Poisson\n",
    "num_simulacoes = 1000\n",
    "chamadas_por_hora_simuladas = np.random.poisson(lambda_chamadas, num_simulacoes)\n",
    "\n",
    "print(f\"\\n--- Simulação de {num_simulacoes} horas ---\")\n",
    "print(f\"Média de chamadas simuladas: {np.mean(chamadas_por_hora_simuladas):.2f}\")\n",
    "print(f\"Número mínimo de chamadas em uma hora simulada: {np.min(chamadas_por_hora_simuladas)}\")\n",
    "print(f\"Número máximo de chamadas em uma hora simulada: {np.max(chamadas_por_hora_simuladas)}\")\n",
    "\n",
    "# Contar a frequência de alguns números de chamadas\n",
    "from collections import Counter\n",
    "frequencias = Counter(chamadas_por_hora_simuladas)\n",
    "print(\"\\nFrequência de chamadas observadas (ex.: 5, 6, 7, 8):\")\n",
    "for k in sorted([5, 6, 7, 8]):\n",
    "    print(f\"  {k} chamadas: {frequencias[k]} vezes\")"
   ]
  },
  {
   "cell_type": "markdown",
   "id": "b99c042f",
   "metadata": {},
   "source": [
    "---\n",
    "\n",
    "- ### Exercicios\n",
    "\n",
    "---"
   ]
  },
  {
   "cell_type": "markdown",
   "id": "3430e55d",
   "metadata": {},
   "source": [
    "**Exercício 1: Chegadas em um Restaurante**\n",
    "Um pequeno restaurante recebe, em média, 3 clientes a cada 15 minutos.\n",
    "\n",
    "\n",
    "Tarefa:\n",
    "\n",
    "Defina o valor de λ para o intervalo de 15 minutos.\\\n",
    "Usando a distribuição de Poisson, calcule a probabilidade de o restaurante receber exatamente 2 clientes nos próximos 15 minutos.\\\n",
    "Calcule a probabilidade de o restaurante receber mais de 5 clientes nos próximos 15 minutos.\\\n",
    "Bônus: Simule as chegadas de clientes em 500 intervalos de 15 minutos. Qual a média de clientes que você observou?\n"
   ]
  },
  {
   "cell_type": "code",
   "execution_count": 14,
   "id": "d19a153f",
   "metadata": {},
   "outputs": [
    {
     "name": "stdout",
     "output_type": "stream",
     "text": [
      "A probabilidade de receber exatamente 2 clientes nos proximos 15 minutos: 0.2240\n",
      "A probabilidade de receber  5 ou mais clientes nos proximos 15 minutos: 0.8320\n",
      "Media de clientes simulado: 3.0\n",
      "Numero minimo de clientes em 15 minutos simulados: 0\n",
      "Numero maximo de clientes em 15 minutos simulados: 9\n",
      "\n",
      "frequencias observadas:\n",
      "0 clientes: 2 vezes\n",
      "1 clientes: 5 vezes\n",
      "2 clientes: 29 vezes\n",
      "3 clientes: 56 vezes\n",
      "4 clientes: 84 vezes\n",
      "5 clientes: 132 vezes\n",
      "6 clientes: 169 vezes\n",
      "7 clientes: 165 vezes\n",
      "8 clientes: 117 vezes\n",
      "9 clientes: 90 vezes\n"
     ]
    }
   ],
   "source": [
    "import numpy as np\n",
    "from scipy.stats import poisson\n",
    "\n",
    "lambda_clientes = 3\n",
    "\n",
    "#probabilidade de receber exatamente 2 clientes\n",
    "prob_2_clientes = poisson.pmf(2, lambda_clientes)\n",
    "print(f'A probabilidade de receber exatamente 2 clientes nos proximos 15 minutos: {prob_2_clientes:.4f}')\n",
    "\n",
    "#probabilidade de recever maid de 5 clientes\n",
    "prob_5_ou_mais_clientes = 1 - poisson.pmf(4,lambda_clientes)\n",
    "print(f'A probabilidade de receber  5 ou mais clientes nos proximos 15 minutos: {prob_5_ou_mais_clientes:.4f}')\n",
    "\n",
    "#simulacao da chegada de clientes em 500 intervalos de 15 minutos\n",
    "num_simulacoes_clientes = 500\n",
    "clientes_por_15minutos_simulacao = np.random.poisson(lambda_clientes, num_simulacoes_clientes)\n",
    "\n",
    "print(f'Media de clientes simulado: {np.mean(clientes_por_15minutos_simulacao)}')\n",
    "print(f'Numero minimo de clientes em 15 minutos simulados: {np.min(clientes_por_15minutos_simulacao)}')\n",
    "print(f'Numero maximo de clientes em 15 minutos simulados: {np.max(clientes_por_15minutos_simulacao)}')\n",
    "\n",
    "# Frenquencia de alguns numeros de clientes\n",
    "from collections import Counter\n",
    "\n",
    "frequencia_clientes = Counter(chamadas_por_hora_simuladas)\n",
    "print('\\nfrequencias observadas:')\n",
    "for c in sorted([0,1,2,3,4,5,6,7,8,9]):\n",
    "    print(f'{c} clientes: {frequencia_clientes[c]} vezes')"
   ]
  },
  {
   "cell_type": "markdown",
   "id": "8b1851d9",
   "metadata": {},
   "source": [
    "---\n",
    "\n",
    "**Exercício 2: Defeitos em um Rolo de Fio**\n",
    "Uma fábrica produz rolos de fio, e sabe-se que há, em média, 0.5 defeitos por metro de fio.\n",
    "\n",
    "\n",
    "Tarefa:\n",
    "\n",
    "Defina o valor de λ para um metro de fio.\\\n",
    "Usando a distribuição de Poisson, calcule a probabilidade de um metro de fio ter exatamente 0 defeitos.\\\n",
    "Calcule a probabilidade de um metro de fio ter 2 ou mais defeitos.\\\n",
    "Bônus: Simule a ocorrência de defeitos em 1000 metros de fio. Conte quantos metros tiveram 0, 1 e 2 defeitos."
   ]
  },
  {
   "cell_type": "code",
   "execution_count": 15,
   "id": "d2f820a0",
   "metadata": {},
   "outputs": [
    {
     "name": "stdout",
     "output_type": "stream",
     "text": [
      "A probabilidade do fio ter 0 defeito: 0.6065\n",
      "A probabilidade do fio ter 2 ou mais defeitos: 0.6967\n",
      "\n",
      "Numero de simulacoes: 1000\n",
      "Media de defeitos em 1000 m de fio: 0.541\n",
      "Numero minimo de defeitos em 1000 m de fio: 0\n",
      "Numero maximo de defeitos em 1000 m de fio: 4\n",
      "\n",
      "Frequencia de defeitos (0,1,2):\n",
      "0 defeitos: 583\n",
      "1 defeitos: 320\n",
      "2 defeitos: 73\n"
     ]
    }
   ],
   "source": [
    "lambda_defeito_fio = 0.5\n",
    "\n",
    "#probabilidade de ter 0 defeito\n",
    "prob_0_defeito = poisson.pmf(0, lambda_defeito_fio)\n",
    "print(f'A probabilidade do fio ter 0 defeito: {prob_0_defeito:.4f}')\n",
    "\n",
    "#probabilidade de ter 2 ou mais defeitos\n",
    "prob_2_ou_mais_defeitos = 1 - poisson.pmf(1, lambda_defeito_fio)\n",
    "print(f'A probabilidade do fio ter 2 ou mais defeitos: {prob_2_ou_mais_defeitos:.4f}')\n",
    "\n",
    "#simulacao para 1000 metros de fio\n",
    "num_simulacoes_fio = 1000\n",
    "defeitos_100m_fio_simulado = np.random.poisson(lambda_defeito_fio, num_simulacoes_fio)\n",
    "\n",
    "print(f'\\nNumero de simulacoes: {num_simulacoes_fio}')\n",
    "print(f'Media de defeitos em 1000 m de fio: {np.mean(defeitos_100m_fio_simulado)}')\n",
    "print(f'Numero minimo de defeitos em 1000 m de fio: {np.min(defeitos_100m_fio_simulado)}')\n",
    "print(f'Numero maximo de defeitos em 1000 m de fio: {np.max(defeitos_100m_fio_simulado)}')\n",
    "\n",
    "#frequencia de defeitos em 1000 m de fio\n",
    "frequencia_defeitos_fio = Counter(defeitos_100m_fio_simulado)\n",
    "print('\\nFrequencia de defeitos (0,1,2):')\n",
    "for d in sorted([0,1,2]):\n",
    "    print(f'{d} defeitos: {frequencia_defeitos_fio[d]}')\n",
    "    \n"
   ]
  },
  {
   "cell_type": "markdown",
   "id": "e0204428",
   "metadata": {},
   "source": [
    "---\n",
    "\n",
    "**Exercício 3: Ocorrências de Eventos Raros em um Site**\\\n",
    "Um site de notícias registra, em média, 0.1 bugs críticos por dia.\n",
    "\n",
    "Tarefa:\n",
    "\n",
    "Defina o valor de λ para um dia.\\\n",
    "Usando a distribuição de Poisson, calcule a probabilidade de não ocorrer nenhum bug crítico em um dia.\\\n",
    "Calcule a probabilidade de ocorrer pelo menos um bug crítico em um dia.\\\n",
    "Bônus: Simule a ocorrência de bugs críticos por 365 dias (um ano). Quantos dias tiveram 0 bugs, 1 bug, 2 bugs ou mais?"
   ]
  },
  {
   "cell_type": "code",
   "execution_count": 16,
   "id": "2fcb48e8",
   "metadata": {},
   "outputs": [
    {
     "name": "stdout",
     "output_type": "stream",
     "text": [
      "A probabilidade de que nao ocorra nunhum bug: 0.9048\n",
      "A probabilidade de que ocorra ao menos um bug: 0.0952\n",
      "Numero de simulacoes: 365\n",
      "Media de bugs em 1 ano: 0.1123\n",
      "Numero minimo de bugs em 1 ano: 0\n",
      "Numero maximo de bugs em 1 ano: 2\n",
      "\n",
      "Frenquencia:\n",
      "0 bugs 328 vezes\n",
      "1 bugs 33 vezes\n",
      "2 bugs 4 vezes\n",
      "3 bugs 0 vezes\n"
     ]
    }
   ],
   "source": [
    "lambda_bugs = 0.1\n",
    "\n",
    "#probabilidade de que nao ocorrra nunhum bug em um dia\n",
    "prob_0_bug = poisson.pmf(0, lambda_bugs)\n",
    "print(f'A probabilidade de que nao ocorra nunhum bug: {prob_0_bug:.4f}')\n",
    "\n",
    "#probabilidade de que ocorra pelo menos um bug em um dia\n",
    "prob_ao_menos_1_bug = 1 - prob_0_bug\n",
    "print(f'A probabilidade de que ocorra ao menos um bug: {prob_ao_menos_1_bug:.4f}')\n",
    "\n",
    "#simulacao para ocorrencia de bugs criticos por 365 (0,1,2 ou mais bugs)\n",
    "num_simulacoes_bugs = 365\n",
    "bugs_ano_simulacoes = np.random.poisson(lambda_bugs, num_simulacoes_bugs)\n",
    "\n",
    "print(f'Numero de simulacoes: {num_simulacoes_bugs}')\n",
    "print(f'Media de bugs em 1 ano: {np.mean(bugs_ano_simulacoes):.4f}')\n",
    "print(f'Numero minimo de bugs em 1 ano: {np.min(bugs_ano_simulacoes)}')\n",
    "print(f'Numero maximo de bugs em 1 ano: {np.max(bugs_ano_simulacoes)}')\n",
    "\n",
    "#Frenquencia de bugs em 1 ano\n",
    "frequencia_bugs = Counter(bugs_ano_simulacoes)\n",
    "print('\\nFrenquencia:')\n",
    "for b in sorted([0,1,2,3]):\n",
    "    print(f'{b} bugs {frequencia_bugs[b]} vezes')"
   ]
  }
 ],
 "metadata": {
  "kernelspec": {
   "display_name": "venv",
   "language": "python",
   "name": "python3"
  },
  "language_info": {
   "codemirror_mode": {
    "name": "ipython",
    "version": 3
   },
   "file_extension": ".py",
   "mimetype": "text/x-python",
   "name": "python",
   "nbconvert_exporter": "python",
   "pygments_lexer": "ipython3",
   "version": "3.13.0"
  }
 },
 "nbformat": 4,
 "nbformat_minor": 5
}
