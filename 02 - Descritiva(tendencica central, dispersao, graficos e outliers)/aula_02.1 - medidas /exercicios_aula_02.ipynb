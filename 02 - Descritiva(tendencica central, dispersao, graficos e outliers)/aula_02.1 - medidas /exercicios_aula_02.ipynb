{
 "cells": [
  {
   "cell_type": "code",
   "execution_count": 1,
   "id": "0b94bd5d",
   "metadata": {},
   "outputs": [],
   "source": [
    "import numpy as np"
   ]
  },
  {
   "cell_type": "markdown",
   "id": "8ec97142",
   "metadata": {},
   "source": [
    "---\n",
    "\n",
    "**Exercício 01 - Medidas de Dispersão**\n",
    "\n",
    "Um analista de dados registrou o número de acidentes de trânsito por dia em um cruzamento movimentado da Avenida Agamenon Magalhães durante 10 dias: \n",
    "\n",
    "[2, 0, 1, 3, 2, 2, 0, 1, 2, 4]\n",
    "\n",
    "a) Calcule a amplitude do número de acidentes\n",
    "\n",
    "b) Calcule o desvio padrão amostral do número de acidentes\n"
   ]
  },
  {
   "cell_type": "code",
   "execution_count": 2,
   "id": "ba678688",
   "metadata": {},
   "outputs": [],
   "source": [
    "acidentes = [2, 0, 1, 3, 2, 2, 0, 1, 2, 4]"
   ]
  },
  {
   "cell_type": "code",
   "execution_count": 3,
   "id": "2632b99e",
   "metadata": {},
   "outputs": [
    {
     "data": {
      "text/plain": [
       "np.int64(4)"
      ]
     },
     "execution_count": 3,
     "metadata": {},
     "output_type": "execute_result"
    }
   ],
   "source": [
    "# Amplitude\n",
    "np.ptp(acidentes)"
   ]
  },
  {
   "cell_type": "code",
   "execution_count": 4,
   "id": "614e338f",
   "metadata": {},
   "outputs": [
    {
     "data": {
      "text/plain": [
       "np.float64(1.2516655570345725)"
      ]
     },
     "execution_count": 4,
     "metadata": {},
     "output_type": "execute_result"
    }
   ],
   "source": [
    "# Desvio padrao\n",
    "np.std(acidentes,ddof=1)"
   ]
  },
  {
   "cell_type": "markdown",
   "id": "8793849e",
   "metadata": {},
   "source": [
    "---\n",
    "\n",
    "**Exercício 02 - Medidas de Dispersão**\n",
    "\n",
    "As notas de 8 alunos de uma turma de estatística da UFPE na primeira avaliação foram: \n",
    "\n",
    "[7.5, 8.0, 6.5, 9.0, 7.0, 8.5, 6.0, 7.5]\n",
    "\n",
    "a) Calcule a variância populacional e amostral das notas\n",
    "\n",
    "b) Calcule o intervalo interquartil (IIQ) das notas.\n"
   ]
  },
  {
   "cell_type": "code",
   "execution_count": 5,
   "id": "5532fccf",
   "metadata": {},
   "outputs": [],
   "source": [
    "notas = [7.5, 8.0, 6.5, 9.0, 7.0, 8.5, 6.0, 7.5]"
   ]
  },
  {
   "cell_type": "code",
   "execution_count": 6,
   "id": "960e3a30",
   "metadata": {},
   "outputs": [
    {
     "data": {
      "text/plain": [
       "np.float64(0.875)"
      ]
     },
     "execution_count": 6,
     "metadata": {},
     "output_type": "execute_result"
    }
   ],
   "source": [
    "# Variancia populacional\n",
    "np.var(notas, ddof=0)"
   ]
  },
  {
   "cell_type": "code",
   "execution_count": 7,
   "id": "ec6ca0cf",
   "metadata": {},
   "outputs": [
    {
     "data": {
      "text/plain": [
       "np.float64(1.0)"
      ]
     },
     "execution_count": 7,
     "metadata": {},
     "output_type": "execute_result"
    }
   ],
   "source": [
    "# Variancia amostral\n",
    "np.var(notas, ddof=1)"
   ]
  },
  {
   "cell_type": "code",
   "execution_count": 8,
   "id": "07ddce3c",
   "metadata": {},
   "outputs": [
    {
     "data": {
      "text/plain": [
       "np.float64(6.875)"
      ]
     },
     "execution_count": 8,
     "metadata": {},
     "output_type": "execute_result"
    }
   ],
   "source": [
    "# Primeiro quartil\n",
    "q1 = np.percentile(notas, 25)\n",
    "q1"
   ]
  },
  {
   "cell_type": "code",
   "execution_count": 9,
   "id": "1617e477",
   "metadata": {},
   "outputs": [
    {
     "data": {
      "text/plain": [
       "np.float64(8.125)"
      ]
     },
     "execution_count": 9,
     "metadata": {},
     "output_type": "execute_result"
    }
   ],
   "source": [
    "# Terceiro quartil\n",
    "q3 = np.percentile(notas, 75)\n",
    "q3"
   ]
  },
  {
   "cell_type": "code",
   "execution_count": 10,
   "id": "981f7679",
   "metadata": {},
   "outputs": [
    {
     "data": {
      "text/plain": [
       "np.float64(1.25)"
      ]
     },
     "execution_count": 10,
     "metadata": {},
     "output_type": "execute_result"
    }
   ],
   "source": [
    "# INtervalo interquartil\n",
    "iiq = q3 - q1\n",
    "iiq"
   ]
  },
  {
   "cell_type": "markdown",
   "id": "74fb8828",
   "metadata": {},
   "source": [
    "---\n",
    "**Exercício 03 - Medidas de Dispersão**\n",
    "Um pesquisador mediu a altura (em metros) de 12 coqueiros em uma praia de Porto de \n",
    "Galinhas: \n",
    "\n",
    "[15.2, 16.5, 14.8, 17.0, 15.5, 16.0, 15.8, 16.2, 15.0, 16.8, 17.5, 15.3]\n",
    "\n",
    "a) Calcule o desvio padrão populacional das alturas usando NumPy.\n",
    "\n",
    "b) Calcule o iiq das alturas usando Pandas\n"
   ]
  },
  {
   "cell_type": "code",
   "execution_count": 11,
   "id": "d18cfe19",
   "metadata": {},
   "outputs": [],
   "source": [
    "alturas = [15.2, 16.5, 14.8, 17.0, 15.5, 16.0, 15.8, 16.2, 15.0, 16.8, 17.5, 15.3]"
   ]
  },
  {
   "cell_type": "code",
   "execution_count": 12,
   "id": "91276bc2",
   "metadata": {},
   "outputs": [
    {
     "data": {
      "text/plain": [
       "np.float64(0.8178562764256865)"
      ]
     },
     "execution_count": 12,
     "metadata": {},
     "output_type": "execute_result"
    }
   ],
   "source": [
    "# Desvio padrao populacional\n",
    "np.std(alturas)"
   ]
  },
  {
   "cell_type": "code",
   "execution_count": 13,
   "id": "1aa0f714",
   "metadata": {},
   "outputs": [],
   "source": [
    "import pandas as pd"
   ]
  },
  {
   "cell_type": "code",
   "execution_count": 14,
   "id": "20e2faea",
   "metadata": {},
   "outputs": [
    {
     "data": {
      "text/plain": [
       "np.float64(1.299999999999999)"
      ]
     },
     "execution_count": 14,
     "metadata": {},
     "output_type": "execute_result"
    }
   ],
   "source": [
    "# Intervalo interquartil\n",
    "q1 = np.quantile(alturas, 0.25)\n",
    "q3 = np.quantile(alturas, 0.75)\n",
    "\n",
    "iiq = q3 - q1\n",
    "iiq"
   ]
  },
  {
   "cell_type": "markdown",
   "id": "2515d9ec",
   "metadata": {},
   "source": [
    "---\n",
    "**Exercício 04 - Medidas de Dispersão**\n",
    "Os tempos de espera (em minutos) de 15 clientes em uma famosa tapiocaria do Mercado da \n",
    "Boa Vista foram: \n",
    "\n",
    "[3, 5, 2, 8, 4, 4, 6, 3, 5, 7, 9, 3, 5, 4, 6]\n",
    "\n",
    "a) Crie uma Series do Pandas com esses dados.\n",
    "\n",
    "b) Calcule a amplitude do tempo de espera usando Pandas \n",
    "\n",
    "c) Calcule o desvio padrão amostral do tempo de espera usando Pandas\n",
    "\n",
    "d) Calcule o intervalo interquartil (IIQ) do tempo de espera usando Pandas\n"
   ]
  },
  {
   "cell_type": "code",
   "execution_count": 15,
   "id": "c7cffbb8",
   "metadata": {},
   "outputs": [],
   "source": [
    "tempo = [3, 5, 2, 8, 4, 4, 6, 3, 5, 7, 9, 3, 5, 4, 6]"
   ]
  },
  {
   "cell_type": "code",
   "execution_count": 16,
   "id": "c4adb93d",
   "metadata": {},
   "outputs": [
    {
     "data": {
      "text/plain": [
       "0     3\n",
       "1     5\n",
       "2     2\n",
       "3     8\n",
       "4     4\n",
       "5     4\n",
       "6     6\n",
       "7     3\n",
       "8     5\n",
       "9     7\n",
       "10    9\n",
       "11    3\n",
       "12    5\n",
       "13    4\n",
       "14    6\n",
       "dtype: int64"
      ]
     },
     "execution_count": 16,
     "metadata": {},
     "output_type": "execute_result"
    }
   ],
   "source": [
    "series_tempo = pd.Series(tempo)\n",
    "series_tempo"
   ]
  },
  {
   "cell_type": "code",
   "execution_count": 37,
   "id": "c9373a76",
   "metadata": {},
   "outputs": [
    {
     "data": {
      "text/plain": [
       "np.int64(7)"
      ]
     },
     "execution_count": 37,
     "metadata": {},
     "output_type": "execute_result"
    }
   ],
   "source": [
    "# Amplitude\n",
    "amplitude_tempo = series_tempo.max() - series_tempo.min()\n",
    "amplitude_tempo"
   ]
  },
  {
   "cell_type": "code",
   "execution_count": 18,
   "id": "cace0cb2",
   "metadata": {},
   "outputs": [
    {
     "data": {
      "text/plain": [
       "np.float64(1.98086080374405)"
      ]
     },
     "execution_count": 18,
     "metadata": {},
     "output_type": "execute_result"
    }
   ],
   "source": [
    "# Desvio padrao\n",
    "series_tempo.std()"
   ]
  },
  {
   "cell_type": "code",
   "execution_count": 19,
   "id": "9075f4c6",
   "metadata": {},
   "outputs": [
    {
     "data": {
      "text/plain": [
       "np.float64(2.5)"
      ]
     },
     "execution_count": 19,
     "metadata": {},
     "output_type": "execute_result"
    }
   ],
   "source": [
    "# Intervalo interquartil\n",
    "iiq = series_tempo.quantile(0.75) - series_tempo.quantile(0.25)\n",
    "iiq"
   ]
  },
  {
   "cell_type": "markdown",
   "id": "ddc18fcc",
   "metadata": {},
   "source": [
    "---\n",
    "**Exercício 05 - Desafio**\n",
    "Utilizando o dataset “temperaturas_recife2020.csv” calcule:\n",
    "\n",
    "a) Média\n",
    "\n",
    "b) Mediana\n",
    "\n",
    "c) Moda\n",
    "\n",
    "d) Amplitude\n",
    "\n",
    "e) Variância populacional e amostral\n",
    "\n",
    "f) Desvio padrão populacional e amostral\n",
    "\n",
    "g) Q1, Q2, Q3 e IQQ"
   ]
  },
  {
   "cell_type": "code",
   "execution_count": 20,
   "id": "1b0ddd00",
   "metadata": {},
   "outputs": [],
   "source": [
    "df = pd.read_csv('/home/pc-03/estatistica-treina/aula_02/temperaturas_recife2020.csv')"
   ]
  },
  {
   "cell_type": "code",
   "execution_count": 21,
   "id": "b0676c4d",
   "metadata": {},
   "outputs": [
    {
     "data": {
      "text/plain": [
       "<bound method NDFrame.head of            Data  Temperatura_Media_C\n",
       "0    2020-01-01                 27.5\n",
       "1    2020-01-02                 27.8\n",
       "2    2020-01-03                 27.9\n",
       "3    2020-01-04                 27.7\n",
       "4    2020-01-05                 27.6\n",
       "..          ...                  ...\n",
       "361  2020-12-27                 27.2\n",
       "362  2020-12-28                 27.1\n",
       "363  2020-12-29                 27.0\n",
       "364  2020-12-30                 26.9\n",
       "365  2020-12-31                 26.8\n",
       "\n",
       "[366 rows x 2 columns]>"
      ]
     },
     "execution_count": 21,
     "metadata": {},
     "output_type": "execute_result"
    }
   ],
   "source": [
    "df.head"
   ]
  },
  {
   "cell_type": "code",
   "execution_count": 22,
   "id": "4cd10e8c",
   "metadata": {},
   "outputs": [
    {
     "name": "stdout",
     "output_type": "stream",
     "text": [
      "<class 'pandas.core.frame.DataFrame'>\n",
      "RangeIndex: 366 entries, 0 to 365\n",
      "Data columns (total 2 columns):\n",
      " #   Column               Non-Null Count  Dtype  \n",
      "---  ------               --------------  -----  \n",
      " 0   Data                 366 non-null    object \n",
      " 1   Temperatura_Media_C  366 non-null    float64\n",
      "dtypes: float64(1), object(1)\n",
      "memory usage: 5.8+ KB\n"
     ]
    }
   ],
   "source": [
    "df.info()"
   ]
  },
  {
   "cell_type": "code",
   "execution_count": 23,
   "id": "729b5785",
   "metadata": {},
   "outputs": [
    {
     "data": {
      "text/plain": [
       "Index(['Data', 'Temperatura_Media_C'], dtype='object')"
      ]
     },
     "execution_count": 23,
     "metadata": {},
     "output_type": "execute_result"
    }
   ],
   "source": [
    "df.columns"
   ]
  },
  {
   "cell_type": "code",
   "execution_count": 24,
   "id": "44bec4af",
   "metadata": {},
   "outputs": [
    {
     "data": {
      "text/html": [
       "<div>\n",
       "<style scoped>\n",
       "    .dataframe tbody tr th:only-of-type {\n",
       "        vertical-align: middle;\n",
       "    }\n",
       "\n",
       "    .dataframe tbody tr th {\n",
       "        vertical-align: top;\n",
       "    }\n",
       "\n",
       "    .dataframe thead th {\n",
       "        text-align: right;\n",
       "    }\n",
       "</style>\n",
       "<table border=\"1\" class=\"dataframe\">\n",
       "  <thead>\n",
       "    <tr style=\"text-align: right;\">\n",
       "      <th></th>\n",
       "      <th>Temperatura_Media_C</th>\n",
       "    </tr>\n",
       "  </thead>\n",
       "  <tbody>\n",
       "    <tr>\n",
       "      <th>count</th>\n",
       "      <td>366.000000</td>\n",
       "    </tr>\n",
       "    <tr>\n",
       "      <th>mean</th>\n",
       "      <td>30.156284</td>\n",
       "    </tr>\n",
       "    <tr>\n",
       "      <th>std</th>\n",
       "      <td>1.577392</td>\n",
       "    </tr>\n",
       "    <tr>\n",
       "      <th>min</th>\n",
       "      <td>26.800000</td>\n",
       "    </tr>\n",
       "    <tr>\n",
       "      <th>25%</th>\n",
       "      <td>28.825000</td>\n",
       "    </tr>\n",
       "    <tr>\n",
       "      <th>50%</th>\n",
       "      <td>30.200000</td>\n",
       "    </tr>\n",
       "    <tr>\n",
       "      <th>75%</th>\n",
       "      <td>31.400000</td>\n",
       "    </tr>\n",
       "    <tr>\n",
       "      <th>max</th>\n",
       "      <td>33.000000</td>\n",
       "    </tr>\n",
       "  </tbody>\n",
       "</table>\n",
       "</div>"
      ],
      "text/plain": [
       "       Temperatura_Media_C\n",
       "count           366.000000\n",
       "mean             30.156284\n",
       "std               1.577392\n",
       "min              26.800000\n",
       "25%              28.825000\n",
       "50%              30.200000\n",
       "75%              31.400000\n",
       "max              33.000000"
      ]
     },
     "execution_count": 24,
     "metadata": {},
     "output_type": "execute_result"
    }
   ],
   "source": [
    "df.describe()"
   ]
  },
  {
   "cell_type": "code",
   "execution_count": 25,
   "id": "9e458f64",
   "metadata": {},
   "outputs": [
    {
     "data": {
      "text/plain": [
       "np.float64(30.156284153005465)"
      ]
     },
     "execution_count": 25,
     "metadata": {},
     "output_type": "execute_result"
    }
   ],
   "source": [
    "# Media\n",
    "df['Temperatura_Media_C'].mean()"
   ]
  },
  {
   "cell_type": "code",
   "execution_count": 26,
   "id": "f3f38ba3",
   "metadata": {},
   "outputs": [
    {
     "data": {
      "text/plain": [
       "np.float64(30.2)"
      ]
     },
     "execution_count": 26,
     "metadata": {},
     "output_type": "execute_result"
    }
   ],
   "source": [
    "# Mediana\n",
    "df['Temperatura_Media_C'].median()"
   ]
  },
  {
   "cell_type": "code",
   "execution_count": 27,
   "id": "bd2f773a",
   "metadata": {},
   "outputs": [
    {
     "data": {
      "text/plain": [
       "0     28.4\n",
       "1     28.9\n",
       "2     29.6\n",
       "3     29.7\n",
       "4     30.7\n",
       "5     30.8\n",
       "6     30.9\n",
       "7     31.0\n",
       "8     31.1\n",
       "9     31.2\n",
       "10    31.3\n",
       "Name: Temperatura_Media_C, dtype: float64"
      ]
     },
     "execution_count": 27,
     "metadata": {},
     "output_type": "execute_result"
    }
   ],
   "source": [
    "# Moda\n",
    "df['Temperatura_Media_C'].mode()"
   ]
  },
  {
   "cell_type": "code",
   "execution_count": 28,
   "id": "5dec7e7c",
   "metadata": {},
   "outputs": [
    {
     "data": {
      "text/plain": [
       "np.float64(6.199999999999999)"
      ]
     },
     "execution_count": 28,
     "metadata": {},
     "output_type": "execute_result"
    }
   ],
   "source": [
    "# Amplitute\n",
    "amplitude_temperatura = df['Temperatura_Media_C'].max() - df['Temperatura_Media_C'].min()\n",
    "amplitude_temperatura"
   ]
  },
  {
   "cell_type": "code",
   "execution_count": 29,
   "id": "a6d24db7",
   "metadata": {},
   "outputs": [
    {
     "data": {
      "text/plain": [
       "np.float64(2.4881658806796914)"
      ]
     },
     "execution_count": 29,
     "metadata": {},
     "output_type": "execute_result"
    }
   ],
   "source": [
    "# Variancia amostral\n",
    "df['Temperatura_Media_C'].var()"
   ]
  },
  {
   "cell_type": "code",
   "execution_count": 30,
   "id": "919997e6",
   "metadata": {},
   "outputs": [
    {
     "data": {
      "text/plain": [
       "np.float64(2.48136761324614)"
      ]
     },
     "execution_count": 30,
     "metadata": {},
     "output_type": "execute_result"
    }
   ],
   "source": [
    "# Variancia populacional\n",
    "df['Temperatura_Media_C'].var(ddof=0)"
   ]
  },
  {
   "cell_type": "code",
   "execution_count": 31,
   "id": "833c74b0",
   "metadata": {},
   "outputs": [
    {
     "data": {
      "text/plain": [
       "np.float64(1.5773921138003992)"
      ]
     },
     "execution_count": 31,
     "metadata": {},
     "output_type": "execute_result"
    }
   ],
   "source": [
    "# Desvio padrao amostral\n",
    "df['Temperatura_Media_C'].std()"
   ]
  },
  {
   "cell_type": "code",
   "execution_count": 32,
   "id": "2a331079",
   "metadata": {},
   "outputs": [
    {
     "data": {
      "text/plain": [
       "np.float64(1.5752357325956456)"
      ]
     },
     "execution_count": 32,
     "metadata": {},
     "output_type": "execute_result"
    }
   ],
   "source": [
    "# Desvio padrao populacional\n",
    "df['Temperatura_Media_C'].std(ddof=0)"
   ]
  },
  {
   "cell_type": "code",
   "execution_count": 33,
   "id": "818d2bec",
   "metadata": {},
   "outputs": [
    {
     "data": {
      "text/plain": [
       "np.float64(28.825)"
      ]
     },
     "execution_count": 33,
     "metadata": {},
     "output_type": "execute_result"
    }
   ],
   "source": [
    "# Primeiro quartil\n",
    "q1 = df['Temperatura_Media_C'].quantile(0.25)\n",
    "q1"
   ]
  },
  {
   "cell_type": "code",
   "execution_count": 34,
   "id": "f4cccec0",
   "metadata": {},
   "outputs": [
    {
     "data": {
      "text/plain": [
       "np.float64(30.2)"
      ]
     },
     "execution_count": 34,
     "metadata": {},
     "output_type": "execute_result"
    }
   ],
   "source": [
    "# Segundo quartil\n",
    "q2 = df['Temperatura_Media_C'].quantile(0.5)\n",
    "q2"
   ]
  },
  {
   "cell_type": "code",
   "execution_count": 35,
   "id": "e57f0b7b",
   "metadata": {},
   "outputs": [
    {
     "data": {
      "text/plain": [
       "np.float64(31.4)"
      ]
     },
     "execution_count": 35,
     "metadata": {},
     "output_type": "execute_result"
    }
   ],
   "source": [
    "# Terceiro quartil\n",
    "q3 = df['Temperatura_Media_C'].quantile(0.75)\n",
    "q3"
   ]
  },
  {
   "cell_type": "code",
   "execution_count": 36,
   "id": "f8fd39d0",
   "metadata": {},
   "outputs": [
    {
     "data": {
      "text/plain": [
       "np.float64(2.5749999999999993)"
      ]
     },
     "execution_count": 36,
     "metadata": {},
     "output_type": "execute_result"
    }
   ],
   "source": [
    "iiq = q3 - q1\n",
    "iiq"
   ]
  }
 ],
 "metadata": {
  "kernelspec": {
   "display_name": "venv",
   "language": "python",
   "name": "python3"
  },
  "language_info": {
   "codemirror_mode": {
    "name": "ipython",
    "version": 3
   },
   "file_extension": ".py",
   "mimetype": "text/x-python",
   "name": "python",
   "nbconvert_exporter": "python",
   "pygments_lexer": "ipython3",
   "version": "3.12.3"
  }
 },
 "nbformat": 4,
 "nbformat_minor": 5
}
