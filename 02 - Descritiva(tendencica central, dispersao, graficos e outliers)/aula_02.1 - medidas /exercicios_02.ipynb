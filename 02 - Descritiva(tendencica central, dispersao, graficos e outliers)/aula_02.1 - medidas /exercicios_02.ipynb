{
 "cells": [
  {
   "cell_type": "code",
   "execution_count": 124,
   "id": "6bbcce25",
   "metadata": {},
   "outputs": [],
   "source": [
    "import pandas as pd"
   ]
  },
  {
   "cell_type": "markdown",
   "id": "4d373eee",
   "metadata": {},
   "source": [
    "## Medidas de tendencia central"
   ]
  },
  {
   "cell_type": "markdown",
   "id": "2b0beab0",
   "metadata": {},
   "source": [
    "---\n",
    "\n",
    "**Exercício 01:**\n",
    "\n",
    "Dado o array de pontuações de 10 alunos em um teste: \n",
    "\n",
    "[75, 82, 90, 68, 78, 85, 92, 70, 76, 88], \n",
    "\n",
    "calcule:  \n",
    "\n",
    "a) A média.  \n",
    "b) A mediana. \n",
    "\n",
    "---"
   ]
  },
  {
   "cell_type": "code",
   "execution_count": 125,
   "id": "d7ea1c3d",
   "metadata": {},
   "outputs": [],
   "source": [
    "pontuacao = [75, 82, 90, 68, 78, 85, 92, 70, 76, 88]"
   ]
  },
  {
   "cell_type": "code",
   "execution_count": 153,
   "id": "3f5d22aa",
   "metadata": {},
   "outputs": [],
   "source": [
    "df_pontuacao = pd.Series(pontuacao)"
   ]
  },
  {
   "cell_type": "code",
   "execution_count": 154,
   "id": "6fe9b503",
   "metadata": {},
   "outputs": [
    {
     "data": {
      "text/plain": [
       "0    75\n",
       "1    82\n",
       "2    90\n",
       "3    68\n",
       "4    78\n",
       "5    85\n",
       "6    92\n",
       "7    70\n",
       "8    76\n",
       "9    88\n",
       "dtype: int64"
      ]
     },
     "execution_count": 154,
     "metadata": {},
     "output_type": "execute_result"
    }
   ],
   "source": [
    "df_pontuacao"
   ]
  },
  {
   "cell_type": "code",
   "execution_count": 155,
   "id": "f33b2540",
   "metadata": {},
   "outputs": [
    {
     "data": {
      "text/plain": [
       "np.float64(80.4)"
      ]
     },
     "execution_count": 155,
     "metadata": {},
     "output_type": "execute_result"
    }
   ],
   "source": [
    "df_pontuacao.mean()"
   ]
  },
  {
   "cell_type": "code",
   "execution_count": 156,
   "id": "e9f3ecd9",
   "metadata": {},
   "outputs": [
    {
     "data": {
      "text/plain": [
       "np.float64(80.0)"
      ]
     },
     "execution_count": 156,
     "metadata": {},
     "output_type": "execute_result"
    }
   ],
   "source": [
    "df_pontuacao.median()"
   ]
  },
  {
   "cell_type": "code",
   "execution_count": 157,
   "id": "3b261723",
   "metadata": {},
   "outputs": [
    {
     "data": {
      "text/plain": [
       "count    10.000000\n",
       "mean     80.400000\n",
       "std       8.329332\n",
       "min      68.000000\n",
       "25%      75.250000\n",
       "50%      80.000000\n",
       "75%      87.250000\n",
       "max      92.000000\n",
       "dtype: float64"
      ]
     },
     "execution_count": 157,
     "metadata": {},
     "output_type": "execute_result"
    }
   ],
   "source": [
    "df_pontuacao.describe()"
   ]
  },
  {
   "cell_type": "markdown",
   "id": "70ee5b5e",
   "metadata": {},
   "source": [
    "---\n",
    "\n",
    "**Exercício 02:**\n",
    "\n",
    "Uma empresa registrou o número de unidades vendidas de um produto \n",
    "durante 7 dias: \n",
    "\n",
    "[25, 30, 28, 35, 32, 30, 27].\n",
    "\n",
    "Calcule:  \n",
    "\n",
    "a) A média.  \n",
    "b) A moda usando pandas.\n",
    "\n",
    "---"
   ]
  },
  {
   "cell_type": "code",
   "execution_count": 158,
   "id": "12cb9f10",
   "metadata": {},
   "outputs": [],
   "source": [
    "produtos = [25, 30, 28, 35, 32, 30, 27]"
   ]
  },
  {
   "cell_type": "code",
   "execution_count": 159,
   "id": "5e3483f9",
   "metadata": {},
   "outputs": [],
   "source": [
    "df_produtos = pd.Series(produtos)"
   ]
  },
  {
   "cell_type": "code",
   "execution_count": 160,
   "id": "6d14e8b9",
   "metadata": {},
   "outputs": [
    {
     "data": {
      "text/plain": [
       "0    25\n",
       "1    30\n",
       "2    28\n",
       "3    35\n",
       "4    32\n",
       "5    30\n",
       "6    27\n",
       "dtype: int64"
      ]
     },
     "execution_count": 160,
     "metadata": {},
     "output_type": "execute_result"
    }
   ],
   "source": [
    "df_produtos"
   ]
  },
  {
   "cell_type": "code",
   "execution_count": 161,
   "id": "57c1bc10",
   "metadata": {},
   "outputs": [
    {
     "data": {
      "text/plain": [
       "np.float64(29.571428571428573)"
      ]
     },
     "execution_count": 161,
     "metadata": {},
     "output_type": "execute_result"
    }
   ],
   "source": [
    "df_produtos.mean()"
   ]
  },
  {
   "cell_type": "code",
   "execution_count": 162,
   "id": "301025dc",
   "metadata": {},
   "outputs": [
    {
     "data": {
      "text/plain": [
       "np.float64(30.0)"
      ]
     },
     "execution_count": 162,
     "metadata": {},
     "output_type": "execute_result"
    }
   ],
   "source": [
    "df_produtos.median()"
   ]
  },
  {
   "cell_type": "code",
   "execution_count": 163,
   "id": "88fd229a",
   "metadata": {},
   "outputs": [
    {
     "data": {
      "text/plain": [
       "count     7.000000\n",
       "mean     29.571429\n",
       "std       3.309438\n",
       "min      25.000000\n",
       "25%      27.500000\n",
       "50%      30.000000\n",
       "75%      31.000000\n",
       "max      35.000000\n",
       "dtype: float64"
      ]
     },
     "execution_count": 163,
     "metadata": {},
     "output_type": "execute_result"
    }
   ],
   "source": [
    "df_produtos.describe()"
   ]
  },
  {
   "cell_type": "markdown",
   "id": "948fd401",
   "metadata": {},
   "source": [
    "---\n",
    "\n",
    "**Exercício 03:**\n",
    "\n",
    "As idades de 15 participantes de um congresso em Porto de Galinhas são: \n",
    "\n",
    "[28, 35, 42, 28, 30, 35, 45, 28, 32, 38, 40, 35, 28, 31, 36]. \n",
    "\n",
    "Calcule:  \n",
    "\n",
    "a) A moda usando numpy.  \n",
    "b) A mediana.\n",
    "\n",
    "---"
   ]
  },
  {
   "cell_type": "code",
   "execution_count": 164,
   "id": "5204590c",
   "metadata": {},
   "outputs": [],
   "source": [
    "idades = [28, 35, 42, 28, 30, 35, 45, 28, 32, 38, 40, 35, 28, 31, 36]"
   ]
  },
  {
   "cell_type": "code",
   "execution_count": 165,
   "id": "bbc60195",
   "metadata": {},
   "outputs": [],
   "source": [
    "df_idades = pd.Series(idades)"
   ]
  },
  {
   "cell_type": "code",
   "execution_count": 166,
   "id": "aa0693ce",
   "metadata": {},
   "outputs": [
    {
     "data": {
      "text/plain": [
       "0     28\n",
       "1     35\n",
       "2     42\n",
       "3     28\n",
       "4     30\n",
       "5     35\n",
       "6     45\n",
       "7     28\n",
       "8     32\n",
       "9     38\n",
       "10    40\n",
       "11    35\n",
       "12    28\n",
       "13    31\n",
       "14    36\n",
       "dtype: int64"
      ]
     },
     "execution_count": 166,
     "metadata": {},
     "output_type": "execute_result"
    }
   ],
   "source": [
    "df_idades"
   ]
  },
  {
   "cell_type": "code",
   "execution_count": 167,
   "id": "5f221794",
   "metadata": {},
   "outputs": [
    {
     "data": {
      "text/plain": [
       "0    28\n",
       "dtype: int64"
      ]
     },
     "execution_count": 167,
     "metadata": {},
     "output_type": "execute_result"
    }
   ],
   "source": [
    "df_idades.mode()"
   ]
  },
  {
   "cell_type": "code",
   "execution_count": 168,
   "id": "378ff9e5",
   "metadata": {},
   "outputs": [
    {
     "data": {
      "text/plain": [
       "np.float64(35.0)"
      ]
     },
     "execution_count": 168,
     "metadata": {},
     "output_type": "execute_result"
    }
   ],
   "source": [
    "df_idades.median()"
   ]
  },
  {
   "cell_type": "code",
   "execution_count": 169,
   "id": "8499355a",
   "metadata": {},
   "outputs": [
    {
     "data": {
      "text/plain": [
       "count    15.000000\n",
       "mean     34.066667\n",
       "std       5.457193\n",
       "min      28.000000\n",
       "25%      29.000000\n",
       "50%      35.000000\n",
       "75%      37.000000\n",
       "max      45.000000\n",
       "dtype: float64"
      ]
     },
     "execution_count": 169,
     "metadata": {},
     "output_type": "execute_result"
    }
   ],
   "source": [
    "df_idades.describe()"
   ]
  },
  {
   "cell_type": "markdown",
   "id": "73e5d89c",
   "metadata": {},
   "source": [
    "---\n",
    "\n",
    "**Exercício 04:**\n",
    "\n",
    "O tempo de reação (em segundos) de 8 voluntários em um experimento foi: \n",
    "\n",
    "[0.25, 0.30, 0.28, 0.35, 0.26, 0.32, 0.29, 0.31]. \n",
    "\n",
    "Calcule:  \n",
    "\n",
    "a) A média.  \n",
    "b) A mediana\n",
    "\n",
    "---"
   ]
  },
  {
   "cell_type": "code",
   "execution_count": 143,
   "id": "cec1245c",
   "metadata": {},
   "outputs": [],
   "source": [
    "tempo = [0.25, 0.30, 0.28, 0.35, 0.26, 0.32, 0.29, 0.31]"
   ]
  },
  {
   "cell_type": "code",
   "execution_count": 144,
   "id": "5b7cf8b5",
   "metadata": {},
   "outputs": [],
   "source": [
    "df_tempo = pd.DataFrame(tempo)"
   ]
  },
  {
   "cell_type": "code",
   "execution_count": 145,
   "id": "2443c947",
   "metadata": {},
   "outputs": [
    {
     "data": {
      "text/plain": [
       "0    0.295\n",
       "dtype: float64"
      ]
     },
     "execution_count": 145,
     "metadata": {},
     "output_type": "execute_result"
    }
   ],
   "source": [
    "df_tempo.mean()"
   ]
  },
  {
   "cell_type": "markdown",
   "id": "4279de52",
   "metadata": {},
   "source": [
    "---\n",
    "\n",
    "**Exercício 05:**\n",
    "\n",
    "Uma pesquisa sobre o número de filhos por família em uma comunidade \n",
    "resultou nos seguintes dados: \n",
    "\n",
    "[2, 1, 3, 2, 0, 4, 2, 2, 1, 3]. \n",
    "\n",
    "Calcule:  \n",
    "\n",
    "a) A média.  \n",
    "b) A moda usando pandas.\n",
    "\n",
    "\n",
    "---"
   ]
  },
  {
   "cell_type": "code",
   "execution_count": 170,
   "id": "82099274",
   "metadata": {},
   "outputs": [],
   "source": [
    "filhos = [2, 1, 3, 2, 0, 4, 2, 2, 1, 3]"
   ]
  },
  {
   "cell_type": "code",
   "execution_count": 171,
   "id": "599b3b2d",
   "metadata": {},
   "outputs": [],
   "source": [
    "df_filhos = pd.Series(filhos)"
   ]
  },
  {
   "cell_type": "code",
   "execution_count": 172,
   "id": "89c988d7",
   "metadata": {},
   "outputs": [
    {
     "data": {
      "text/plain": [
       "np.float64(2.0)"
      ]
     },
     "execution_count": 172,
     "metadata": {},
     "output_type": "execute_result"
    }
   ],
   "source": [
    "df_filhos.mean()"
   ]
  },
  {
   "cell_type": "code",
   "execution_count": 173,
   "id": "69cbf36f",
   "metadata": {},
   "outputs": [
    {
     "data": {
      "text/plain": [
       "0    2\n",
       "dtype: int64"
      ]
     },
     "execution_count": 173,
     "metadata": {},
     "output_type": "execute_result"
    }
   ],
   "source": [
    "df_filhos.mode()"
   ]
  },
  {
   "cell_type": "code",
   "execution_count": 174,
   "id": "901d2722",
   "metadata": {},
   "outputs": [
    {
     "data": {
      "text/plain": [
       "count    10.000000\n",
       "mean      2.000000\n",
       "std       1.154701\n",
       "min       0.000000\n",
       "25%       1.250000\n",
       "50%       2.000000\n",
       "75%       2.750000\n",
       "max       4.000000\n",
       "dtype: float64"
      ]
     },
     "execution_count": 174,
     "metadata": {},
     "output_type": "execute_result"
    }
   ],
   "source": [
    "df_filhos.describe()"
   ]
  },
  {
   "cell_type": "markdown",
   "id": "cb7a83c5",
   "metadata": {},
   "source": [
    "---\n",
    "\n",
    "**Exercício 06:**\n",
    "\n",
    "Os preços (em reais) de um mesmo livro em 5 livrarias diferentes são: \n",
    "[45.50, 48.00, 46.20, 47.50, 46.20]. \n",
    "\n",
    "Calcule:  \n",
    "\n",
    "a) A média.  \n",
    "b) A mediana.  \n",
    "c) A moda usando pandas.\n",
    "\n",
    "---"
   ]
  },
  {
   "cell_type": "code",
   "execution_count": 146,
   "id": "f3c3963b",
   "metadata": {},
   "outputs": [],
   "source": [
    "precos = [45.50, 48.00, 46.20, 47.50, 46.20]"
   ]
  },
  {
   "cell_type": "code",
   "execution_count": 147,
   "id": "ab655d5a",
   "metadata": {},
   "outputs": [],
   "source": [
    "df_precos = pd.DataFrame(precos)"
   ]
  },
  {
   "cell_type": "code",
   "execution_count": 148,
   "id": "c3bcd636",
   "metadata": {},
   "outputs": [
    {
     "data": {
      "text/html": [
       "<div>\n",
       "<style scoped>\n",
       "    .dataframe tbody tr th:only-of-type {\n",
       "        vertical-align: middle;\n",
       "    }\n",
       "\n",
       "    .dataframe tbody tr th {\n",
       "        vertical-align: top;\n",
       "    }\n",
       "\n",
       "    .dataframe thead th {\n",
       "        text-align: right;\n",
       "    }\n",
       "</style>\n",
       "<table border=\"1\" class=\"dataframe\">\n",
       "  <thead>\n",
       "    <tr style=\"text-align: right;\">\n",
       "      <th></th>\n",
       "      <th>0</th>\n",
       "    </tr>\n",
       "  </thead>\n",
       "  <tbody>\n",
       "    <tr>\n",
       "      <th>0</th>\n",
       "      <td>45.5</td>\n",
       "    </tr>\n",
       "    <tr>\n",
       "      <th>1</th>\n",
       "      <td>48.0</td>\n",
       "    </tr>\n",
       "    <tr>\n",
       "      <th>2</th>\n",
       "      <td>46.2</td>\n",
       "    </tr>\n",
       "    <tr>\n",
       "      <th>3</th>\n",
       "      <td>47.5</td>\n",
       "    </tr>\n",
       "    <tr>\n",
       "      <th>4</th>\n",
       "      <td>46.2</td>\n",
       "    </tr>\n",
       "  </tbody>\n",
       "</table>\n",
       "</div>"
      ],
      "text/plain": [
       "      0\n",
       "0  45.5\n",
       "1  48.0\n",
       "2  46.2\n",
       "3  47.5\n",
       "4  46.2"
      ]
     },
     "execution_count": 148,
     "metadata": {},
     "output_type": "execute_result"
    }
   ],
   "source": [
    "df_precos"
   ]
  },
  {
   "cell_type": "code",
   "execution_count": 149,
   "id": "eac3a885",
   "metadata": {},
   "outputs": [
    {
     "data": {
      "text/plain": [
       "0    46.68\n",
       "dtype: float64"
      ]
     },
     "execution_count": 149,
     "metadata": {},
     "output_type": "execute_result"
    }
   ],
   "source": [
    "df_precos.mean()"
   ]
  },
  {
   "cell_type": "code",
   "execution_count": 150,
   "id": "987d05a9",
   "metadata": {},
   "outputs": [
    {
     "data": {
      "text/plain": [
       "0    46.2\n",
       "dtype: float64"
      ]
     },
     "execution_count": 150,
     "metadata": {},
     "output_type": "execute_result"
    }
   ],
   "source": [
    "df_precos.median()"
   ]
  },
  {
   "cell_type": "code",
   "execution_count": 151,
   "id": "5f0d8848",
   "metadata": {},
   "outputs": [
    {
     "data": {
      "text/html": [
       "<div>\n",
       "<style scoped>\n",
       "    .dataframe tbody tr th:only-of-type {\n",
       "        vertical-align: middle;\n",
       "    }\n",
       "\n",
       "    .dataframe tbody tr th {\n",
       "        vertical-align: top;\n",
       "    }\n",
       "\n",
       "    .dataframe thead th {\n",
       "        text-align: right;\n",
       "    }\n",
       "</style>\n",
       "<table border=\"1\" class=\"dataframe\">\n",
       "  <thead>\n",
       "    <tr style=\"text-align: right;\">\n",
       "      <th></th>\n",
       "      <th>0</th>\n",
       "    </tr>\n",
       "  </thead>\n",
       "  <tbody>\n",
       "    <tr>\n",
       "      <th>0</th>\n",
       "      <td>46.2</td>\n",
       "    </tr>\n",
       "  </tbody>\n",
       "</table>\n",
       "</div>"
      ],
      "text/plain": [
       "      0\n",
       "0  46.2"
      ]
     },
     "execution_count": 151,
     "metadata": {},
     "output_type": "execute_result"
    }
   ],
   "source": [
    "df_precos.mode()"
   ]
  },
  {
   "cell_type": "code",
   "execution_count": 152,
   "id": "7d130c8e",
   "metadata": {},
   "outputs": [
    {
     "data": {
      "text/html": [
       "<div>\n",
       "<style scoped>\n",
       "    .dataframe tbody tr th:only-of-type {\n",
       "        vertical-align: middle;\n",
       "    }\n",
       "\n",
       "    .dataframe tbody tr th {\n",
       "        vertical-align: top;\n",
       "    }\n",
       "\n",
       "    .dataframe thead th {\n",
       "        text-align: right;\n",
       "    }\n",
       "</style>\n",
       "<table border=\"1\" class=\"dataframe\">\n",
       "  <thead>\n",
       "    <tr style=\"text-align: right;\">\n",
       "      <th></th>\n",
       "      <th>0</th>\n",
       "    </tr>\n",
       "  </thead>\n",
       "  <tbody>\n",
       "    <tr>\n",
       "      <th>count</th>\n",
       "      <td>5.000000</td>\n",
       "    </tr>\n",
       "    <tr>\n",
       "      <th>mean</th>\n",
       "      <td>46.680000</td>\n",
       "    </tr>\n",
       "    <tr>\n",
       "      <th>std</th>\n",
       "      <td>1.032957</td>\n",
       "    </tr>\n",
       "    <tr>\n",
       "      <th>min</th>\n",
       "      <td>45.500000</td>\n",
       "    </tr>\n",
       "    <tr>\n",
       "      <th>25%</th>\n",
       "      <td>46.200000</td>\n",
       "    </tr>\n",
       "    <tr>\n",
       "      <th>50%</th>\n",
       "      <td>46.200000</td>\n",
       "    </tr>\n",
       "    <tr>\n",
       "      <th>75%</th>\n",
       "      <td>47.500000</td>\n",
       "    </tr>\n",
       "    <tr>\n",
       "      <th>max</th>\n",
       "      <td>48.000000</td>\n",
       "    </tr>\n",
       "  </tbody>\n",
       "</table>\n",
       "</div>"
      ],
      "text/plain": [
       "               0\n",
       "count   5.000000\n",
       "mean   46.680000\n",
       "std     1.032957\n",
       "min    45.500000\n",
       "25%    46.200000\n",
       "50%    46.200000\n",
       "75%    47.500000\n",
       "max    48.000000"
      ]
     },
     "execution_count": 152,
     "metadata": {},
     "output_type": "execute_result"
    }
   ],
   "source": [
    "df_precos.describe()"
   ]
  },
  {
   "cell_type": "markdown",
   "id": "8d418010",
   "metadata": {},
   "source": [
    "---\n",
    "\n",
    "**Exercício 07:**\n",
    "\n",
    "Dado o array de alturas (em metros) de 12 plantas: \n",
    "\n",
    "[1.5, 1.8, 1.6, 2.0, 1.7, 1.8, 1.9, 1.6, 1.7, 1.8, 2.1, 1.7], \n",
    "\n",
    "calcule: \n",
    " \n",
    "a) A média.  \n",
    "b) A moda usando pandas.\n",
    "\n",
    "---"
   ]
  },
  {
   "cell_type": "code",
   "execution_count": 175,
   "id": "2f918194",
   "metadata": {},
   "outputs": [],
   "source": [
    "alt_plantas = [1.5, 1.8, 1.6, 2.0, 1.7, 1.8, 1.9, 1.6, 1.7, 1.8, 2.1, 1.7]"
   ]
  },
  {
   "cell_type": "code",
   "execution_count": 176,
   "id": "f3ca0327",
   "metadata": {},
   "outputs": [],
   "source": [
    "df_alt_plantas = pd.Series(alt_plantas)"
   ]
  },
  {
   "cell_type": "code",
   "execution_count": 177,
   "id": "5bb0e9c1",
   "metadata": {},
   "outputs": [
    {
     "data": {
      "text/plain": [
       "np.float64(1.7666666666666666)"
      ]
     },
     "execution_count": 177,
     "metadata": {},
     "output_type": "execute_result"
    }
   ],
   "source": [
    "df_alt_plantas.mean()"
   ]
  },
  {
   "cell_type": "code",
   "execution_count": 179,
   "id": "3f02b330",
   "metadata": {},
   "outputs": [
    {
     "data": {
      "text/plain": [
       "0    1.7\n",
       "1    1.8\n",
       "dtype: float64"
      ]
     },
     "execution_count": 179,
     "metadata": {},
     "output_type": "execute_result"
    }
   ],
   "source": [
    "df_alt_plantas.mode()"
   ]
  },
  {
   "cell_type": "code",
   "execution_count": 180,
   "id": "40bcdaff",
   "metadata": {},
   "outputs": [
    {
     "data": {
      "text/plain": [
       "count    12.000000\n",
       "mean      1.766667\n",
       "std       0.172328\n",
       "min       1.500000\n",
       "25%       1.675000\n",
       "50%       1.750000\n",
       "75%       1.825000\n",
       "max       2.100000\n",
       "dtype: float64"
      ]
     },
     "execution_count": 180,
     "metadata": {},
     "output_type": "execute_result"
    }
   ],
   "source": [
    "df_alt_plantas.describe()"
   ]
  },
  {
   "cell_type": "markdown",
   "id": "e24912be",
   "metadata": {},
   "source": [
    "---\n",
    "\n",
    "**Exercício 08:**\n",
    "\n",
    "O número de e-mails recebidos por um profissional durante 6 dias úteis foi: \n",
    "\n",
    "[15, 22, 18, 25, 20, 22]. \n",
    "\n",
    "Calcule:  \n",
    "\n",
    "a) A média.  \n",
    "b) A mediana.\n",
    "\n",
    "\n",
    "---"
   ]
  },
  {
   "cell_type": "code",
   "execution_count": 181,
   "id": "d4e2fa49",
   "metadata": {},
   "outputs": [],
   "source": [
    "emails = [15, 22, 18, 25, 20, 22]"
   ]
  },
  {
   "cell_type": "code",
   "execution_count": 183,
   "id": "c2528677",
   "metadata": {},
   "outputs": [],
   "source": [
    "df_emails = pd.Series(emails)"
   ]
  },
  {
   "cell_type": "code",
   "execution_count": 185,
   "id": "40ca37f7",
   "metadata": {},
   "outputs": [
    {
     "data": {
      "text/plain": [
       "np.float64(20.333333333333332)"
      ]
     },
     "execution_count": 185,
     "metadata": {},
     "output_type": "execute_result"
    }
   ],
   "source": [
    "df_emails.mean()"
   ]
  },
  {
   "cell_type": "code",
   "execution_count": 184,
   "id": "9f849495",
   "metadata": {},
   "outputs": [
    {
     "data": {
      "text/plain": [
       "np.float64(21.0)"
      ]
     },
     "execution_count": 184,
     "metadata": {},
     "output_type": "execute_result"
    }
   ],
   "source": [
    "df_emails.median()"
   ]
  },
  {
   "cell_type": "code",
   "execution_count": 186,
   "id": "7d5b3f57",
   "metadata": {},
   "outputs": [
    {
     "data": {
      "text/plain": [
       "count     6.000000\n",
       "mean     20.333333\n",
       "std       3.502380\n",
       "min      15.000000\n",
       "25%      18.500000\n",
       "50%      21.000000\n",
       "75%      22.000000\n",
       "max      25.000000\n",
       "dtype: float64"
      ]
     },
     "execution_count": 186,
     "metadata": {},
     "output_type": "execute_result"
    }
   ],
   "source": [
    "df_emails.describe()"
   ]
  },
  {
   "cell_type": "markdown",
   "id": "0e1d5d86",
   "metadata": {},
   "source": [
    "---\n",
    "\n",
    "**Exercício 09:**\n",
    "\n",
    "As notas de um aluno em 7 disciplinas foram: \n",
    "\n",
    "[7.0, 8.0, 6.5, 9.0, 7.5, 8.5, 7.0]. \n",
    "\n",
    "Calcule:\n",
    "  \n",
    "a) A média.  \n",
    "b) A moda usando pandas.\n",
    "\n",
    "---"
   ]
  },
  {
   "cell_type": "code",
   "execution_count": 187,
   "id": "9f08fb62",
   "metadata": {},
   "outputs": [],
   "source": [
    "notas_alunos = [7.0, 8.0, 6.5, 9.0, 7.5, 8.5, 7.0]"
   ]
  },
  {
   "cell_type": "code",
   "execution_count": 188,
   "id": "46b01402",
   "metadata": {},
   "outputs": [],
   "source": [
    "df_notas_alunos = pd.Series(notas_alunos)"
   ]
  },
  {
   "cell_type": "code",
   "execution_count": 189,
   "id": "6a5d518c",
   "metadata": {},
   "outputs": [
    {
     "data": {
      "text/plain": [
       "np.float64(7.642857142857143)"
      ]
     },
     "execution_count": 189,
     "metadata": {},
     "output_type": "execute_result"
    }
   ],
   "source": [
    "df_notas_alunos.mean()"
   ]
  },
  {
   "cell_type": "code",
   "execution_count": 190,
   "id": "51663cc9",
   "metadata": {},
   "outputs": [
    {
     "data": {
      "text/plain": [
       "np.float64(7.5)"
      ]
     },
     "execution_count": 190,
     "metadata": {},
     "output_type": "execute_result"
    }
   ],
   "source": [
    "df_notas_alunos.median()"
   ]
  },
  {
   "cell_type": "code",
   "execution_count": 191,
   "id": "a6a9a4ca",
   "metadata": {},
   "outputs": [
    {
     "data": {
      "text/plain": [
       "count    7.000000\n",
       "mean     7.642857\n",
       "std      0.899735\n",
       "min      6.500000\n",
       "25%      7.000000\n",
       "50%      7.500000\n",
       "75%      8.250000\n",
       "max      9.000000\n",
       "dtype: float64"
      ]
     },
     "execution_count": 191,
     "metadata": {},
     "output_type": "execute_result"
    }
   ],
   "source": [
    "df_notas_alunos.describe()"
   ]
  },
  {
   "cell_type": "markdown",
   "id": "430cc131",
   "metadata": {},
   "source": [
    "---\n",
    "\n",
    "**Exercício 10:**\n",
    "\n",
    "Um estudo sobre a duração (em minutos) de chamadas telefônicas resultou \n",
    "nos seguintes dados: \n",
    "\n",
    "[3, 5, 2, 8, 4, 4, 6, 3, 5, 7]. \n",
    "\n",
    "Calcule:  \n",
    "\n",
    "a) A média.  \n",
    "b) A mediana.  \n",
    "c) A moda usando numpy.\n",
    "\n",
    "---"
   ]
  },
  {
   "cell_type": "code",
   "execution_count": 192,
   "id": "e3a784a2",
   "metadata": {},
   "outputs": [],
   "source": [
    "chamadas = [3, 5, 2, 8, 4, 4, 6, 3, 5, 7]"
   ]
  },
  {
   "cell_type": "code",
   "execution_count": 193,
   "id": "b2e7cba2",
   "metadata": {},
   "outputs": [],
   "source": [
    "df_chamadas = pd.Series(chamadas)"
   ]
  },
  {
   "cell_type": "code",
   "execution_count": 194,
   "id": "65806638",
   "metadata": {},
   "outputs": [
    {
     "data": {
      "text/plain": [
       "np.float64(4.7)"
      ]
     },
     "execution_count": 194,
     "metadata": {},
     "output_type": "execute_result"
    }
   ],
   "source": [
    "df_chamadas.mean()"
   ]
  },
  {
   "cell_type": "code",
   "execution_count": 195,
   "id": "c0394eec",
   "metadata": {},
   "outputs": [
    {
     "data": {
      "text/plain": [
       "np.float64(4.5)"
      ]
     },
     "execution_count": 195,
     "metadata": {},
     "output_type": "execute_result"
    }
   ],
   "source": [
    "df_chamadas.median()"
   ]
  },
  {
   "cell_type": "code",
   "execution_count": 197,
   "id": "1481c902",
   "metadata": {},
   "outputs": [
    {
     "data": {
      "text/plain": [
       "0    3\n",
       "1    4\n",
       "2    5\n",
       "dtype: int64"
      ]
     },
     "execution_count": 197,
     "metadata": {},
     "output_type": "execute_result"
    }
   ],
   "source": [
    "df_chamadas.mode()"
   ]
  },
  {
   "cell_type": "code",
   "execution_count": 198,
   "id": "c1f42e88",
   "metadata": {},
   "outputs": [
    {
     "data": {
      "text/plain": [
       "count    10.000000\n",
       "mean      4.700000\n",
       "std       1.888562\n",
       "min       2.000000\n",
       "25%       3.250000\n",
       "50%       4.500000\n",
       "75%       5.750000\n",
       "max       8.000000\n",
       "dtype: float64"
      ]
     },
     "execution_count": 198,
     "metadata": {},
     "output_type": "execute_result"
    }
   ],
   "source": [
    "df_chamadas.describe()"
   ]
  },
  {
   "cell_type": "markdown",
   "id": "fbf3b104",
   "metadata": {},
   "source": [
    "## Medidas de dispersao"
   ]
  },
  {
   "cell_type": "markdown",
   "id": "381d00d8",
   "metadata": {},
   "source": [
    "---\n",
    "\n",
    "**Exercício 11:**\n",
    "\n",
    "Dado o array de temperaturas (em Celsius) registradas em uma semana em \n",
    "Recife: \n",
    "\n",
    "[28, 30, 29, 31, 28, 32, 30], \n",
    "\n",
    "calcule:\n",
    "  \n",
    "a) A amplitude.  \n",
    "b) O desvio padrão.\n",
    "\n",
    "---"
   ]
  },
  {
   "cell_type": "code",
   "execution_count": 200,
   "id": "aeaf0c78",
   "metadata": {},
   "outputs": [],
   "source": [
    "temperaturas = [28, 30, 29, 31, 28, 32, 30]"
   ]
  },
  {
   "cell_type": "code",
   "execution_count": 202,
   "id": "479f36f6",
   "metadata": {},
   "outputs": [],
   "source": [
    "df_temperaturas = pd.Series(temperaturas)"
   ]
  },
  {
   "cell_type": "code",
   "execution_count": 203,
   "id": "4835f681",
   "metadata": {},
   "outputs": [
    {
     "data": {
      "text/plain": [
       "np.int64(4)"
      ]
     },
     "execution_count": 203,
     "metadata": {},
     "output_type": "execute_result"
    }
   ],
   "source": [
    "amplitude_temp = df_temperaturas.max() - df_temperaturas.min()\n",
    "amplitude_temp"
   ]
  },
  {
   "cell_type": "code",
   "execution_count": 204,
   "id": "07b1783b",
   "metadata": {},
   "outputs": [
    {
     "data": {
      "text/plain": [
       "np.float64(1.4960264830861911)"
      ]
     },
     "execution_count": 204,
     "metadata": {},
     "output_type": "execute_result"
    }
   ],
   "source": [
    "df_temperaturas.std()"
   ]
  },
  {
   "cell_type": "code",
   "execution_count": 205,
   "id": "8adea8c1",
   "metadata": {},
   "outputs": [
    {
     "data": {
      "text/plain": [
       "count     7.000000\n",
       "mean     29.714286\n",
       "std       1.496026\n",
       "min      28.000000\n",
       "25%      28.500000\n",
       "50%      30.000000\n",
       "75%      30.500000\n",
       "max      32.000000\n",
       "dtype: float64"
      ]
     },
     "execution_count": 205,
     "metadata": {},
     "output_type": "execute_result"
    }
   ],
   "source": [
    "df_temperaturas.describe()"
   ]
  },
  {
   "cell_type": "markdown",
   "id": "d4970e4c",
   "metadata": {},
   "source": [
    "---\n",
    "\n",
    "**Exercício 12:**\n",
    "\n",
    "Um cientista de dados coletou o número de cliques em um anúncio online \n",
    "durante 5 dias: \n",
    "\n",
    "[150, 165, 140, 170, 155]. \n",
    "\n",
    "Calcule:  \n",
    "\n",
    "a) A variância.  \n",
    "b) O desvio padrão. \n",
    "\n",
    "\n",
    "---"
   ]
  },
  {
   "cell_type": "code",
   "execution_count": 206,
   "id": "3a247c0f",
   "metadata": {},
   "outputs": [],
   "source": [
    "cliques = [150, 165, 140, 170, 155]"
   ]
  },
  {
   "cell_type": "code",
   "execution_count": 207,
   "id": "ec3f80f5",
   "metadata": {},
   "outputs": [],
   "source": [
    "df_cliques = pd.Series(cliques)"
   ]
  },
  {
   "cell_type": "code",
   "execution_count": 208,
   "id": "339dc0a9",
   "metadata": {},
   "outputs": [
    {
     "data": {
      "text/plain": [
       "np.float64(142.5)"
      ]
     },
     "execution_count": 208,
     "metadata": {},
     "output_type": "execute_result"
    }
   ],
   "source": [
    "df_cliques.var()"
   ]
  },
  {
   "cell_type": "code",
   "execution_count": 209,
   "id": "49315138",
   "metadata": {},
   "outputs": [
    {
     "data": {
      "text/plain": [
       "np.float64(11.937336386313323)"
      ]
     },
     "execution_count": 209,
     "metadata": {},
     "output_type": "execute_result"
    }
   ],
   "source": [
    "df_cliques.std()"
   ]
  },
  {
   "cell_type": "code",
   "execution_count": 210,
   "id": "80a4bc56",
   "metadata": {},
   "outputs": [
    {
     "data": {
      "text/plain": [
       "count      5.000000\n",
       "mean     156.000000\n",
       "std       11.937336\n",
       "min      140.000000\n",
       "25%      150.000000\n",
       "50%      155.000000\n",
       "75%      165.000000\n",
       "max      170.000000\n",
       "dtype: float64"
      ]
     },
     "execution_count": 210,
     "metadata": {},
     "output_type": "execute_result"
    }
   ],
   "source": [
    "df_cliques.describe()"
   ]
  },
  {
   "cell_type": "markdown",
   "id": "82b2530f",
   "metadata": {},
   "source": [
    "---\n",
    "\n",
    "**Exercício 13:**\n",
    "\n",
    "As alturas (em cm) de 8 jogadores de basquete de um time pernambucano \n",
    "são: \n",
    "\n",
    "[195, 202, 188, 205, 198, 200, 192, 203]. \n",
    "\n",
    "Calcule:  \n",
    "\n",
    "a) O primeiro quartil (Q1).  \n",
    "b) O terceiro quartil (Q3).  \n",
    "c) O intervalo interquartil (IIQ).\n",
    "\n",
    "\n",
    "---"
   ]
  },
  {
   "cell_type": "code",
   "execution_count": 211,
   "id": "5c810ca2",
   "metadata": {},
   "outputs": [],
   "source": [
    "alt_jogadores = [195, 202, 188, 205, 198, 200, 192, 203]"
   ]
  },
  {
   "cell_type": "code",
   "execution_count": 212,
   "id": "3168ab01",
   "metadata": {},
   "outputs": [],
   "source": [
    "df_jogadores = pd.Series(alt_jogadores)"
   ]
  },
  {
   "cell_type": "code",
   "execution_count": 214,
   "id": "79decdc4",
   "metadata": {},
   "outputs": [],
   "source": [
    "q1 = df_jogadores.quantile(0.25)"
   ]
  },
  {
   "cell_type": "code",
   "execution_count": 215,
   "id": "bfde8301",
   "metadata": {},
   "outputs": [],
   "source": [
    "q3 = df_jogadores.quantile(0.75)"
   ]
  },
  {
   "cell_type": "code",
   "execution_count": 217,
   "id": "dd1c354f",
   "metadata": {},
   "outputs": [
    {
     "data": {
      "text/plain": [
       "np.float64(8.0)"
      ]
     },
     "execution_count": 217,
     "metadata": {},
     "output_type": "execute_result"
    }
   ],
   "source": [
    "iiq = q3 - q1\n",
    "iiq"
   ]
  },
  {
   "cell_type": "markdown",
   "id": "8aad9d08",
   "metadata": {},
   "source": [
    "---\n",
    "\n",
    "**Exercício 14:**\n",
    "\n",
    "O tempo de espera (em minutos) de 10 clientes em uma fila de banco em \n",
    "Boa Viagem foi: \n",
    "\n",
    "[5, 8, 3, 9, 6, 7, 4, 10, 5, 8]. \n",
    "\n",
    "Calcule:  \n",
    "\n",
    "a) A mediana.  \n",
    "b) O intervalo interquartil (IIQ).\n",
    "\n",
    "---"
   ]
  },
  {
   "cell_type": "code",
   "execution_count": 218,
   "id": "20ce3fa9",
   "metadata": {},
   "outputs": [],
   "source": [
    "espera = [5, 8, 3, 9, 6, 7, 4, 10, 5, 8]"
   ]
  },
  {
   "cell_type": "code",
   "execution_count": 219,
   "id": "c6ba9099",
   "metadata": {},
   "outputs": [],
   "source": [
    "df_espera = pd.Series(espera)"
   ]
  },
  {
   "cell_type": "code",
   "execution_count": 220,
   "id": "3a3409b8",
   "metadata": {},
   "outputs": [
    {
     "data": {
      "text/plain": [
       "np.float64(6.5)"
      ]
     },
     "execution_count": 220,
     "metadata": {},
     "output_type": "execute_result"
    }
   ],
   "source": [
    "df_espera.quantile(0.5)"
   ]
  },
  {
   "cell_type": "code",
   "execution_count": 222,
   "id": "78bc432c",
   "metadata": {},
   "outputs": [
    {
     "data": {
      "text/plain": [
       "np.float64(3.0)"
      ]
     },
     "execution_count": 222,
     "metadata": {},
     "output_type": "execute_result"
    }
   ],
   "source": [
    "iiq = df_espera.quantile(0.75) - df_espera.quantile(0.25)\n",
    "iiq"
   ]
  },
  {
   "cell_type": "markdown",
   "id": "553b33da",
   "metadata": {},
   "source": [
    "---\n",
    "\n",
    "**Exercício 15:**\n",
    "\n",
    "Uma pesquisa registrou o número de livros lidos por 12 pessoas em um ano: \n",
    "\n",
    "[2, 5, 1, 8, 3, 3, 6, 4, 2, 7, 4, 5]. \n",
    "\n",
    "Calcule:  \n",
    "\n",
    "a) A média.  \n",
    "b) O desvio padrão.\n",
    "\n",
    "---"
   ]
  },
  {
   "cell_type": "code",
   "execution_count": 223,
   "id": "9e2a1ac6",
   "metadata": {},
   "outputs": [],
   "source": [
    "livros = [2, 5, 1, 8, 3, 3, 6, 4, 2, 7, 4, 5]"
   ]
  },
  {
   "cell_type": "code",
   "execution_count": 224,
   "id": "6692ae9a",
   "metadata": {},
   "outputs": [],
   "source": [
    "df_livros = pd.Series(livros)"
   ]
  },
  {
   "cell_type": "code",
   "execution_count": 225,
   "id": "99e67014",
   "metadata": {},
   "outputs": [
    {
     "data": {
      "text/plain": [
       "np.float64(4.166666666666667)"
      ]
     },
     "execution_count": 225,
     "metadata": {},
     "output_type": "execute_result"
    }
   ],
   "source": [
    "df_livros.mean()"
   ]
  },
  {
   "cell_type": "code",
   "execution_count": 226,
   "id": "68efdf49",
   "metadata": {},
   "outputs": [
    {
     "data": {
      "text/plain": [
       "np.float64(2.1248885888797826)"
      ]
     },
     "execution_count": 226,
     "metadata": {},
     "output_type": "execute_result"
    }
   ],
   "source": [
    "df_livros.std()"
   ]
  },
  {
   "cell_type": "code",
   "execution_count": 227,
   "id": "4ab99e23",
   "metadata": {},
   "outputs": [
    {
     "data": {
      "text/plain": [
       "count    12.000000\n",
       "mean      4.166667\n",
       "std       2.124889\n",
       "min       1.000000\n",
       "25%       2.750000\n",
       "50%       4.000000\n",
       "75%       5.250000\n",
       "max       8.000000\n",
       "dtype: float64"
      ]
     },
     "execution_count": 227,
     "metadata": {},
     "output_type": "execute_result"
    }
   ],
   "source": [
    "df_livros.describe()"
   ]
  },
  {
   "cell_type": "markdown",
   "id": "35f14eca",
   "metadata": {},
   "source": [
    "---\n",
    "\n",
    "**Exercício 16:**\n",
    "\n",
    "Os salários (em milhares de reais) de uma amostra de 7 funcionários de uma \n",
    "startup em Porto Digital são: \n",
    "\n",
    "[3.5, 4.0, 3.8, 4.2, 3.6, 5.5, 3.9]. \n",
    "\n",
    "Calcule:\n",
    "  \n",
    "a) A média.  \n",
    "b) O desvio padrão amostral (use a correção de Bessel).\n",
    "\n",
    "\n",
    "---"
   ]
  },
  {
   "cell_type": "code",
   "execution_count": 228,
   "id": "73a152c1",
   "metadata": {},
   "outputs": [],
   "source": [
    "salarios = [3.5, 4.0, 3.8, 4.2, 3.6, 5.5, 3.9]"
   ]
  },
  {
   "cell_type": "code",
   "execution_count": 229,
   "id": "8d534102",
   "metadata": {},
   "outputs": [],
   "source": [
    "df_salarios = pd.Series(salarios)"
   ]
  },
  {
   "cell_type": "code",
   "execution_count": 230,
   "id": "f498951d",
   "metadata": {},
   "outputs": [
    {
     "data": {
      "text/plain": [
       "np.float64(4.071428571428571)"
      ]
     },
     "execution_count": 230,
     "metadata": {},
     "output_type": "execute_result"
    }
   ],
   "source": [
    "df_salarios.mean()"
   ]
  },
  {
   "cell_type": "code",
   "execution_count": 233,
   "id": "d5bdd49a",
   "metadata": {},
   "outputs": [
    {
     "data": {
      "text/plain": [
       "np.float64(0.6226998490772391)"
      ]
     },
     "execution_count": 233,
     "metadata": {},
     "output_type": "execute_result"
    }
   ],
   "source": [
    "df_salarios.std(ddof=0)"
   ]
  },
  {
   "cell_type": "code",
   "execution_count": 232,
   "id": "a40a5ec8",
   "metadata": {},
   "outputs": [
    {
     "data": {
      "text/plain": [
       "count    7.000000\n",
       "mean     4.071429\n",
       "std      0.672593\n",
       "min      3.500000\n",
       "25%      3.700000\n",
       "50%      3.900000\n",
       "75%      4.100000\n",
       "max      5.500000\n",
       "dtype: float64"
      ]
     },
     "execution_count": 232,
     "metadata": {},
     "output_type": "execute_result"
    }
   ],
   "source": [
    "df_salarios.describe()"
   ]
  },
  {
   "cell_type": "markdown",
   "id": "743fc5af",
   "metadata": {},
   "source": [
    "---\n",
    "\n",
    "\n",
    "**Exercício 17:**\n",
    "\n",
    "Dado o array de notas de um aluno em 6 provas: \n",
    "[7.0, 8.5, 6.5, 9.0, 7.5, 8.0], \n",
    "\n",
    "calcule:  \n",
    "\n",
    "\n",
    "a) A amplitude.  \n",
    "b) A variância amostral (use a correção de Bessel). \n",
    "\n",
    "---"
   ]
  },
  {
   "cell_type": "code",
   "execution_count": 234,
   "id": "fd4f3e7f",
   "metadata": {},
   "outputs": [],
   "source": [
    "notas_new = [7.0, 8.5, 6.5, 9.0, 7.5, 8.0]"
   ]
  },
  {
   "cell_type": "code",
   "execution_count": 235,
   "id": "7fe70003",
   "metadata": {},
   "outputs": [],
   "source": [
    "notas_alunos_series = pd.Series(notas_new)"
   ]
  },
  {
   "cell_type": "code",
   "execution_count": 237,
   "id": "f3fed824",
   "metadata": {},
   "outputs": [
    {
     "data": {
      "text/plain": [
       "np.float64(2.5)"
      ]
     },
     "execution_count": 237,
     "metadata": {},
     "output_type": "execute_result"
    }
   ],
   "source": [
    "amplitude = notas_alunos_series.max() - notas_alunos_series.min()\n",
    "amplitude"
   ]
  },
  {
   "cell_type": "code",
   "execution_count": 238,
   "id": "100c91e5",
   "metadata": {},
   "outputs": [
    {
     "data": {
      "text/plain": [
       "np.float64(0.7291666666666666)"
      ]
     },
     "execution_count": 238,
     "metadata": {},
     "output_type": "execute_result"
    }
   ],
   "source": [
    "notas_alunos_series.var(ddof=0)"
   ]
  },
  {
   "cell_type": "code",
   "execution_count": 239,
   "id": "ba9434f0",
   "metadata": {},
   "outputs": [
    {
     "data": {
      "text/plain": [
       "count    6.000000\n",
       "mean     7.750000\n",
       "std      0.935414\n",
       "min      6.500000\n",
       "25%      7.125000\n",
       "50%      7.750000\n",
       "75%      8.375000\n",
       "max      9.000000\n",
       "dtype: float64"
      ]
     },
     "execution_count": 239,
     "metadata": {},
     "output_type": "execute_result"
    }
   ],
   "source": [
    "notas_alunos_series.describe()"
   ]
  },
  {
   "cell_type": "markdown",
   "id": "1adea626",
   "metadata": {},
   "source": [
    "---\n",
    "\n",
    "**Exercício 18:**\n",
    "\n",
    "Um analista financeiro monitorou o retorno percentual de um investimento \n",
    "durante 5 meses: \n",
    "\n",
    "[1.2, 0.8, 1.5, -0.5, 1.0]. \n",
    "\n",
    "Calcule:  \n",
    "\n",
    "a) O desvio padrão.\n",
    "\n",
    "---"
   ]
  },
  {
   "cell_type": "code",
   "execution_count": 240,
   "id": "e533ab6b",
   "metadata": {},
   "outputs": [],
   "source": [
    "investimento = [1.2, 0.8, 1.5, -0.5, 1.0]"
   ]
  },
  {
   "cell_type": "code",
   "execution_count": 241,
   "id": "1ed6795f",
   "metadata": {},
   "outputs": [],
   "source": [
    "investimento_series = pd.Series(investimento)"
   ]
  },
  {
   "cell_type": "code",
   "execution_count": 242,
   "id": "ca441202",
   "metadata": {},
   "outputs": [
    {
     "data": {
      "text/plain": [
       "np.float64(0.7713624310270756)"
      ]
     },
     "execution_count": 242,
     "metadata": {},
     "output_type": "execute_result"
    }
   ],
   "source": [
    "investimento_series.std()"
   ]
  },
  {
   "cell_type": "code",
   "execution_count": 243,
   "id": "c26671c1",
   "metadata": {},
   "outputs": [
    {
     "data": {
      "text/plain": [
       "count    5.000000\n",
       "mean     0.800000\n",
       "std      0.771362\n",
       "min     -0.500000\n",
       "25%      0.800000\n",
       "50%      1.000000\n",
       "75%      1.200000\n",
       "max      1.500000\n",
       "dtype: float64"
      ]
     },
     "execution_count": 243,
     "metadata": {},
     "output_type": "execute_result"
    }
   ],
   "source": [
    "investimento_series.describe()"
   ]
  },
  {
   "cell_type": "markdown",
   "id": "e28a212d",
   "metadata": {},
   "source": [
    "---\n",
    "\n",
    "**Exercício 19:**\n",
    "\n",
    "As idades de 9 participantes de um grupo de estudo são: \n",
    "\n",
    "[22, 25, 28, 21, 30, 24, 26, 23, 27]. \n",
    "\n",
    "Calcule:  \n",
    "\n",
    "a) A mediana.  \n",
    "b) O primeiro e o terceiro quartis.  \n",
    "c) O intervalo interquartil (IIQ).\n",
    "\n",
    "---"
   ]
  },
  {
   "cell_type": "code",
   "execution_count": 244,
   "id": "1a7be1cd",
   "metadata": {},
   "outputs": [],
   "source": [
    "idades_est = [22, 25, 28, 21, 30, 24, 26, 23, 27]"
   ]
  },
  {
   "cell_type": "code",
   "execution_count": 245,
   "id": "312aa76f",
   "metadata": {},
   "outputs": [],
   "source": [
    "idades_est_series = pd.Series(idades_est)"
   ]
  },
  {
   "cell_type": "code",
   "execution_count": 246,
   "id": "dd9002a5",
   "metadata": {},
   "outputs": [
    {
     "data": {
      "text/plain": [
       "np.float64(25.0)"
      ]
     },
     "execution_count": 246,
     "metadata": {},
     "output_type": "execute_result"
    }
   ],
   "source": [
    "idades_est_series.median()"
   ]
  },
  {
   "cell_type": "code",
   "execution_count": 248,
   "id": "d685cd7f",
   "metadata": {},
   "outputs": [
    {
     "data": {
      "text/plain": [
       "np.float64(23.0)"
      ]
     },
     "execution_count": 248,
     "metadata": {},
     "output_type": "execute_result"
    }
   ],
   "source": [
    "q1 = idades_est_series.quantile(0.25)\n",
    "q1"
   ]
  },
  {
   "cell_type": "code",
   "execution_count": 249,
   "id": "4547091e",
   "metadata": {},
   "outputs": [
    {
     "data": {
      "text/plain": [
       "np.float64(27.0)"
      ]
     },
     "execution_count": 249,
     "metadata": {},
     "output_type": "execute_result"
    }
   ],
   "source": [
    "q3 = idades_est_series.quantile(0.75)\n",
    "q3"
   ]
  },
  {
   "cell_type": "code",
   "execution_count": 251,
   "id": "2a227804",
   "metadata": {},
   "outputs": [
    {
     "data": {
      "text/plain": [
       "np.float64(4.0)"
      ]
     },
     "execution_count": 251,
     "metadata": {},
     "output_type": "execute_result"
    }
   ],
   "source": [
    "iiq = q3 - q1\n",
    "iiq"
   ]
  },
  {
   "cell_type": "markdown",
   "id": "528ea5dc",
   "metadata": {},
   "source": [
    "---\n",
    "\n",
    "**Exercício 20:**\n",
    "\n",
    "\n",
    "Um sensor registrou as seguintes leituras de pressão (em PSI): \n",
    "\n",
    "[10.2, 10.5, 9.8, 10.7, 10.0, 10.3, 10.1]. \n",
    "\n",
    "Calcule:  \n",
    "\n",
    "a) A variância populacional (assuma que esses são todos os registros relevantes).  \n",
    "b) O desvio padrão populacional. \n",
    "\n",
    "---"
   ]
  },
  {
   "cell_type": "code",
   "execution_count": 252,
   "id": "869042c6",
   "metadata": {},
   "outputs": [],
   "source": [
    "pressao = [10.2, 10.5, 9.8, 10.7, 10.0, 10.3, 10.1]"
   ]
  },
  {
   "cell_type": "code",
   "execution_count": 253,
   "id": "47e7314f",
   "metadata": {},
   "outputs": [],
   "source": [
    "pressao_series = pd.Series(pressao)"
   ]
  },
  {
   "cell_type": "code",
   "execution_count": 254,
   "id": "d380fbe8",
   "metadata": {},
   "outputs": [
    {
     "data": {
      "text/plain": [
       "np.float64(0.09238095238095219)"
      ]
     },
     "execution_count": 254,
     "metadata": {},
     "output_type": "execute_result"
    }
   ],
   "source": [
    "pressao_series.var()"
   ]
  },
  {
   "cell_type": "code",
   "execution_count": 255,
   "id": "07d67db7",
   "metadata": {},
   "outputs": [
    {
     "data": {
      "text/plain": [
       "np.float64(0.3039423504234844)"
      ]
     },
     "execution_count": 255,
     "metadata": {},
     "output_type": "execute_result"
    }
   ],
   "source": [
    "pressao_series.std()"
   ]
  },
  {
   "cell_type": "code",
   "execution_count": 256,
   "id": "f030cffa",
   "metadata": {},
   "outputs": [
    {
     "data": {
      "text/plain": [
       "count     7.000000\n",
       "mean     10.228571\n",
       "std       0.303942\n",
       "min       9.800000\n",
       "25%      10.050000\n",
       "50%      10.200000\n",
       "75%      10.400000\n",
       "max      10.700000\n",
       "dtype: float64"
      ]
     },
     "execution_count": 256,
     "metadata": {},
     "output_type": "execute_result"
    }
   ],
   "source": [
    "pressao_series.describe()"
   ]
  }
 ],
 "metadata": {
  "language_info": {
   "name": "python"
  }
 },
 "nbformat": 4,
 "nbformat_minor": 5
}
