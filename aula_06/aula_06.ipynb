{
 "cells": [
  {
   "cell_type": "markdown",
   "id": "62cb5861",
   "metadata": {},
   "source": [
    "Exercício 09: Uma fábrica de açúcar em Goiana (Pernambuco) sabe, por anos de dados \n",
    "históricos, que o desvio padrão do peso de um saco de açúcar de 1 kg é de 20 gramas. \n",
    "Uma amostra aleatória de 64 sacos de açúcar foi selecionada e o peso médio encontrado \n",
    "foi de 1010 gramas. Construa um intervalo de confiança de 90% para o verdadeiro peso \n",
    "médio dos sacos de açúcar produzidos pela fábrica. "
   ]
  },
  {
   "cell_type": "markdown",
   "id": "2d45a7ce",
   "metadata": {},
   "source": [
    "---"
   ]
  },
  {
   "cell_type": "code",
   "execution_count": 20,
   "id": "dfefad08",
   "metadata": {},
   "outputs": [],
   "source": [
    "import pandas as pd\n",
    "import numpy as np"
   ]
  },
  {
   "cell_type": "code",
   "execution_count": 4,
   "id": "b528d124",
   "metadata": {},
   "outputs": [],
   "source": [
    "altura = pd.read_csv('/home/laza/estatistica-treina/aula_06/amostraPesoAltura.csv')"
   ]
  },
  {
   "cell_type": "code",
   "execution_count": 7,
   "id": "67d37408",
   "metadata": {},
   "outputs": [
    {
     "data": {
      "text/html": [
       "<div>\n",
       "<style scoped>\n",
       "    .dataframe tbody tr th:only-of-type {\n",
       "        vertical-align: middle;\n",
       "    }\n",
       "\n",
       "    .dataframe tbody tr th {\n",
       "        vertical-align: top;\n",
       "    }\n",
       "\n",
       "    .dataframe thead th {\n",
       "        text-align: right;\n",
       "    }\n",
       "</style>\n",
       "<table border=\"1\" class=\"dataframe\">\n",
       "  <thead>\n",
       "    <tr style=\"text-align: right;\">\n",
       "      <th></th>\n",
       "      <th>Index</th>\n",
       "      <th>Height(Inches)</th>\n",
       "      <th>Weight(Pounds)</th>\n",
       "    </tr>\n",
       "  </thead>\n",
       "  <tbody>\n",
       "    <tr>\n",
       "      <th>0</th>\n",
       "      <td>1</td>\n",
       "      <td>65.78331</td>\n",
       "      <td>112.99250</td>\n",
       "    </tr>\n",
       "    <tr>\n",
       "      <th>1</th>\n",
       "      <td>2</td>\n",
       "      <td>71.51521</td>\n",
       "      <td>136.48730</td>\n",
       "    </tr>\n",
       "    <tr>\n",
       "      <th>2</th>\n",
       "      <td>3</td>\n",
       "      <td>69.39874</td>\n",
       "      <td>153.02690</td>\n",
       "    </tr>\n",
       "    <tr>\n",
       "      <th>3</th>\n",
       "      <td>4</td>\n",
       "      <td>68.21660</td>\n",
       "      <td>142.33540</td>\n",
       "    </tr>\n",
       "    <tr>\n",
       "      <th>4</th>\n",
       "      <td>5</td>\n",
       "      <td>67.78781</td>\n",
       "      <td>144.29710</td>\n",
       "    </tr>\n",
       "    <tr>\n",
       "      <th>5</th>\n",
       "      <td>6</td>\n",
       "      <td>68.69784</td>\n",
       "      <td>123.30240</td>\n",
       "    </tr>\n",
       "    <tr>\n",
       "      <th>6</th>\n",
       "      <td>7</td>\n",
       "      <td>69.80204</td>\n",
       "      <td>141.49470</td>\n",
       "    </tr>\n",
       "    <tr>\n",
       "      <th>7</th>\n",
       "      <td>8</td>\n",
       "      <td>70.01472</td>\n",
       "      <td>136.46230</td>\n",
       "    </tr>\n",
       "    <tr>\n",
       "      <th>8</th>\n",
       "      <td>9</td>\n",
       "      <td>67.90265</td>\n",
       "      <td>112.37230</td>\n",
       "    </tr>\n",
       "    <tr>\n",
       "      <th>9</th>\n",
       "      <td>10</td>\n",
       "      <td>66.78236</td>\n",
       "      <td>120.66720</td>\n",
       "    </tr>\n",
       "    <tr>\n",
       "      <th>10</th>\n",
       "      <td>11</td>\n",
       "      <td>66.48769</td>\n",
       "      <td>127.45160</td>\n",
       "    </tr>\n",
       "    <tr>\n",
       "      <th>11</th>\n",
       "      <td>12</td>\n",
       "      <td>67.62333</td>\n",
       "      <td>114.14300</td>\n",
       "    </tr>\n",
       "    <tr>\n",
       "      <th>12</th>\n",
       "      <td>13</td>\n",
       "      <td>68.30248</td>\n",
       "      <td>125.61070</td>\n",
       "    </tr>\n",
       "    <tr>\n",
       "      <th>13</th>\n",
       "      <td>14</td>\n",
       "      <td>67.11656</td>\n",
       "      <td>122.46180</td>\n",
       "    </tr>\n",
       "    <tr>\n",
       "      <th>14</th>\n",
       "      <td>15</td>\n",
       "      <td>68.27967</td>\n",
       "      <td>116.08660</td>\n",
       "    </tr>\n",
       "    <tr>\n",
       "      <th>15</th>\n",
       "      <td>16</td>\n",
       "      <td>71.09160</td>\n",
       "      <td>139.99750</td>\n",
       "    </tr>\n",
       "    <tr>\n",
       "      <th>16</th>\n",
       "      <td>17</td>\n",
       "      <td>66.46100</td>\n",
       "      <td>129.50230</td>\n",
       "    </tr>\n",
       "    <tr>\n",
       "      <th>17</th>\n",
       "      <td>18</td>\n",
       "      <td>68.64927</td>\n",
       "      <td>142.97330</td>\n",
       "    </tr>\n",
       "    <tr>\n",
       "      <th>18</th>\n",
       "      <td>19</td>\n",
       "      <td>71.23033</td>\n",
       "      <td>137.90250</td>\n",
       "    </tr>\n",
       "    <tr>\n",
       "      <th>19</th>\n",
       "      <td>20</td>\n",
       "      <td>67.13118</td>\n",
       "      <td>124.04490</td>\n",
       "    </tr>\n",
       "    <tr>\n",
       "      <th>20</th>\n",
       "      <td>21</td>\n",
       "      <td>67.83379</td>\n",
       "      <td>141.28070</td>\n",
       "    </tr>\n",
       "    <tr>\n",
       "      <th>21</th>\n",
       "      <td>22</td>\n",
       "      <td>68.87881</td>\n",
       "      <td>143.53920</td>\n",
       "    </tr>\n",
       "    <tr>\n",
       "      <th>22</th>\n",
       "      <td>23</td>\n",
       "      <td>63.48115</td>\n",
       "      <td>97.90191</td>\n",
       "    </tr>\n",
       "    <tr>\n",
       "      <th>23</th>\n",
       "      <td>24</td>\n",
       "      <td>68.42187</td>\n",
       "      <td>129.50270</td>\n",
       "    </tr>\n",
       "    <tr>\n",
       "      <th>24</th>\n",
       "      <td>25</td>\n",
       "      <td>67.62804</td>\n",
       "      <td>141.85010</td>\n",
       "    </tr>\n",
       "    <tr>\n",
       "      <th>25</th>\n",
       "      <td>26</td>\n",
       "      <td>67.20864</td>\n",
       "      <td>129.72440</td>\n",
       "    </tr>\n",
       "    <tr>\n",
       "      <th>26</th>\n",
       "      <td>27</td>\n",
       "      <td>70.84235</td>\n",
       "      <td>142.42350</td>\n",
       "    </tr>\n",
       "    <tr>\n",
       "      <th>27</th>\n",
       "      <td>28</td>\n",
       "      <td>67.49434</td>\n",
       "      <td>131.55020</td>\n",
       "    </tr>\n",
       "    <tr>\n",
       "      <th>28</th>\n",
       "      <td>29</td>\n",
       "      <td>66.53401</td>\n",
       "      <td>108.33240</td>\n",
       "    </tr>\n",
       "    <tr>\n",
       "      <th>29</th>\n",
       "      <td>30</td>\n",
       "      <td>65.44098</td>\n",
       "      <td>113.89220</td>\n",
       "    </tr>\n",
       "    <tr>\n",
       "      <th>30</th>\n",
       "      <td>31</td>\n",
       "      <td>69.52330</td>\n",
       "      <td>103.30160</td>\n",
       "    </tr>\n",
       "    <tr>\n",
       "      <th>31</th>\n",
       "      <td>32</td>\n",
       "      <td>65.81320</td>\n",
       "      <td>120.75360</td>\n",
       "    </tr>\n",
       "    <tr>\n",
       "      <th>32</th>\n",
       "      <td>33</td>\n",
       "      <td>67.81630</td>\n",
       "      <td>125.78860</td>\n",
       "    </tr>\n",
       "    <tr>\n",
       "      <th>33</th>\n",
       "      <td>34</td>\n",
       "      <td>70.59505</td>\n",
       "      <td>136.22250</td>\n",
       "    </tr>\n",
       "    <tr>\n",
       "      <th>34</th>\n",
       "      <td>35</td>\n",
       "      <td>71.80484</td>\n",
       "      <td>140.10150</td>\n",
       "    </tr>\n",
       "    <tr>\n",
       "      <th>35</th>\n",
       "      <td>36</td>\n",
       "      <td>69.20613</td>\n",
       "      <td>128.74870</td>\n",
       "    </tr>\n",
       "    <tr>\n",
       "      <th>36</th>\n",
       "      <td>37</td>\n",
       "      <td>66.80368</td>\n",
       "      <td>141.79940</td>\n",
       "    </tr>\n",
       "    <tr>\n",
       "      <th>37</th>\n",
       "      <td>38</td>\n",
       "      <td>67.65893</td>\n",
       "      <td>121.23190</td>\n",
       "    </tr>\n",
       "    <tr>\n",
       "      <th>38</th>\n",
       "      <td>39</td>\n",
       "      <td>67.80701</td>\n",
       "      <td>131.34780</td>\n",
       "    </tr>\n",
       "    <tr>\n",
       "      <th>39</th>\n",
       "      <td>40</td>\n",
       "      <td>64.04535</td>\n",
       "      <td>106.71150</td>\n",
       "    </tr>\n",
       "    <tr>\n",
       "      <th>40</th>\n",
       "      <td>41</td>\n",
       "      <td>68.57463</td>\n",
       "      <td>124.35980</td>\n",
       "    </tr>\n",
       "    <tr>\n",
       "      <th>41</th>\n",
       "      <td>42</td>\n",
       "      <td>65.18357</td>\n",
       "      <td>124.85910</td>\n",
       "    </tr>\n",
       "    <tr>\n",
       "      <th>42</th>\n",
       "      <td>43</td>\n",
       "      <td>69.65814</td>\n",
       "      <td>139.67110</td>\n",
       "    </tr>\n",
       "    <tr>\n",
       "      <th>43</th>\n",
       "      <td>44</td>\n",
       "      <td>67.96731</td>\n",
       "      <td>137.36960</td>\n",
       "    </tr>\n",
       "    <tr>\n",
       "      <th>44</th>\n",
       "      <td>45</td>\n",
       "      <td>65.98088</td>\n",
       "      <td>106.44990</td>\n",
       "    </tr>\n",
       "    <tr>\n",
       "      <th>45</th>\n",
       "      <td>46</td>\n",
       "      <td>68.67249</td>\n",
       "      <td>128.76390</td>\n",
       "    </tr>\n",
       "    <tr>\n",
       "      <th>46</th>\n",
       "      <td>47</td>\n",
       "      <td>66.88088</td>\n",
       "      <td>145.68370</td>\n",
       "    </tr>\n",
       "    <tr>\n",
       "      <th>47</th>\n",
       "      <td>48</td>\n",
       "      <td>67.69868</td>\n",
       "      <td>116.81900</td>\n",
       "    </tr>\n",
       "    <tr>\n",
       "      <th>48</th>\n",
       "      <td>49</td>\n",
       "      <td>69.82117</td>\n",
       "      <td>143.62150</td>\n",
       "    </tr>\n",
       "    <tr>\n",
       "      <th>49</th>\n",
       "      <td>50</td>\n",
       "      <td>69.08817</td>\n",
       "      <td>134.93250</td>\n",
       "    </tr>\n",
       "  </tbody>\n",
       "</table>\n",
       "</div>"
      ],
      "text/plain": [
       "    Index  Height(Inches)  Weight(Pounds)\n",
       "0       1        65.78331       112.99250\n",
       "1       2        71.51521       136.48730\n",
       "2       3        69.39874       153.02690\n",
       "3       4        68.21660       142.33540\n",
       "4       5        67.78781       144.29710\n",
       "5       6        68.69784       123.30240\n",
       "6       7        69.80204       141.49470\n",
       "7       8        70.01472       136.46230\n",
       "8       9        67.90265       112.37230\n",
       "9      10        66.78236       120.66720\n",
       "10     11        66.48769       127.45160\n",
       "11     12        67.62333       114.14300\n",
       "12     13        68.30248       125.61070\n",
       "13     14        67.11656       122.46180\n",
       "14     15        68.27967       116.08660\n",
       "15     16        71.09160       139.99750\n",
       "16     17        66.46100       129.50230\n",
       "17     18        68.64927       142.97330\n",
       "18     19        71.23033       137.90250\n",
       "19     20        67.13118       124.04490\n",
       "20     21        67.83379       141.28070\n",
       "21     22        68.87881       143.53920\n",
       "22     23        63.48115        97.90191\n",
       "23     24        68.42187       129.50270\n",
       "24     25        67.62804       141.85010\n",
       "25     26        67.20864       129.72440\n",
       "26     27        70.84235       142.42350\n",
       "27     28        67.49434       131.55020\n",
       "28     29        66.53401       108.33240\n",
       "29     30        65.44098       113.89220\n",
       "30     31        69.52330       103.30160\n",
       "31     32        65.81320       120.75360\n",
       "32     33        67.81630       125.78860\n",
       "33     34        70.59505       136.22250\n",
       "34     35        71.80484       140.10150\n",
       "35     36        69.20613       128.74870\n",
       "36     37        66.80368       141.79940\n",
       "37     38        67.65893       121.23190\n",
       "38     39        67.80701       131.34780\n",
       "39     40        64.04535       106.71150\n",
       "40     41        68.57463       124.35980\n",
       "41     42        65.18357       124.85910\n",
       "42     43        69.65814       139.67110\n",
       "43     44        67.96731       137.36960\n",
       "44     45        65.98088       106.44990\n",
       "45     46        68.67249       128.76390\n",
       "46     47        66.88088       145.68370\n",
       "47     48        67.69868       116.81900\n",
       "48     49        69.82117       143.62150\n",
       "49     50        69.08817       134.93250"
      ]
     },
     "execution_count": 7,
     "metadata": {},
     "output_type": "execute_result"
    }
   ],
   "source": [
    "altura\n"
   ]
  },
  {
   "cell_type": "code",
   "execution_count": 14,
   "id": "a79ca28a",
   "metadata": {},
   "outputs": [],
   "source": [
    "media_altura = altura['Height(Inches)'].mean()\n",
    "desvio_padrao = altura['Height(Inches)'].std()"
   ]
  },
  {
   "cell_type": "code",
   "execution_count": 16,
   "id": "72cf70bf",
   "metadata": {},
   "outputs": [
    {
     "data": {
      "text/plain": [
       "count    50.000000\n",
       "mean     68.052762\n",
       "std       1.823818\n",
       "min      63.481150\n",
       "25%      66.939800\n",
       "50%      67.868220\n",
       "75%      69.176640\n",
       "max      71.804840\n",
       "Name: Height(Inches), dtype: float64"
      ]
     },
     "execution_count": 16,
     "metadata": {},
     "output_type": "execute_result"
    }
   ],
   "source": [
    "altura['Height(Inches)'].describe()"
   ]
  },
  {
   "cell_type": "code",
   "execution_count": 17,
   "id": "aecb3d34",
   "metadata": {},
   "outputs": [
    {
     "data": {
      "text/plain": [
       "np.float64(68.0527616)"
      ]
     },
     "execution_count": 17,
     "metadata": {},
     "output_type": "execute_result"
    }
   ],
   "source": [
    "media_altura"
   ]
  },
  {
   "cell_type": "code",
   "execution_count": 18,
   "id": "4284159b",
   "metadata": {},
   "outputs": [
    {
     "data": {
      "text/plain": [
       "np.float64(1.823818265890927)"
      ]
     },
     "execution_count": 18,
     "metadata": {},
     "output_type": "execute_result"
    }
   ],
   "source": [
    "desvio_padrao"
   ]
  },
  {
   "cell_type": "code",
   "execution_count": 21,
   "id": "a174e16b",
   "metadata": {},
   "outputs": [],
   "source": [
    "erro_padrao = desvio_padrao / np.sqrt(50)"
   ]
  },
  {
   "cell_type": "code",
   "execution_count": 22,
   "id": "3ab9bc24",
   "metadata": {},
   "outputs": [
    {
     "data": {
      "text/plain": [
       "np.float64(0.25792685269267285)"
      ]
     },
     "execution_count": 22,
     "metadata": {},
     "output_type": "execute_result"
    }
   ],
   "source": [
    "erro_padrao"
   ]
  },
  {
   "cell_type": "code",
   "execution_count": 23,
   "id": "3b04eeab",
   "metadata": {},
   "outputs": [],
   "source": [
    "z = 1.645"
   ]
  },
  {
   "cell_type": "code",
   "execution_count": 24,
   "id": "9db0bd9a",
   "metadata": {},
   "outputs": [],
   "source": [
    "inferior = media_altura - z*erro_padrao\n",
    "superior = media_altura + z*erro_padrao"
   ]
  },
  {
   "cell_type": "code",
   "execution_count": 25,
   "id": "379269d8",
   "metadata": {},
   "outputs": [],
   "source": [
    "ic = (inferior,superior)"
   ]
  },
  {
   "cell_type": "code",
   "execution_count": 26,
   "id": "44ef71f2",
   "metadata": {},
   "outputs": [
    {
     "data": {
      "text/plain": [
       "(np.float64(67.62847192732055), np.float64(68.47705127267945))"
      ]
     },
     "execution_count": 26,
     "metadata": {},
     "output_type": "execute_result"
    }
   ],
   "source": [
    "ic"
   ]
  },
  {
   "cell_type": "code",
   "execution_count": 27,
   "id": "29153604",
   "metadata": {},
   "outputs": [
    {
     "data": {
      "text/plain": [
       "np.float64(68.0527616)"
      ]
     },
     "execution_count": 27,
     "metadata": {},
     "output_type": "execute_result"
    }
   ],
   "source": [
    "altura['Height(Inches)'].mean()"
   ]
  },
  {
   "cell_type": "code",
   "execution_count": 28,
   "id": "58f388ee",
   "metadata": {},
   "outputs": [],
   "source": [
    "populacao = pd.read_csv('/home/laza/estatistica-treina/aula_06/populacaoPesoAltura.csv')"
   ]
  },
  {
   "cell_type": "code",
   "execution_count": 29,
   "id": "b0346c72",
   "metadata": {},
   "outputs": [
    {
     "data": {
      "text/html": [
       "<div>\n",
       "<style scoped>\n",
       "    .dataframe tbody tr th:only-of-type {\n",
       "        vertical-align: middle;\n",
       "    }\n",
       "\n",
       "    .dataframe tbody tr th {\n",
       "        vertical-align: top;\n",
       "    }\n",
       "\n",
       "    .dataframe thead th {\n",
       "        text-align: right;\n",
       "    }\n",
       "</style>\n",
       "<table border=\"1\" class=\"dataframe\">\n",
       "  <thead>\n",
       "    <tr style=\"text-align: right;\">\n",
       "      <th></th>\n",
       "      <th>Index</th>\n",
       "      <th>Height(Inches)</th>\n",
       "      <th>Weight(Pounds)</th>\n",
       "    </tr>\n",
       "  </thead>\n",
       "  <tbody>\n",
       "    <tr>\n",
       "      <th>0</th>\n",
       "      <td>1</td>\n",
       "      <td>65.78331</td>\n",
       "      <td>112.9925</td>\n",
       "    </tr>\n",
       "    <tr>\n",
       "      <th>1</th>\n",
       "      <td>2</td>\n",
       "      <td>71.51521</td>\n",
       "      <td>136.4873</td>\n",
       "    </tr>\n",
       "    <tr>\n",
       "      <th>2</th>\n",
       "      <td>3</td>\n",
       "      <td>69.39874</td>\n",
       "      <td>153.0269</td>\n",
       "    </tr>\n",
       "    <tr>\n",
       "      <th>3</th>\n",
       "      <td>4</td>\n",
       "      <td>68.21660</td>\n",
       "      <td>142.3354</td>\n",
       "    </tr>\n",
       "    <tr>\n",
       "      <th>4</th>\n",
       "      <td>5</td>\n",
       "      <td>67.78781</td>\n",
       "      <td>144.2971</td>\n",
       "    </tr>\n",
       "    <tr>\n",
       "      <th>...</th>\n",
       "      <td>...</td>\n",
       "      <td>...</td>\n",
       "      <td>...</td>\n",
       "    </tr>\n",
       "    <tr>\n",
       "      <th>24995</th>\n",
       "      <td>24996</td>\n",
       "      <td>69.50215</td>\n",
       "      <td>118.0312</td>\n",
       "    </tr>\n",
       "    <tr>\n",
       "      <th>24996</th>\n",
       "      <td>24997</td>\n",
       "      <td>64.54826</td>\n",
       "      <td>120.1932</td>\n",
       "    </tr>\n",
       "    <tr>\n",
       "      <th>24997</th>\n",
       "      <td>24998</td>\n",
       "      <td>64.69855</td>\n",
       "      <td>118.2655</td>\n",
       "    </tr>\n",
       "    <tr>\n",
       "      <th>24998</th>\n",
       "      <td>24999</td>\n",
       "      <td>67.52918</td>\n",
       "      <td>132.2682</td>\n",
       "    </tr>\n",
       "    <tr>\n",
       "      <th>24999</th>\n",
       "      <td>25000</td>\n",
       "      <td>68.87761</td>\n",
       "      <td>124.8742</td>\n",
       "    </tr>\n",
       "  </tbody>\n",
       "</table>\n",
       "<p>25000 rows × 3 columns</p>\n",
       "</div>"
      ],
      "text/plain": [
       "       Index  Height(Inches)  Weight(Pounds)\n",
       "0          1        65.78331        112.9925\n",
       "1          2        71.51521        136.4873\n",
       "2          3        69.39874        153.0269\n",
       "3          4        68.21660        142.3354\n",
       "4          5        67.78781        144.2971\n",
       "...      ...             ...             ...\n",
       "24995  24996        69.50215        118.0312\n",
       "24996  24997        64.54826        120.1932\n",
       "24997  24998        64.69855        118.2655\n",
       "24998  24999        67.52918        132.2682\n",
       "24999  25000        68.87761        124.8742\n",
       "\n",
       "[25000 rows x 3 columns]"
      ]
     },
     "execution_count": 29,
     "metadata": {},
     "output_type": "execute_result"
    }
   ],
   "source": [
    "populacao"
   ]
  },
  {
   "cell_type": "code",
   "execution_count": 30,
   "id": "71b1d59e",
   "metadata": {},
   "outputs": [
    {
     "data": {
      "text/plain": [
       "np.float64(67.99311359679999)"
      ]
     },
     "execution_count": 30,
     "metadata": {},
     "output_type": "execute_result"
    }
   ],
   "source": [
    "populacao['Height(Inches)'].mean()"
   ]
  },
  {
   "cell_type": "code",
   "execution_count": 31,
   "id": "9bebf8ef",
   "metadata": {},
   "outputs": [
    {
     "data": {
      "text/plain": [
       "(np.float64(67.62847192732055), np.float64(68.47705127267945))"
      ]
     },
     "execution_count": 31,
     "metadata": {},
     "output_type": "execute_result"
    }
   ],
   "source": [
    "ic"
   ]
  },
  {
   "cell_type": "code",
   "execution_count": null,
   "id": "ea472329",
   "metadata": {},
   "outputs": [],
   "source": []
  }
 ],
 "metadata": {
  "kernelspec": {
   "display_name": "venv",
   "language": "python",
   "name": "python3"
  },
  "language_info": {
   "codemirror_mode": {
    "name": "ipython",
    "version": 3
   },
   "file_extension": ".py",
   "mimetype": "text/x-python",
   "name": "python",
   "nbconvert_exporter": "python",
   "pygments_lexer": "ipython3",
   "version": "3.13.0"
  }
 },
 "nbformat": 4,
 "nbformat_minor": 5
}
