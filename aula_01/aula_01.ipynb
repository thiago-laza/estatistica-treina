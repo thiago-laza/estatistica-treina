{
 "cells": [
  {
   "cell_type": "code",
   "execution_count": 2,
   "id": "5121a549",
   "metadata": {},
   "outputs": [],
   "source": [
    "import pandas as pd"
   ]
  },
  {
   "cell_type": "code",
   "execution_count": 5,
   "id": "33d77533",
   "metadata": {},
   "outputs": [],
   "source": [
    "idades = pd.Series([25,30,46,25,58])"
   ]
  },
  {
   "cell_type": "code",
   "execution_count": 6,
   "id": "77edcab3",
   "metadata": {},
   "outputs": [
    {
     "data": {
      "text/plain": [
       "0    25\n",
       "1    30\n",
       "2    46\n",
       "3    25\n",
       "4    58\n",
       "dtype: int64"
      ]
     },
     "execution_count": 6,
     "metadata": {},
     "output_type": "execute_result"
    }
   ],
   "source": [
    "idades"
   ]
  },
  {
   "cell_type": "code",
   "execution_count": 7,
   "id": "e570c5b2",
   "metadata": {},
   "outputs": [
    {
     "data": {
      "text/plain": [
       "RangeIndex(start=0, stop=5, step=1)"
      ]
     },
     "execution_count": 7,
     "metadata": {},
     "output_type": "execute_result"
    }
   ],
   "source": [
    "idades.index"
   ]
  },
  {
   "cell_type": "code",
   "execution_count": 9,
   "id": "350367ed",
   "metadata": {},
   "outputs": [
    {
     "data": {
      "text/plain": [
       "array([25, 30, 46, 25, 58])"
      ]
     },
     "execution_count": 9,
     "metadata": {},
     "output_type": "execute_result"
    }
   ],
   "source": [
    "idades.values"
   ]
  },
  {
   "cell_type": "code",
   "execution_count": 10,
   "id": "0315ac57",
   "metadata": {},
   "outputs": [],
   "source": [
    "idades = pd.Series([25,30,46,25,58], index=['ana','jose','maria','pedro','carla'])"
   ]
  },
  {
   "cell_type": "code",
   "execution_count": 11,
   "id": "20354b54",
   "metadata": {},
   "outputs": [
    {
     "data": {
      "text/plain": [
       "ana      25\n",
       "jose     30\n",
       "maria    46\n",
       "pedro    25\n",
       "carla    58\n",
       "dtype: int64"
      ]
     },
     "execution_count": 11,
     "metadata": {},
     "output_type": "execute_result"
    }
   ],
   "source": [
    "idades"
   ]
  },
  {
   "cell_type": "code",
   "execution_count": 12,
   "id": "cb5b6d9d",
   "metadata": {},
   "outputs": [
    {
     "data": {
      "text/plain": [
       "Index(['ana', 'jose', 'maria', 'pedro', 'carla'], dtype='object')"
      ]
     },
     "execution_count": 12,
     "metadata": {},
     "output_type": "execute_result"
    }
   ],
   "source": [
    "idades.index"
   ]
  },
  {
   "cell_type": "code",
   "execution_count": 13,
   "id": "9a5a85ab",
   "metadata": {},
   "outputs": [
    {
     "data": {
      "text/plain": [
       "np.int64(25)"
      ]
     },
     "execution_count": 13,
     "metadata": {},
     "output_type": "execute_result"
    }
   ],
   "source": [
    "idades['ana']"
   ]
  },
  {
   "cell_type": "code",
   "execution_count": 18,
   "id": "e1244157",
   "metadata": {},
   "outputs": [],
   "source": [
    "dados = {\n",
    "    'nome':['alice','bob','charlie','davif'],\n",
    "    'idade':[25,30,22,28]\n",
    "}"
   ]
  },
  {
   "cell_type": "code",
   "execution_count": 19,
   "id": "12c25a98",
   "metadata": {},
   "outputs": [],
   "source": [
    "df = pd.DataFrame(dados)"
   ]
  },
  {
   "cell_type": "code",
   "execution_count": 20,
   "id": "c3f46d28",
   "metadata": {},
   "outputs": [
    {
     "data": {
      "text/html": [
       "<div>\n",
       "<style scoped>\n",
       "    .dataframe tbody tr th:only-of-type {\n",
       "        vertical-align: middle;\n",
       "    }\n",
       "\n",
       "    .dataframe tbody tr th {\n",
       "        vertical-align: top;\n",
       "    }\n",
       "\n",
       "    .dataframe thead th {\n",
       "        text-align: right;\n",
       "    }\n",
       "</style>\n",
       "<table border=\"1\" class=\"dataframe\">\n",
       "  <thead>\n",
       "    <tr style=\"text-align: right;\">\n",
       "      <th></th>\n",
       "      <th>nome</th>\n",
       "      <th>idade</th>\n",
       "    </tr>\n",
       "  </thead>\n",
       "  <tbody>\n",
       "    <tr>\n",
       "      <th>0</th>\n",
       "      <td>alice</td>\n",
       "      <td>25</td>\n",
       "    </tr>\n",
       "    <tr>\n",
       "      <th>1</th>\n",
       "      <td>bob</td>\n",
       "      <td>30</td>\n",
       "    </tr>\n",
       "    <tr>\n",
       "      <th>2</th>\n",
       "      <td>charlie</td>\n",
       "      <td>22</td>\n",
       "    </tr>\n",
       "    <tr>\n",
       "      <th>3</th>\n",
       "      <td>davif</td>\n",
       "      <td>28</td>\n",
       "    </tr>\n",
       "  </tbody>\n",
       "</table>\n",
       "</div>"
      ],
      "text/plain": [
       "      nome  idade\n",
       "0    alice     25\n",
       "1      bob     30\n",
       "2  charlie     22\n",
       "3    davif     28"
      ]
     },
     "execution_count": 20,
     "metadata": {},
     "output_type": "execute_result"
    }
   ],
   "source": [
    "df"
   ]
  },
  {
   "cell_type": "code",
   "execution_count": 21,
   "id": "63c4ae10",
   "metadata": {},
   "outputs": [
    {
     "data": {
      "text/plain": [
       "0      alice\n",
       "1        bob\n",
       "2    charlie\n",
       "3      davif\n",
       "Name: nome, dtype: object"
      ]
     },
     "execution_count": 21,
     "metadata": {},
     "output_type": "execute_result"
    }
   ],
   "source": [
    "df['nome']"
   ]
  },
  {
   "cell_type": "code",
   "execution_count": 22,
   "id": "2136b07a",
   "metadata": {},
   "outputs": [
    {
     "data": {
      "text/plain": [
       "0    25\n",
       "1    30\n",
       "2    22\n",
       "3    28\n",
       "Name: idade, dtype: int64"
      ]
     },
     "execution_count": 22,
     "metadata": {},
     "output_type": "execute_result"
    }
   ],
   "source": [
    "df['idade']"
   ]
  },
  {
   "cell_type": "code",
   "execution_count": 29,
   "id": "db0c2e17",
   "metadata": {},
   "outputs": [
    {
     "data": {
      "text/plain": [
       "'alice'"
      ]
     },
     "execution_count": 29,
     "metadata": {},
     "output_type": "execute_result"
    }
   ],
   "source": [
    "df.iloc[0,0]"
   ]
  },
  {
   "cell_type": "code",
   "execution_count": 31,
   "id": "e14a7385",
   "metadata": {},
   "outputs": [
    {
     "data": {
      "text/plain": [
       "'alice'"
      ]
     },
     "execution_count": 31,
     "metadata": {},
     "output_type": "execute_result"
    }
   ],
   "source": [
    "df.loc[0,'nome']"
   ]
  },
  {
   "cell_type": "code",
   "execution_count": 32,
   "id": "ac8cfd3b",
   "metadata": {},
   "outputs": [],
   "source": [
    "funcionarios = pd.read_csv('/home/laza/estatistica-treina/aula_01/funcionario.csv')"
   ]
  },
  {
   "cell_type": "code",
   "execution_count": 33,
   "id": "00f4b40d",
   "metadata": {},
   "outputs": [
    {
     "data": {
      "text/html": [
       "<div>\n",
       "<style scoped>\n",
       "    .dataframe tbody tr th:only-of-type {\n",
       "        vertical-align: middle;\n",
       "    }\n",
       "\n",
       "    .dataframe tbody tr th {\n",
       "        vertical-align: top;\n",
       "    }\n",
       "\n",
       "    .dataframe thead th {\n",
       "        text-align: right;\n",
       "    }\n",
       "</style>\n",
       "<table border=\"1\" class=\"dataframe\">\n",
       "  <thead>\n",
       "    <tr style=\"text-align: right;\">\n",
       "      <th></th>\n",
       "      <th>_id</th>\n",
       "      <th>matricula</th>\n",
       "      <th>nome</th>\n",
       "      <th>cargo_emprego</th>\n",
       "      <th>jornada_trabalho</th>\n",
       "    </tr>\n",
       "  </thead>\n",
       "  <tbody>\n",
       "    <tr>\n",
       "      <th>0</th>\n",
       "      <td>1</td>\n",
       "      <td>39810</td>\n",
       "      <td>Hercilio Matias de Oliveira</td>\n",
       "      <td>TECNICO EM CONTABILIDADE</td>\n",
       "      <td>40 HORAS SEMANAIS</td>\n",
       "    </tr>\n",
       "    <tr>\n",
       "      <th>1</th>\n",
       "      <td>2</td>\n",
       "      <td>41894</td>\n",
       "      <td>Jose Dutra Amorim</td>\n",
       "      <td>CONTADOR</td>\n",
       "      <td>40 HORAS SEMANAIS</td>\n",
       "    </tr>\n",
       "    <tr>\n",
       "      <th>2</th>\n",
       "      <td>3</td>\n",
       "      <td>41933</td>\n",
       "      <td>Marcos Antonio Petrucci de Assis</td>\n",
       "      <td>ASSISTENTE EM ADMINISTRACAO</td>\n",
       "      <td>40 HORAS SEMANAIS</td>\n",
       "    </tr>\n",
       "    <tr>\n",
       "      <th>3</th>\n",
       "      <td>4</td>\n",
       "      <td>41938</td>\n",
       "      <td>Jansen Tinoco de Medeiros</td>\n",
       "      <td>VIGILANTE</td>\n",
       "      <td>40 HORAS SEMANAIS</td>\n",
       "    </tr>\n",
       "    <tr>\n",
       "      <th>4</th>\n",
       "      <td>5</td>\n",
       "      <td>47258</td>\n",
       "      <td>Eugenio Pacelli Fernandes Leite</td>\n",
       "      <td>PROFESSOR ENS BASICO TECN TECNOLOGICO</td>\n",
       "      <td>DEDICACAO EXCLUSIVA</td>\n",
       "    </tr>\n",
       "    <tr>\n",
       "      <th>...</th>\n",
       "      <td>...</td>\n",
       "      <td>...</td>\n",
       "      <td>...</td>\n",
       "      <td>...</td>\n",
       "      <td>...</td>\n",
       "    </tr>\n",
       "    <tr>\n",
       "      <th>2962</th>\n",
       "      <td>2963</td>\n",
       "      <td>3143253</td>\n",
       "      <td>Gustavo Dias da Silva</td>\n",
       "      <td>PROF ENS BAS TEC TECNOLOGICO-SUBSTITUTO</td>\n",
       "      <td>40 HORAS SEMANAIS</td>\n",
       "    </tr>\n",
       "    <tr>\n",
       "      <th>2963</th>\n",
       "      <td>2964</td>\n",
       "      <td>3143745</td>\n",
       "      <td>Jose Paulo de Oliveira Neto</td>\n",
       "      <td>NaN</td>\n",
       "      <td>20 HORAS SEMANAIS</td>\n",
       "    </tr>\n",
       "    <tr>\n",
       "      <th>2964</th>\n",
       "      <td>2965</td>\n",
       "      <td>3143816</td>\n",
       "      <td>Cristiane Leal Rodrigues Soares</td>\n",
       "      <td>PROF ENS BAS TEC TECNOLOGICO-SUBSTITUTO</td>\n",
       "      <td>40 HORAS SEMANAIS</td>\n",
       "    </tr>\n",
       "    <tr>\n",
       "      <th>2965</th>\n",
       "      <td>2966</td>\n",
       "      <td>3143859</td>\n",
       "      <td>Jandui Evangelista de Oliveira</td>\n",
       "      <td>PROF ENS BAS TEC TECNOLOGICO-SUBSTITUTO</td>\n",
       "      <td>40 HORAS SEMANAIS</td>\n",
       "    </tr>\n",
       "    <tr>\n",
       "      <th>2966</th>\n",
       "      <td>2967</td>\n",
       "      <td>3143860</td>\n",
       "      <td>Elisenaide Bezerra Santos</td>\n",
       "      <td>PROF ENS BAS TEC TECNOLOGICO-SUBSTITUTO</td>\n",
       "      <td>40 HORAS SEMANAIS</td>\n",
       "    </tr>\n",
       "  </tbody>\n",
       "</table>\n",
       "<p>2967 rows × 5 columns</p>\n",
       "</div>"
      ],
      "text/plain": [
       "       _id  matricula                              nome  \\\n",
       "0        1      39810       Hercilio Matias de Oliveira   \n",
       "1        2      41894                 Jose Dutra Amorim   \n",
       "2        3      41933  Marcos Antonio Petrucci de Assis   \n",
       "3        4      41938         Jansen Tinoco de Medeiros   \n",
       "4        5      47258   Eugenio Pacelli Fernandes Leite   \n",
       "...    ...        ...                               ...   \n",
       "2962  2963    3143253             Gustavo Dias da Silva   \n",
       "2963  2964    3143745       Jose Paulo de Oliveira Neto   \n",
       "2964  2965    3143816   Cristiane Leal Rodrigues Soares   \n",
       "2965  2966    3143859    Jandui Evangelista de Oliveira   \n",
       "2966  2967    3143860         Elisenaide Bezerra Santos   \n",
       "\n",
       "                                cargo_emprego     jornada_trabalho  \n",
       "0                    TECNICO EM CONTABILIDADE    40 HORAS SEMANAIS  \n",
       "1                                    CONTADOR    40 HORAS SEMANAIS  \n",
       "2                 ASSISTENTE EM ADMINISTRACAO    40 HORAS SEMANAIS  \n",
       "3                                   VIGILANTE    40 HORAS SEMANAIS  \n",
       "4       PROFESSOR ENS BASICO TECN TECNOLOGICO  DEDICACAO EXCLUSIVA  \n",
       "...                                       ...                  ...  \n",
       "2962  PROF ENS BAS TEC TECNOLOGICO-SUBSTITUTO    40 HORAS SEMANAIS  \n",
       "2963                                      NaN    20 HORAS SEMANAIS  \n",
       "2964  PROF ENS BAS TEC TECNOLOGICO-SUBSTITUTO    40 HORAS SEMANAIS  \n",
       "2965  PROF ENS BAS TEC TECNOLOGICO-SUBSTITUTO    40 HORAS SEMANAIS  \n",
       "2966  PROF ENS BAS TEC TECNOLOGICO-SUBSTITUTO    40 HORAS SEMANAIS  \n",
       "\n",
       "[2967 rows x 5 columns]"
      ]
     },
     "execution_count": 33,
     "metadata": {},
     "output_type": "execute_result"
    }
   ],
   "source": [
    "funcionarios"
   ]
  },
  {
   "cell_type": "code",
   "execution_count": 34,
   "id": "8a9e5865",
   "metadata": {},
   "outputs": [
    {
     "name": "stdout",
     "output_type": "stream",
     "text": [
      "<class 'pandas.core.frame.DataFrame'>\n",
      "RangeIndex: 2967 entries, 0 to 2966\n",
      "Data columns (total 5 columns):\n",
      " #   Column            Non-Null Count  Dtype \n",
      "---  ------            --------------  ----- \n",
      " 0   _id               2967 non-null   int64 \n",
      " 1   matricula         2967 non-null   int64 \n",
      " 2   nome              2967 non-null   object\n",
      " 3   cargo_emprego     2860 non-null   object\n",
      " 4   jornada_trabalho  2964 non-null   object\n",
      "dtypes: int64(2), object(3)\n",
      "memory usage: 116.0+ KB\n"
     ]
    }
   ],
   "source": [
    "funcionarios.info()"
   ]
  },
  {
   "cell_type": "code",
   "execution_count": 35,
   "id": "b9ecfe54",
   "metadata": {},
   "outputs": [
    {
     "data": {
      "text/plain": [
       "0         39810\n",
       "1         41894\n",
       "2         41933\n",
       "3         41938\n",
       "4         47258\n",
       "         ...   \n",
       "2962    3143253\n",
       "2963    3143745\n",
       "2964    3143816\n",
       "2965    3143859\n",
       "2966    3143860\n",
       "Name: matricula, Length: 2967, dtype: int64"
      ]
     },
     "execution_count": 35,
     "metadata": {},
     "output_type": "execute_result"
    }
   ],
   "source": [
    "funcionarios['matricula']"
   ]
  },
  {
   "cell_type": "code",
   "execution_count": 38,
   "id": "c1e8652b",
   "metadata": {},
   "outputs": [],
   "source": [
    "funcionarios2 = pd.read_excel('/home/laza/estatistica-treina/aula_01/funcionario.xlsx',sheet_name='nome')"
   ]
  },
  {
   "cell_type": "code",
   "execution_count": 39,
   "id": "24cbd2b5",
   "metadata": {},
   "outputs": [
    {
     "data": {
      "text/html": [
       "<div>\n",
       "<style scoped>\n",
       "    .dataframe tbody tr th:only-of-type {\n",
       "        vertical-align: middle;\n",
       "    }\n",
       "\n",
       "    .dataframe tbody tr th {\n",
       "        vertical-align: top;\n",
       "    }\n",
       "\n",
       "    .dataframe thead th {\n",
       "        text-align: right;\n",
       "    }\n",
       "</style>\n",
       "<table border=\"1\" class=\"dataframe\">\n",
       "  <thead>\n",
       "    <tr style=\"text-align: right;\">\n",
       "      <th></th>\n",
       "      <th>_id</th>\n",
       "      <th>matricula</th>\n",
       "      <th>nome</th>\n",
       "      <th>cargo_emprego</th>\n",
       "      <th>jornada_trabalho</th>\n",
       "    </tr>\n",
       "  </thead>\n",
       "  <tbody>\n",
       "    <tr>\n",
       "      <th>0</th>\n",
       "      <td>1</td>\n",
       "      <td>39810</td>\n",
       "      <td>Hercilio Matias de Oliveira</td>\n",
       "      <td>TECNICO EM CONTABILIDADE</td>\n",
       "      <td>40 HORAS SEMANAIS</td>\n",
       "    </tr>\n",
       "    <tr>\n",
       "      <th>1</th>\n",
       "      <td>2</td>\n",
       "      <td>41894</td>\n",
       "      <td>Jose Dutra Amorim</td>\n",
       "      <td>CONTADOR</td>\n",
       "      <td>40 HORAS SEMANAIS</td>\n",
       "    </tr>\n",
       "    <tr>\n",
       "      <th>2</th>\n",
       "      <td>3</td>\n",
       "      <td>41933</td>\n",
       "      <td>Marcos Antonio Petrucci de Assis</td>\n",
       "      <td>ASSISTENTE EM ADMINISTRACAO</td>\n",
       "      <td>40 HORAS SEMANAIS</td>\n",
       "    </tr>\n",
       "    <tr>\n",
       "      <th>3</th>\n",
       "      <td>4</td>\n",
       "      <td>41938</td>\n",
       "      <td>Jansen Tinoco de Medeiros</td>\n",
       "      <td>VIGILANTE</td>\n",
       "      <td>40 HORAS SEMANAIS</td>\n",
       "    </tr>\n",
       "    <tr>\n",
       "      <th>4</th>\n",
       "      <td>5</td>\n",
       "      <td>47258</td>\n",
       "      <td>Eugenio Pacelli Fernandes Leite</td>\n",
       "      <td>PROFESSOR ENS BASICO TECN TECNOLOGICO</td>\n",
       "      <td>DEDICACAO EXCLUSIVA</td>\n",
       "    </tr>\n",
       "    <tr>\n",
       "      <th>...</th>\n",
       "      <td>...</td>\n",
       "      <td>...</td>\n",
       "      <td>...</td>\n",
       "      <td>...</td>\n",
       "      <td>...</td>\n",
       "    </tr>\n",
       "    <tr>\n",
       "      <th>2962</th>\n",
       "      <td>2963</td>\n",
       "      <td>3143253</td>\n",
       "      <td>Gustavo Dias da Silva</td>\n",
       "      <td>PROF ENS BAS TEC TECNOLOGICO-SUBSTITUTO</td>\n",
       "      <td>40 HORAS SEMANAIS</td>\n",
       "    </tr>\n",
       "    <tr>\n",
       "      <th>2963</th>\n",
       "      <td>2964</td>\n",
       "      <td>3143745</td>\n",
       "      <td>Jose Paulo de Oliveira Neto</td>\n",
       "      <td>NaN</td>\n",
       "      <td>20 HORAS SEMANAIS</td>\n",
       "    </tr>\n",
       "    <tr>\n",
       "      <th>2964</th>\n",
       "      <td>2965</td>\n",
       "      <td>3143816</td>\n",
       "      <td>Cristiane Leal Rodrigues Soares</td>\n",
       "      <td>PROF ENS BAS TEC TECNOLOGICO-SUBSTITUTO</td>\n",
       "      <td>40 HORAS SEMANAIS</td>\n",
       "    </tr>\n",
       "    <tr>\n",
       "      <th>2965</th>\n",
       "      <td>2966</td>\n",
       "      <td>3143859</td>\n",
       "      <td>Jandui Evangelista de Oliveira</td>\n",
       "      <td>PROF ENS BAS TEC TECNOLOGICO-SUBSTITUTO</td>\n",
       "      <td>40 HORAS SEMANAIS</td>\n",
       "    </tr>\n",
       "    <tr>\n",
       "      <th>2966</th>\n",
       "      <td>2967</td>\n",
       "      <td>3143860</td>\n",
       "      <td>Elisenaide Bezerra Santos</td>\n",
       "      <td>PROF ENS BAS TEC TECNOLOGICO-SUBSTITUTO</td>\n",
       "      <td>40 HORAS SEMANAIS</td>\n",
       "    </tr>\n",
       "  </tbody>\n",
       "</table>\n",
       "<p>2967 rows × 5 columns</p>\n",
       "</div>"
      ],
      "text/plain": [
       "       _id  matricula                              nome  \\\n",
       "0        1      39810       Hercilio Matias de Oliveira   \n",
       "1        2      41894                 Jose Dutra Amorim   \n",
       "2        3      41933  Marcos Antonio Petrucci de Assis   \n",
       "3        4      41938         Jansen Tinoco de Medeiros   \n",
       "4        5      47258   Eugenio Pacelli Fernandes Leite   \n",
       "...    ...        ...                               ...   \n",
       "2962  2963    3143253             Gustavo Dias da Silva   \n",
       "2963  2964    3143745       Jose Paulo de Oliveira Neto   \n",
       "2964  2965    3143816   Cristiane Leal Rodrigues Soares   \n",
       "2965  2966    3143859    Jandui Evangelista de Oliveira   \n",
       "2966  2967    3143860         Elisenaide Bezerra Santos   \n",
       "\n",
       "                                cargo_emprego     jornada_trabalho  \n",
       "0                    TECNICO EM CONTABILIDADE    40 HORAS SEMANAIS  \n",
       "1                                    CONTADOR    40 HORAS SEMANAIS  \n",
       "2                 ASSISTENTE EM ADMINISTRACAO    40 HORAS SEMANAIS  \n",
       "3                                   VIGILANTE    40 HORAS SEMANAIS  \n",
       "4       PROFESSOR ENS BASICO TECN TECNOLOGICO  DEDICACAO EXCLUSIVA  \n",
       "...                                       ...                  ...  \n",
       "2962  PROF ENS BAS TEC TECNOLOGICO-SUBSTITUTO    40 HORAS SEMANAIS  \n",
       "2963                                      NaN    20 HORAS SEMANAIS  \n",
       "2964  PROF ENS BAS TEC TECNOLOGICO-SUBSTITUTO    40 HORAS SEMANAIS  \n",
       "2965  PROF ENS BAS TEC TECNOLOGICO-SUBSTITUTO    40 HORAS SEMANAIS  \n",
       "2966  PROF ENS BAS TEC TECNOLOGICO-SUBSTITUTO    40 HORAS SEMANAIS  \n",
       "\n",
       "[2967 rows x 5 columns]"
      ]
     },
     "execution_count": 39,
     "metadata": {},
     "output_type": "execute_result"
    }
   ],
   "source": [
    "funcionarios2"
   ]
  },
  {
   "cell_type": "code",
   "execution_count": 40,
   "id": "d606c7ea",
   "metadata": {},
   "outputs": [
    {
     "name": "stdout",
     "output_type": "stream",
     "text": [
      "<class 'pandas.core.frame.DataFrame'>\n",
      "RangeIndex: 2967 entries, 0 to 2966\n",
      "Data columns (total 5 columns):\n",
      " #   Column            Non-Null Count  Dtype \n",
      "---  ------            --------------  ----- \n",
      " 0   _id               2967 non-null   int64 \n",
      " 1   matricula         2967 non-null   int64 \n",
      " 2   nome              2967 non-null   object\n",
      " 3   cargo_emprego     2860 non-null   object\n",
      " 4   jornada_trabalho  2964 non-null   object\n",
      "dtypes: int64(2), object(3)\n",
      "memory usage: 116.0+ KB\n"
     ]
    }
   ],
   "source": [
    "funcionarios2.info()"
   ]
  },
  {
   "cell_type": "code",
   "execution_count": 42,
   "id": "fc61306e",
   "metadata": {},
   "outputs": [
    {
     "data": {
      "text/plain": [
       "0            Hercilio Matias de Oliveira\n",
       "1                      Jose Dutra Amorim\n",
       "2       Marcos Antonio Petrucci de Assis\n",
       "3              Jansen Tinoco de Medeiros\n",
       "4        Eugenio Pacelli Fernandes Leite\n",
       "                      ...               \n",
       "2962               Gustavo Dias da Silva\n",
       "2963         Jose Paulo de Oliveira Neto\n",
       "2964     Cristiane Leal Rodrigues Soares\n",
       "2965      Jandui Evangelista de Oliveira\n",
       "2966           Elisenaide Bezerra Santos\n",
       "Name: nome, Length: 2967, dtype: object"
      ]
     },
     "execution_count": 42,
     "metadata": {},
     "output_type": "execute_result"
    }
   ],
   "source": [
    "funcionarios2['nome']"
   ]
  },
  {
   "cell_type": "code",
   "execution_count": 43,
   "id": "82c625d9",
   "metadata": {},
   "outputs": [
    {
     "data": {
      "text/plain": [
       "RangeIndex(start=0, stop=2967, step=1)"
      ]
     },
     "execution_count": 43,
     "metadata": {},
     "output_type": "execute_result"
    }
   ],
   "source": [
    "funcionarios2.index"
   ]
  },
  {
   "cell_type": "code",
   "execution_count": 44,
   "id": "2b6e4f7a",
   "metadata": {},
   "outputs": [
    {
     "data": {
      "text/plain": [
       "array([[1, 39810, 'Hercilio Matias de Oliveira',\n",
       "        'TECNICO EM CONTABILIDADE', '40 HORAS SEMANAIS'],\n",
       "       [2, 41894, 'Jose Dutra Amorim', 'CONTADOR', '40 HORAS SEMANAIS'],\n",
       "       [3, 41933, 'Marcos Antonio Petrucci de Assis',\n",
       "        'ASSISTENTE EM ADMINISTRACAO', '40 HORAS SEMANAIS'],\n",
       "       ...,\n",
       "       [2965, 3143816, 'Cristiane Leal Rodrigues Soares',\n",
       "        'PROF ENS BAS TEC TECNOLOGICO-SUBSTITUTO', '40 HORAS SEMANAIS'],\n",
       "       [2966, 3143859, 'Jandui Evangelista de Oliveira',\n",
       "        'PROF ENS BAS TEC TECNOLOGICO-SUBSTITUTO', '40 HORAS SEMANAIS'],\n",
       "       [2967, 3143860, 'Elisenaide Bezerra Santos',\n",
       "        'PROF ENS BAS TEC TECNOLOGICO-SUBSTITUTO', '40 HORAS SEMANAIS']],\n",
       "      shape=(2967, 5), dtype=object)"
      ]
     },
     "execution_count": 44,
     "metadata": {},
     "output_type": "execute_result"
    }
   ],
   "source": [
    "funcionarios2.values"
   ]
  },
  {
   "cell_type": "code",
   "execution_count": 45,
   "id": "87683cf4",
   "metadata": {},
   "outputs": [
    {
     "data": {
      "text/plain": [
       "Index(['_id', 'matricula', 'nome', 'cargo_emprego', 'jornada_trabalho'], dtype='object')"
      ]
     },
     "execution_count": 45,
     "metadata": {},
     "output_type": "execute_result"
    }
   ],
   "source": [
    "funcionarios2.columns"
   ]
  },
  {
   "cell_type": "code",
   "execution_count": 46,
   "id": "5771337b",
   "metadata": {},
   "outputs": [
    {
     "data": {
      "text/html": [
       "<div>\n",
       "<style scoped>\n",
       "    .dataframe tbody tr th:only-of-type {\n",
       "        vertical-align: middle;\n",
       "    }\n",
       "\n",
       "    .dataframe tbody tr th {\n",
       "        vertical-align: top;\n",
       "    }\n",
       "\n",
       "    .dataframe thead th {\n",
       "        text-align: right;\n",
       "    }\n",
       "</style>\n",
       "<table border=\"1\" class=\"dataframe\">\n",
       "  <thead>\n",
       "    <tr style=\"text-align: right;\">\n",
       "      <th></th>\n",
       "      <th>nome</th>\n",
       "      <th>idade</th>\n",
       "    </tr>\n",
       "  </thead>\n",
       "  <tbody>\n",
       "    <tr>\n",
       "      <th>0</th>\n",
       "      <td>alice</td>\n",
       "      <td>25</td>\n",
       "    </tr>\n",
       "    <tr>\n",
       "      <th>1</th>\n",
       "      <td>bob</td>\n",
       "      <td>30</td>\n",
       "    </tr>\n",
       "    <tr>\n",
       "      <th>2</th>\n",
       "      <td>charlie</td>\n",
       "      <td>22</td>\n",
       "    </tr>\n",
       "    <tr>\n",
       "      <th>3</th>\n",
       "      <td>davif</td>\n",
       "      <td>28</td>\n",
       "    </tr>\n",
       "  </tbody>\n",
       "</table>\n",
       "</div>"
      ],
      "text/plain": [
       "      nome  idade\n",
       "0    alice     25\n",
       "1      bob     30\n",
       "2  charlie     22\n",
       "3    davif     28"
      ]
     },
     "execution_count": 46,
     "metadata": {},
     "output_type": "execute_result"
    }
   ],
   "source": [
    "df"
   ]
  },
  {
   "cell_type": "code",
   "execution_count": 47,
   "id": "10b90196",
   "metadata": {},
   "outputs": [],
   "source": [
    "df_maior26 = df['idade'] > 26"
   ]
  },
  {
   "cell_type": "code",
   "execution_count": 48,
   "id": "9a982f9d",
   "metadata": {},
   "outputs": [
    {
     "data": {
      "text/plain": [
       "0    False\n",
       "1     True\n",
       "2    False\n",
       "3     True\n",
       "Name: idade, dtype: bool"
      ]
     },
     "execution_count": 48,
     "metadata": {},
     "output_type": "execute_result"
    }
   ],
   "source": [
    "df_maior26"
   ]
  },
  {
   "cell_type": "code",
   "execution_count": 49,
   "id": "4d6e0316",
   "metadata": {},
   "outputs": [
    {
     "name": "stdout",
     "output_type": "stream",
     "text": [
      "0    False\n",
      "1     True\n",
      "2    False\n",
      "3     True\n",
      "Name: idade, dtype: bool\n"
     ]
    }
   ],
   "source": [
    "print(df_maior26)"
   ]
  },
  {
   "cell_type": "code",
   "execution_count": 53,
   "id": "db975440",
   "metadata": {},
   "outputs": [
    {
     "data": {
      "text/plain": [
       "ana      25\n",
       "jose     30\n",
       "maria    46\n",
       "pedro    25\n",
       "carla    58\n",
       "dtype: int64"
      ]
     },
     "execution_count": 53,
     "metadata": {},
     "output_type": "execute_result"
    }
   ],
   "source": [
    "idades"
   ]
  },
  {
   "cell_type": "code",
   "execution_count": 55,
   "id": "4dfc5650",
   "metadata": {},
   "outputs": [
    {
     "data": {
      "text/plain": [
       "Index(['nome', 'idade'], dtype='object')"
      ]
     },
     "execution_count": 55,
     "metadata": {},
     "output_type": "execute_result"
    }
   ],
   "source": [
    "df.columns"
   ]
  },
  {
   "cell_type": "code",
   "execution_count": 56,
   "id": "da25586c",
   "metadata": {},
   "outputs": [
    {
     "data": {
      "text/html": [
       "<div>\n",
       "<style scoped>\n",
       "    .dataframe tbody tr th:only-of-type {\n",
       "        vertical-align: middle;\n",
       "    }\n",
       "\n",
       "    .dataframe tbody tr th {\n",
       "        vertical-align: top;\n",
       "    }\n",
       "\n",
       "    .dataframe thead th {\n",
       "        text-align: right;\n",
       "    }\n",
       "</style>\n",
       "<table border=\"1\" class=\"dataframe\">\n",
       "  <thead>\n",
       "    <tr style=\"text-align: right;\">\n",
       "      <th></th>\n",
       "      <th>nome</th>\n",
       "      <th>idade</th>\n",
       "    </tr>\n",
       "  </thead>\n",
       "  <tbody>\n",
       "    <tr>\n",
       "      <th>1</th>\n",
       "      <td>bob</td>\n",
       "      <td>30</td>\n",
       "    </tr>\n",
       "    <tr>\n",
       "      <th>3</th>\n",
       "      <td>davif</td>\n",
       "      <td>28</td>\n",
       "    </tr>\n",
       "  </tbody>\n",
       "</table>\n",
       "</div>"
      ],
      "text/plain": [
       "    nome  idade\n",
       "1    bob     30\n",
       "3  davif     28"
      ]
     },
     "execution_count": 56,
     "metadata": {},
     "output_type": "execute_result"
    }
   ],
   "source": [
    "df[df['idade'] > 26]"
   ]
  },
  {
   "cell_type": "code",
   "execution_count": 58,
   "id": "e7137c31",
   "metadata": {},
   "outputs": [],
   "source": [
    "df['cidade'] = ['Recife','olinda','jaboatao','camaragibe']"
   ]
  },
  {
   "cell_type": "code",
   "execution_count": 59,
   "id": "2aaa1ee5",
   "metadata": {},
   "outputs": [
    {
     "data": {
      "text/html": [
       "<div>\n",
       "<style scoped>\n",
       "    .dataframe tbody tr th:only-of-type {\n",
       "        vertical-align: middle;\n",
       "    }\n",
       "\n",
       "    .dataframe tbody tr th {\n",
       "        vertical-align: top;\n",
       "    }\n",
       "\n",
       "    .dataframe thead th {\n",
       "        text-align: right;\n",
       "    }\n",
       "</style>\n",
       "<table border=\"1\" class=\"dataframe\">\n",
       "  <thead>\n",
       "    <tr style=\"text-align: right;\">\n",
       "      <th></th>\n",
       "      <th>nome</th>\n",
       "      <th>idade</th>\n",
       "      <th>cidade</th>\n",
       "    </tr>\n",
       "  </thead>\n",
       "  <tbody>\n",
       "    <tr>\n",
       "      <th>0</th>\n",
       "      <td>alice</td>\n",
       "      <td>25</td>\n",
       "      <td>Recife</td>\n",
       "    </tr>\n",
       "    <tr>\n",
       "      <th>1</th>\n",
       "      <td>bob</td>\n",
       "      <td>30</td>\n",
       "      <td>olinda</td>\n",
       "    </tr>\n",
       "    <tr>\n",
       "      <th>2</th>\n",
       "      <td>charlie</td>\n",
       "      <td>22</td>\n",
       "      <td>jaboatao</td>\n",
       "    </tr>\n",
       "    <tr>\n",
       "      <th>3</th>\n",
       "      <td>davif</td>\n",
       "      <td>28</td>\n",
       "      <td>camaragibe</td>\n",
       "    </tr>\n",
       "  </tbody>\n",
       "</table>\n",
       "</div>"
      ],
      "text/plain": [
       "      nome  idade      cidade\n",
       "0    alice     25      Recife\n",
       "1      bob     30      olinda\n",
       "2  charlie     22    jaboatao\n",
       "3    davif     28  camaragibe"
      ]
     },
     "execution_count": 59,
     "metadata": {},
     "output_type": "execute_result"
    }
   ],
   "source": [
    "df"
   ]
  },
  {
   "cell_type": "code",
   "execution_count": 62,
   "id": "9c9e8787",
   "metadata": {},
   "outputs": [],
   "source": [
    "df = df.drop(['cidade'],axis=1)"
   ]
  },
  {
   "cell_type": "code",
   "execution_count": 63,
   "id": "2367a08d",
   "metadata": {},
   "outputs": [
    {
     "data": {
      "text/html": [
       "<div>\n",
       "<style scoped>\n",
       "    .dataframe tbody tr th:only-of-type {\n",
       "        vertical-align: middle;\n",
       "    }\n",
       "\n",
       "    .dataframe tbody tr th {\n",
       "        vertical-align: top;\n",
       "    }\n",
       "\n",
       "    .dataframe thead th {\n",
       "        text-align: right;\n",
       "    }\n",
       "</style>\n",
       "<table border=\"1\" class=\"dataframe\">\n",
       "  <thead>\n",
       "    <tr style=\"text-align: right;\">\n",
       "      <th></th>\n",
       "      <th>nome</th>\n",
       "      <th>idade</th>\n",
       "    </tr>\n",
       "  </thead>\n",
       "  <tbody>\n",
       "    <tr>\n",
       "      <th>0</th>\n",
       "      <td>alice</td>\n",
       "      <td>25</td>\n",
       "    </tr>\n",
       "    <tr>\n",
       "      <th>1</th>\n",
       "      <td>bob</td>\n",
       "      <td>30</td>\n",
       "    </tr>\n",
       "    <tr>\n",
       "      <th>2</th>\n",
       "      <td>charlie</td>\n",
       "      <td>22</td>\n",
       "    </tr>\n",
       "    <tr>\n",
       "      <th>3</th>\n",
       "      <td>davif</td>\n",
       "      <td>28</td>\n",
       "    </tr>\n",
       "  </tbody>\n",
       "</table>\n",
       "</div>"
      ],
      "text/plain": [
       "      nome  idade\n",
       "0    alice     25\n",
       "1      bob     30\n",
       "2  charlie     22\n",
       "3    davif     28"
      ]
     },
     "execution_count": 63,
     "metadata": {},
     "output_type": "execute_result"
    }
   ],
   "source": [
    "df"
   ]
  },
  {
   "cell_type": "code",
   "execution_count": 64,
   "id": "fe72e6bb",
   "metadata": {},
   "outputs": [],
   "source": [
    "df = df.drop(['idade'],axis=1)"
   ]
  },
  {
   "cell_type": "code",
   "execution_count": 65,
   "id": "6a202a09",
   "metadata": {},
   "outputs": [
    {
     "data": {
      "text/html": [
       "<div>\n",
       "<style scoped>\n",
       "    .dataframe tbody tr th:only-of-type {\n",
       "        vertical-align: middle;\n",
       "    }\n",
       "\n",
       "    .dataframe tbody tr th {\n",
       "        vertical-align: top;\n",
       "    }\n",
       "\n",
       "    .dataframe thead th {\n",
       "        text-align: right;\n",
       "    }\n",
       "</style>\n",
       "<table border=\"1\" class=\"dataframe\">\n",
       "  <thead>\n",
       "    <tr style=\"text-align: right;\">\n",
       "      <th></th>\n",
       "      <th>nome</th>\n",
       "    </tr>\n",
       "  </thead>\n",
       "  <tbody>\n",
       "    <tr>\n",
       "      <th>0</th>\n",
       "      <td>alice</td>\n",
       "    </tr>\n",
       "    <tr>\n",
       "      <th>1</th>\n",
       "      <td>bob</td>\n",
       "    </tr>\n",
       "    <tr>\n",
       "      <th>2</th>\n",
       "      <td>charlie</td>\n",
       "    </tr>\n",
       "    <tr>\n",
       "      <th>3</th>\n",
       "      <td>davif</td>\n",
       "    </tr>\n",
       "  </tbody>\n",
       "</table>\n",
       "</div>"
      ],
      "text/plain": [
       "      nome\n",
       "0    alice\n",
       "1      bob\n",
       "2  charlie\n",
       "3    davif"
      ]
     },
     "execution_count": 65,
     "metadata": {},
     "output_type": "execute_result"
    }
   ],
   "source": [
    "df"
   ]
  },
  {
   "cell_type": "code",
   "execution_count": null,
   "id": "efce6220",
   "metadata": {},
   "outputs": [],
   "source": []
  }
 ],
 "metadata": {
  "kernelspec": {
   "display_name": "venv",
   "language": "python",
   "name": "python3"
  },
  "language_info": {
   "codemirror_mode": {
    "name": "ipython",
    "version": 3
   },
   "file_extension": ".py",
   "mimetype": "text/x-python",
   "name": "python",
   "nbconvert_exporter": "python",
   "pygments_lexer": "ipython3",
   "version": "3.12.3"
  }
 },
 "nbformat": 4,
 "nbformat_minor": 5
}
