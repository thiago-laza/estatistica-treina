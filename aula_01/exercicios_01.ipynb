{
 "cells": [
  {
   "cell_type": "code",
   "execution_count": 3,
   "id": "bd8edd8a",
   "metadata": {},
   "outputs": [],
   "source": [
    "import pandas as pd"
   ]
  },
  {
   "cell_type": "markdown",
   "id": "ce0f7bcc",
   "metadata": {},
   "source": [
    "---\n",
    "**Exercício 1: Criando Series**\n",
    "\n",
    "Crie duas Series Pandas:\n",
    "\n",
    "1.​ Uma Series chamada frutas com os valores: 'Maçã', 'Banana', 'Laranja',\n",
    "'Morango', e índices correspondentes: 'A', 'B', 'C', 'D'.\n",
    "\n",
    "2.​ Uma Series chamada precos com os valores: 2.50, 1.80, 3.20, 4.00, e utilize\n",
    "os mesmos índices da Series frutas.\n",
    "\n",
    "\n",
    "---"
   ]
  },
  {
   "cell_type": "code",
   "execution_count": 4,
   "id": "5430e594",
   "metadata": {},
   "outputs": [],
   "source": [
    "frutas = pd.Series(['maca','banana','laranja','morango'], index=['A','B','C','D'])"
   ]
  },
  {
   "cell_type": "code",
   "execution_count": 5,
   "id": "02c5f0cc",
   "metadata": {},
   "outputs": [
    {
     "data": {
      "text/plain": [
       "A       maca\n",
       "B     banana\n",
       "C    laranja\n",
       "D    morango\n",
       "dtype: object"
      ]
     },
     "execution_count": 5,
     "metadata": {},
     "output_type": "execute_result"
    }
   ],
   "source": [
    "frutas"
   ]
  },
  {
   "cell_type": "code",
   "execution_count": 6,
   "id": "85cf2c9f",
   "metadata": {},
   "outputs": [],
   "source": [
    "precos = pd.Series([2.50,1.80,3.20,4.00], index=['A','B','C','D'])"
   ]
  },
  {
   "cell_type": "code",
   "execution_count": 7,
   "id": "37a012df",
   "metadata": {},
   "outputs": [
    {
     "data": {
      "text/plain": [
       "A    2.5\n",
       "B    1.8\n",
       "C    3.2\n",
       "D    4.0\n",
       "dtype: float64"
      ]
     },
     "execution_count": 7,
     "metadata": {},
     "output_type": "execute_result"
    }
   ],
   "source": [
    "precos"
   ]
  },
  {
   "cell_type": "markdown",
   "id": "a1a9e090",
   "metadata": {},
   "source": [
    "---\n",
    "\n",
    "**Exercício 2: Criando DataFrames**\n",
    "\n",
    "Crie um DataFrame Pandas chamado alunos a partir do seguinte dicionário:\n",
    "\n",
    "dados_alunos = {\n",
    "'Nome': ['Ana', 'Bruno', 'Carla', 'Daniel', 'Elisa'],\n",
    "'Idade': [20, 22, 21, 23, 19],\n",
    "'Curso': ['Engenharia', 'Computação', 'Medicina', 'Direito', 'Biologia']\n",
    "}\n",
    "\n",
    "---"
   ]
  },
  {
   "cell_type": "code",
   "execution_count": 8,
   "id": "d31fe4a9",
   "metadata": {},
   "outputs": [],
   "source": [
    "alunos = pd.DataFrame({\n",
    "    'nome':['ana','bruno','carla','daniel','elisa'],\n",
    "    'idade':[20,22,21,23,19],\n",
    "    'cursos':['engenharia','computacao','medicina','direito','biologia']\n",
    "})"
   ]
  },
  {
   "cell_type": "code",
   "execution_count": 9,
   "id": "a5b7dfb9",
   "metadata": {},
   "outputs": [
    {
     "data": {
      "text/html": [
       "<div>\n",
       "<style scoped>\n",
       "    .dataframe tbody tr th:only-of-type {\n",
       "        vertical-align: middle;\n",
       "    }\n",
       "\n",
       "    .dataframe tbody tr th {\n",
       "        vertical-align: top;\n",
       "    }\n",
       "\n",
       "    .dataframe thead th {\n",
       "        text-align: right;\n",
       "    }\n",
       "</style>\n",
       "<table border=\"1\" class=\"dataframe\">\n",
       "  <thead>\n",
       "    <tr style=\"text-align: right;\">\n",
       "      <th></th>\n",
       "      <th>nome</th>\n",
       "      <th>idade</th>\n",
       "      <th>cursos</th>\n",
       "    </tr>\n",
       "  </thead>\n",
       "  <tbody>\n",
       "    <tr>\n",
       "      <th>0</th>\n",
       "      <td>ana</td>\n",
       "      <td>20</td>\n",
       "      <td>engenharia</td>\n",
       "    </tr>\n",
       "    <tr>\n",
       "      <th>1</th>\n",
       "      <td>bruno</td>\n",
       "      <td>22</td>\n",
       "      <td>computacao</td>\n",
       "    </tr>\n",
       "    <tr>\n",
       "      <th>2</th>\n",
       "      <td>carla</td>\n",
       "      <td>21</td>\n",
       "      <td>medicina</td>\n",
       "    </tr>\n",
       "    <tr>\n",
       "      <th>3</th>\n",
       "      <td>daniel</td>\n",
       "      <td>23</td>\n",
       "      <td>direito</td>\n",
       "    </tr>\n",
       "    <tr>\n",
       "      <th>4</th>\n",
       "      <td>elisa</td>\n",
       "      <td>19</td>\n",
       "      <td>biologia</td>\n",
       "    </tr>\n",
       "  </tbody>\n",
       "</table>\n",
       "</div>"
      ],
      "text/plain": [
       "     nome  idade      cursos\n",
       "0     ana     20  engenharia\n",
       "1   bruno     22  computacao\n",
       "2   carla     21    medicina\n",
       "3  daniel     23     direito\n",
       "4   elisa     19    biologia"
      ]
     },
     "execution_count": 9,
     "metadata": {},
     "output_type": "execute_result"
    }
   ],
   "source": [
    "alunos"
   ]
  },
  {
   "cell_type": "markdown",
   "id": "8be2bec5",
   "metadata": {},
   "source": [
    "---\n",
    "\n",
    "**Exercício 3: Acessando Dados em Series e DataFrames**\n",
    "\n",
    "1.​ Na Series frutas criada no Exercício 1, acesse o valor correspondente ao\n",
    "índice 'C'.\n",
    "\n",
    "2.​ No DataFrame alunos criado no Exercício 2, selecione apenas a coluna\n",
    "'Nome'.\n",
    "\n",
    "3.​ Selecione as colunas 'Nome' e 'Curso' do DataFrame alunos.\n",
    "\n",
    "___"
   ]
  },
  {
   "cell_type": "code",
   "execution_count": 10,
   "id": "bd64c95e",
   "metadata": {},
   "outputs": [
    {
     "data": {
      "text/plain": [
       "'laranja'"
      ]
     },
     "execution_count": 10,
     "metadata": {},
     "output_type": "execute_result"
    }
   ],
   "source": [
    "frutas['C']"
   ]
  },
  {
   "cell_type": "code",
   "execution_count": 11,
   "id": "e708c2ab",
   "metadata": {},
   "outputs": [
    {
     "data": {
      "text/plain": [
       "0       ana\n",
       "1     bruno\n",
       "2     carla\n",
       "3    daniel\n",
       "4     elisa\n",
       "Name: nome, dtype: object"
      ]
     },
     "execution_count": 11,
     "metadata": {},
     "output_type": "execute_result"
    }
   ],
   "source": [
    "alunos['nome']"
   ]
  },
  {
   "cell_type": "code",
   "execution_count": 12,
   "id": "640232d8",
   "metadata": {},
   "outputs": [
    {
     "data": {
      "text/html": [
       "<div>\n",
       "<style scoped>\n",
       "    .dataframe tbody tr th:only-of-type {\n",
       "        vertical-align: middle;\n",
       "    }\n",
       "\n",
       "    .dataframe tbody tr th {\n",
       "        vertical-align: top;\n",
       "    }\n",
       "\n",
       "    .dataframe thead th {\n",
       "        text-align: right;\n",
       "    }\n",
       "</style>\n",
       "<table border=\"1\" class=\"dataframe\">\n",
       "  <thead>\n",
       "    <tr style=\"text-align: right;\">\n",
       "      <th></th>\n",
       "      <th>nome</th>\n",
       "      <th>cursos</th>\n",
       "    </tr>\n",
       "  </thead>\n",
       "  <tbody>\n",
       "    <tr>\n",
       "      <th>0</th>\n",
       "      <td>ana</td>\n",
       "      <td>engenharia</td>\n",
       "    </tr>\n",
       "    <tr>\n",
       "      <th>1</th>\n",
       "      <td>bruno</td>\n",
       "      <td>computacao</td>\n",
       "    </tr>\n",
       "    <tr>\n",
       "      <th>2</th>\n",
       "      <td>carla</td>\n",
       "      <td>medicina</td>\n",
       "    </tr>\n",
       "    <tr>\n",
       "      <th>3</th>\n",
       "      <td>daniel</td>\n",
       "      <td>direito</td>\n",
       "    </tr>\n",
       "    <tr>\n",
       "      <th>4</th>\n",
       "      <td>elisa</td>\n",
       "      <td>biologia</td>\n",
       "    </tr>\n",
       "  </tbody>\n",
       "</table>\n",
       "</div>"
      ],
      "text/plain": [
       "     nome      cursos\n",
       "0     ana  engenharia\n",
       "1   bruno  computacao\n",
       "2   carla    medicina\n",
       "3  daniel     direito\n",
       "4   elisa    biologia"
      ]
     },
     "execution_count": 12,
     "metadata": {},
     "output_type": "execute_result"
    }
   ],
   "source": [
    "alunos[['nome','cursos']]"
   ]
  },
  {
   "cell_type": "markdown",
   "id": "e412a595",
   "metadata": {},
   "source": [
    "---\n",
    "\n",
    "**Exercício 4: Filtrando DataFrames**\n",
    "\n",
    "No DataFrame alunos, filtre e mostre apenas os alunos com idade igual ou\n",
    "superior a 21 anos.\n",
    "\n",
    "---"
   ]
  },
  {
   "cell_type": "code",
   "execution_count": 13,
   "id": "c9339bd7",
   "metadata": {},
   "outputs": [
    {
     "data": {
      "text/html": [
       "<div>\n",
       "<style scoped>\n",
       "    .dataframe tbody tr th:only-of-type {\n",
       "        vertical-align: middle;\n",
       "    }\n",
       "\n",
       "    .dataframe tbody tr th {\n",
       "        vertical-align: top;\n",
       "    }\n",
       "\n",
       "    .dataframe thead th {\n",
       "        text-align: right;\n",
       "    }\n",
       "</style>\n",
       "<table border=\"1\" class=\"dataframe\">\n",
       "  <thead>\n",
       "    <tr style=\"text-align: right;\">\n",
       "      <th></th>\n",
       "      <th>nome</th>\n",
       "      <th>idade</th>\n",
       "      <th>cursos</th>\n",
       "    </tr>\n",
       "  </thead>\n",
       "  <tbody>\n",
       "    <tr>\n",
       "      <th>1</th>\n",
       "      <td>bruno</td>\n",
       "      <td>22</td>\n",
       "      <td>computacao</td>\n",
       "    </tr>\n",
       "    <tr>\n",
       "      <th>3</th>\n",
       "      <td>daniel</td>\n",
       "      <td>23</td>\n",
       "      <td>direito</td>\n",
       "    </tr>\n",
       "  </tbody>\n",
       "</table>\n",
       "</div>"
      ],
      "text/plain": [
       "     nome  idade      cursos\n",
       "1   bruno     22  computacao\n",
       "3  daniel     23     direito"
      ]
     },
     "execution_count": 13,
     "metadata": {},
     "output_type": "execute_result"
    }
   ],
   "source": [
    "alunos[alunos['idade'] > 21]"
   ]
  },
  {
   "cell_type": "markdown",
   "id": "b20a986a",
   "metadata": {},
   "source": [
    "---\n",
    "\n",
    "**Exercício 5: Adicionando e Removendo Colunas**\n",
    "\n",
    "1.​ Adicione uma nova coluna chamada 'Cidade' ao DataFrame alunos com os\n",
    "seguintes valores: 'São Paulo', 'Rio de Janeiro', 'Belo Horizonte', 'Salvador',\n",
    "'Recife'.\n",
    "\n",
    "2.​ Remova a coluna 'Curso' do DataFrame alunos.\n",
    "\n",
    "___"
   ]
  },
  {
   "cell_type": "code",
   "execution_count": 14,
   "id": "35835a9b",
   "metadata": {},
   "outputs": [],
   "source": [
    "alunos['cidade'] = ['sao paulo','rio de janeiro','belo horizonte','salvador','recife']"
   ]
  },
  {
   "cell_type": "code",
   "execution_count": 15,
   "id": "cf5007f9",
   "metadata": {},
   "outputs": [
    {
     "data": {
      "text/html": [
       "<div>\n",
       "<style scoped>\n",
       "    .dataframe tbody tr th:only-of-type {\n",
       "        vertical-align: middle;\n",
       "    }\n",
       "\n",
       "    .dataframe tbody tr th {\n",
       "        vertical-align: top;\n",
       "    }\n",
       "\n",
       "    .dataframe thead th {\n",
       "        text-align: right;\n",
       "    }\n",
       "</style>\n",
       "<table border=\"1\" class=\"dataframe\">\n",
       "  <thead>\n",
       "    <tr style=\"text-align: right;\">\n",
       "      <th></th>\n",
       "      <th>nome</th>\n",
       "      <th>idade</th>\n",
       "      <th>cursos</th>\n",
       "      <th>cidade</th>\n",
       "    </tr>\n",
       "  </thead>\n",
       "  <tbody>\n",
       "    <tr>\n",
       "      <th>0</th>\n",
       "      <td>ana</td>\n",
       "      <td>20</td>\n",
       "      <td>engenharia</td>\n",
       "      <td>sao paulo</td>\n",
       "    </tr>\n",
       "    <tr>\n",
       "      <th>1</th>\n",
       "      <td>bruno</td>\n",
       "      <td>22</td>\n",
       "      <td>computacao</td>\n",
       "      <td>rio de janeiro</td>\n",
       "    </tr>\n",
       "    <tr>\n",
       "      <th>2</th>\n",
       "      <td>carla</td>\n",
       "      <td>21</td>\n",
       "      <td>medicina</td>\n",
       "      <td>belo horizonte</td>\n",
       "    </tr>\n",
       "    <tr>\n",
       "      <th>3</th>\n",
       "      <td>daniel</td>\n",
       "      <td>23</td>\n",
       "      <td>direito</td>\n",
       "      <td>salvador</td>\n",
       "    </tr>\n",
       "    <tr>\n",
       "      <th>4</th>\n",
       "      <td>elisa</td>\n",
       "      <td>19</td>\n",
       "      <td>biologia</td>\n",
       "      <td>recife</td>\n",
       "    </tr>\n",
       "  </tbody>\n",
       "</table>\n",
       "</div>"
      ],
      "text/plain": [
       "     nome  idade      cursos          cidade\n",
       "0     ana     20  engenharia       sao paulo\n",
       "1   bruno     22  computacao  rio de janeiro\n",
       "2   carla     21    medicina  belo horizonte\n",
       "3  daniel     23     direito        salvador\n",
       "4   elisa     19    biologia          recife"
      ]
     },
     "execution_count": 15,
     "metadata": {},
     "output_type": "execute_result"
    }
   ],
   "source": [
    "alunos"
   ]
  },
  {
   "cell_type": "code",
   "execution_count": 16,
   "id": "309c1cbe",
   "metadata": {},
   "outputs": [
    {
     "data": {
      "text/html": [
       "<div>\n",
       "<style scoped>\n",
       "    .dataframe tbody tr th:only-of-type {\n",
       "        vertical-align: middle;\n",
       "    }\n",
       "\n",
       "    .dataframe tbody tr th {\n",
       "        vertical-align: top;\n",
       "    }\n",
       "\n",
       "    .dataframe thead th {\n",
       "        text-align: right;\n",
       "    }\n",
       "</style>\n",
       "<table border=\"1\" class=\"dataframe\">\n",
       "  <thead>\n",
       "    <tr style=\"text-align: right;\">\n",
       "      <th></th>\n",
       "      <th>nome</th>\n",
       "      <th>idade</th>\n",
       "      <th>cidade</th>\n",
       "    </tr>\n",
       "  </thead>\n",
       "  <tbody>\n",
       "    <tr>\n",
       "      <th>0</th>\n",
       "      <td>ana</td>\n",
       "      <td>20</td>\n",
       "      <td>sao paulo</td>\n",
       "    </tr>\n",
       "    <tr>\n",
       "      <th>1</th>\n",
       "      <td>bruno</td>\n",
       "      <td>22</td>\n",
       "      <td>rio de janeiro</td>\n",
       "    </tr>\n",
       "    <tr>\n",
       "      <th>2</th>\n",
       "      <td>carla</td>\n",
       "      <td>21</td>\n",
       "      <td>belo horizonte</td>\n",
       "    </tr>\n",
       "    <tr>\n",
       "      <th>3</th>\n",
       "      <td>daniel</td>\n",
       "      <td>23</td>\n",
       "      <td>salvador</td>\n",
       "    </tr>\n",
       "    <tr>\n",
       "      <th>4</th>\n",
       "      <td>elisa</td>\n",
       "      <td>19</td>\n",
       "      <td>recife</td>\n",
       "    </tr>\n",
       "  </tbody>\n",
       "</table>\n",
       "</div>"
      ],
      "text/plain": [
       "     nome  idade          cidade\n",
       "0     ana     20       sao paulo\n",
       "1   bruno     22  rio de janeiro\n",
       "2   carla     21  belo horizonte\n",
       "3  daniel     23        salvador\n",
       "4   elisa     19          recife"
      ]
     },
     "execution_count": 16,
     "metadata": {},
     "output_type": "execute_result"
    }
   ],
   "source": [
    "alunos.drop('cursos', axis=1)"
   ]
  },
  {
   "cell_type": "markdown",
   "id": "b9595162",
   "metadata": {},
   "source": [
    "---\n",
    "\n",
    "**Exercício 6: Agrupamento de Dados**\n",
    "\n",
    "Crie o seguinte DataFrame de vendas por produto e categoria:\n",
    "\n",
    "vendas_categoria = {\n",
    "'Produto': ['A', 'B', 'A', 'C', 'B', 'C', 'A'],\n",
    "'Categoria': ['Eletrônicos', 'Vestuário', 'Eletrônicos', 'Alimentos', 'Vestuário', 'Alimentos',\n",
    "'Eletrônicos'],\n",
    "'Valor': [100, 50, 120, 30, 60, 40, 110]\n",
    "}\n",
    "\n",
    "df_vendas_cat = pd.DataFrame(vendas_categoria)\n",
    "\n",
    "Agrupe o DataFrame por 'Categoria' e calcule a soma do 'Valor' para cada\n",
    "categoria.\n",
    "\n",
    "___"
   ]
  },
  {
   "cell_type": "code",
   "execution_count": 17,
   "id": "f94130f9",
   "metadata": {},
   "outputs": [],
   "source": [
    "vendas_categoria = pd.DataFrame({\n",
    "'Produto': ['A', 'B', 'A', 'C', 'B', 'C', 'A'],\n",
    "'Categoria': ['Eletrônicos', 'Vestuário', 'Eletrônicos', 'Alimentos', 'Vestuário', 'Alimentos',\n",
    "'Eletrônicos'],\n",
    "'Valor': [100, 50, 120, 30, 60, 40, 110]\n",
    "})"
   ]
  },
  {
   "cell_type": "code",
   "execution_count": 19,
   "id": "fe33b6c6",
   "metadata": {},
   "outputs": [
    {
     "data": {
      "text/plain": [
       "Index(['Produto', 'Categoria', 'Valor'], dtype='object')"
      ]
     },
     "execution_count": 19,
     "metadata": {},
     "output_type": "execute_result"
    }
   ],
   "source": [
    "vendas_categoria.columns"
   ]
  },
  {
   "cell_type": "code",
   "execution_count": 21,
   "id": "88520dfe",
   "metadata": {},
   "outputs": [
    {
     "data": {
      "text/plain": [
       "Categoria\n",
       "Alimentos       70\n",
       "Eletrônicos    330\n",
       "Vestuário      110\n",
       "Name: Valor, dtype: int64"
      ]
     },
     "execution_count": 21,
     "metadata": {},
     "output_type": "execute_result"
    }
   ],
   "source": [
    "vendas_categoria.groupby('Categoria')['Valor'].sum()"
   ]
  },
  {
   "cell_type": "markdown",
   "id": "93c224ad",
   "metadata": {},
   "source": [
    "---\n",
    "\n",
    "**Exercício 7: Ordenando DataFrames** \n",
    "\n",
    "Ordene o DataFrame alunos(criado no Exercício 2, com a coluna 'Cidade' \n",
    "adicionada no Exercício 5) em ordem alfabética pela coluna 'Nome'. \n",
    "\n",
    "---"
   ]
  },
  {
   "cell_type": "code",
   "execution_count": 22,
   "id": "429fdb37",
   "metadata": {},
   "outputs": [],
   "source": [
    "alunos = pd.DataFrame({\n",
    "    'nome':['ana','bruno','carla','daniel','elisa'],\n",
    "    'idade':[20,22,21,23,19],\n",
    "    'cursos':['engenharia','computacao','medicina','direito','biologia']\n",
    "})"
   ]
  },
  {
   "cell_type": "code",
   "execution_count": 23,
   "id": "8f2b637d",
   "metadata": {},
   "outputs": [],
   "source": [
    "alunos['cidade'] = ['sao paulo','rio de janeiro','belo horizonte','salvador','recife']"
   ]
  },
  {
   "cell_type": "code",
   "execution_count": 24,
   "id": "6d24cdf0",
   "metadata": {},
   "outputs": [
    {
     "data": {
      "text/html": [
       "<div>\n",
       "<style scoped>\n",
       "    .dataframe tbody tr th:only-of-type {\n",
       "        vertical-align: middle;\n",
       "    }\n",
       "\n",
       "    .dataframe tbody tr th {\n",
       "        vertical-align: top;\n",
       "    }\n",
       "\n",
       "    .dataframe thead th {\n",
       "        text-align: right;\n",
       "    }\n",
       "</style>\n",
       "<table border=\"1\" class=\"dataframe\">\n",
       "  <thead>\n",
       "    <tr style=\"text-align: right;\">\n",
       "      <th></th>\n",
       "      <th>nome</th>\n",
       "      <th>idade</th>\n",
       "      <th>cursos</th>\n",
       "      <th>cidade</th>\n",
       "    </tr>\n",
       "  </thead>\n",
       "  <tbody>\n",
       "    <tr>\n",
       "      <th>0</th>\n",
       "      <td>ana</td>\n",
       "      <td>20</td>\n",
       "      <td>engenharia</td>\n",
       "      <td>sao paulo</td>\n",
       "    </tr>\n",
       "    <tr>\n",
       "      <th>1</th>\n",
       "      <td>bruno</td>\n",
       "      <td>22</td>\n",
       "      <td>computacao</td>\n",
       "      <td>rio de janeiro</td>\n",
       "    </tr>\n",
       "    <tr>\n",
       "      <th>2</th>\n",
       "      <td>carla</td>\n",
       "      <td>21</td>\n",
       "      <td>medicina</td>\n",
       "      <td>belo horizonte</td>\n",
       "    </tr>\n",
       "    <tr>\n",
       "      <th>3</th>\n",
       "      <td>daniel</td>\n",
       "      <td>23</td>\n",
       "      <td>direito</td>\n",
       "      <td>salvador</td>\n",
       "    </tr>\n",
       "    <tr>\n",
       "      <th>4</th>\n",
       "      <td>elisa</td>\n",
       "      <td>19</td>\n",
       "      <td>biologia</td>\n",
       "      <td>recife</td>\n",
       "    </tr>\n",
       "  </tbody>\n",
       "</table>\n",
       "</div>"
      ],
      "text/plain": [
       "     nome  idade      cursos          cidade\n",
       "0     ana     20  engenharia       sao paulo\n",
       "1   bruno     22  computacao  rio de janeiro\n",
       "2   carla     21    medicina  belo horizonte\n",
       "3  daniel     23     direito        salvador\n",
       "4   elisa     19    biologia          recife"
      ]
     },
     "execution_count": 24,
     "metadata": {},
     "output_type": "execute_result"
    }
   ],
   "source": [
    "alunos"
   ]
  },
  {
   "cell_type": "code",
   "execution_count": 25,
   "id": "219fdc10",
   "metadata": {},
   "outputs": [],
   "source": [
    "alunos_ordenado = alunos.sort_values(by='nome')"
   ]
  },
  {
   "cell_type": "code",
   "execution_count": 26,
   "id": "b64f11da",
   "metadata": {},
   "outputs": [
    {
     "data": {
      "text/html": [
       "<div>\n",
       "<style scoped>\n",
       "    .dataframe tbody tr th:only-of-type {\n",
       "        vertical-align: middle;\n",
       "    }\n",
       "\n",
       "    .dataframe tbody tr th {\n",
       "        vertical-align: top;\n",
       "    }\n",
       "\n",
       "    .dataframe thead th {\n",
       "        text-align: right;\n",
       "    }\n",
       "</style>\n",
       "<table border=\"1\" class=\"dataframe\">\n",
       "  <thead>\n",
       "    <tr style=\"text-align: right;\">\n",
       "      <th></th>\n",
       "      <th>nome</th>\n",
       "      <th>idade</th>\n",
       "      <th>cursos</th>\n",
       "      <th>cidade</th>\n",
       "    </tr>\n",
       "  </thead>\n",
       "  <tbody>\n",
       "    <tr>\n",
       "      <th>0</th>\n",
       "      <td>ana</td>\n",
       "      <td>20</td>\n",
       "      <td>engenharia</td>\n",
       "      <td>sao paulo</td>\n",
       "    </tr>\n",
       "    <tr>\n",
       "      <th>1</th>\n",
       "      <td>bruno</td>\n",
       "      <td>22</td>\n",
       "      <td>computacao</td>\n",
       "      <td>rio de janeiro</td>\n",
       "    </tr>\n",
       "    <tr>\n",
       "      <th>2</th>\n",
       "      <td>carla</td>\n",
       "      <td>21</td>\n",
       "      <td>medicina</td>\n",
       "      <td>belo horizonte</td>\n",
       "    </tr>\n",
       "    <tr>\n",
       "      <th>3</th>\n",
       "      <td>daniel</td>\n",
       "      <td>23</td>\n",
       "      <td>direito</td>\n",
       "      <td>salvador</td>\n",
       "    </tr>\n",
       "    <tr>\n",
       "      <th>4</th>\n",
       "      <td>elisa</td>\n",
       "      <td>19</td>\n",
       "      <td>biologia</td>\n",
       "      <td>recife</td>\n",
       "    </tr>\n",
       "  </tbody>\n",
       "</table>\n",
       "</div>"
      ],
      "text/plain": [
       "     nome  idade      cursos          cidade\n",
       "0     ana     20  engenharia       sao paulo\n",
       "1   bruno     22  computacao  rio de janeiro\n",
       "2   carla     21    medicina  belo horizonte\n",
       "3  daniel     23     direito        salvador\n",
       "4   elisa     19    biologia          recife"
      ]
     },
     "execution_count": 26,
     "metadata": {},
     "output_type": "execute_result"
    }
   ],
   "source": [
    "alunos_ordenado"
   ]
  },
  {
   "cell_type": "markdown",
   "id": "a382057f",
   "metadata": {},
   "source": [
    "---\n",
    "\n",
    "**Exercício 8: Aplicando Funções**\n",
    " \n",
    "No DataFrame alunos, crie uma nova coluna chamada 'Idade_Dobrada' que \n",
    "contenha o dobro da idade de cada aluno.\n",
    "\n",
    "---"
   ]
  },
  {
   "cell_type": "code",
   "execution_count": 27,
   "id": "bccde7ab",
   "metadata": {},
   "outputs": [],
   "source": [
    "alunos['idade dobrada'] = alunos['idade']*2"
   ]
  },
  {
   "cell_type": "code",
   "execution_count": 28,
   "id": "16de4abc",
   "metadata": {},
   "outputs": [
    {
     "data": {
      "text/html": [
       "<div>\n",
       "<style scoped>\n",
       "    .dataframe tbody tr th:only-of-type {\n",
       "        vertical-align: middle;\n",
       "    }\n",
       "\n",
       "    .dataframe tbody tr th {\n",
       "        vertical-align: top;\n",
       "    }\n",
       "\n",
       "    .dataframe thead th {\n",
       "        text-align: right;\n",
       "    }\n",
       "</style>\n",
       "<table border=\"1\" class=\"dataframe\">\n",
       "  <thead>\n",
       "    <tr style=\"text-align: right;\">\n",
       "      <th></th>\n",
       "      <th>nome</th>\n",
       "      <th>idade</th>\n",
       "      <th>cursos</th>\n",
       "      <th>cidade</th>\n",
       "      <th>idade dobrada</th>\n",
       "    </tr>\n",
       "  </thead>\n",
       "  <tbody>\n",
       "    <tr>\n",
       "      <th>0</th>\n",
       "      <td>ana</td>\n",
       "      <td>20</td>\n",
       "      <td>engenharia</td>\n",
       "      <td>sao paulo</td>\n",
       "      <td>40</td>\n",
       "    </tr>\n",
       "    <tr>\n",
       "      <th>1</th>\n",
       "      <td>bruno</td>\n",
       "      <td>22</td>\n",
       "      <td>computacao</td>\n",
       "      <td>rio de janeiro</td>\n",
       "      <td>44</td>\n",
       "    </tr>\n",
       "    <tr>\n",
       "      <th>2</th>\n",
       "      <td>carla</td>\n",
       "      <td>21</td>\n",
       "      <td>medicina</td>\n",
       "      <td>belo horizonte</td>\n",
       "      <td>42</td>\n",
       "    </tr>\n",
       "    <tr>\n",
       "      <th>3</th>\n",
       "      <td>daniel</td>\n",
       "      <td>23</td>\n",
       "      <td>direito</td>\n",
       "      <td>salvador</td>\n",
       "      <td>46</td>\n",
       "    </tr>\n",
       "    <tr>\n",
       "      <th>4</th>\n",
       "      <td>elisa</td>\n",
       "      <td>19</td>\n",
       "      <td>biologia</td>\n",
       "      <td>recife</td>\n",
       "      <td>38</td>\n",
       "    </tr>\n",
       "  </tbody>\n",
       "</table>\n",
       "</div>"
      ],
      "text/plain": [
       "     nome  idade      cursos          cidade  idade dobrada\n",
       "0     ana     20  engenharia       sao paulo             40\n",
       "1   bruno     22  computacao  rio de janeiro             44\n",
       "2   carla     21    medicina  belo horizonte             42\n",
       "3  daniel     23     direito        salvador             46\n",
       "4   elisa     19    biologia          recife             38"
      ]
     },
     "execution_count": 28,
     "metadata": {},
     "output_type": "execute_result"
    }
   ],
   "source": [
    "alunos"
   ]
  },
  {
   "cell_type": "code",
   "execution_count": null,
   "id": "25932865",
   "metadata": {},
   "outputs": [],
   "source": []
  }
 ],
 "metadata": {
  "kernelspec": {
   "display_name": "venv",
   "language": "python",
   "name": "python3"
  },
  "language_info": {
   "codemirror_mode": {
    "name": "ipython",
    "version": 3
   },
   "file_extension": ".py",
   "mimetype": "text/x-python",
   "name": "python",
   "nbconvert_exporter": "python",
   "pygments_lexer": "ipython3",
   "version": "3.12.3"
  }
 },
 "nbformat": 4,
 "nbformat_minor": 5
}
