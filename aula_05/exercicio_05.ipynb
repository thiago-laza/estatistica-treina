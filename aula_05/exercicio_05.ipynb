{
 "cells": [
  {
   "cell_type": "markdown",
   "id": "513aa5e1",
   "metadata": {},
   "source": [
    "---"
   ]
  },
  {
   "cell_type": "markdown",
   "id": "4c67ea75",
   "metadata": {},
   "source": [
    "### 1- Conceitos Iniciais "
   ]
  },
  {
   "cell_type": "markdown",
   "id": "4209d763",
   "metadata": {},
   "source": [
    "Exercício 01: Em uma cesta de frutas no Mercado de São José, há 3 mangas, 2 cajus e 4 bananas. \n",
    "\n",
    "Se uma fruta é escolhida aleatoriamente, qual é o espaço amostral deste \n",
    "experimento?"
   ]
  }
 ],
 "metadata": {
  "kernelspec": {
   "display_name": "venv",
   "language": "python",
   "name": "python3"
  },
  "language_info": {
   "name": "python",
   "version": "3.12.3"
  }
 },
 "nbformat": 4,
 "nbformat_minor": 5
}
