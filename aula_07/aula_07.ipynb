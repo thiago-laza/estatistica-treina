{
 "cells": [
  {
   "cell_type": "code",
   "execution_count": 10,
   "id": "71b2f13f",
   "metadata": {},
   "outputs": [
    {
     "name": "stdout",
     "output_type": "stream",
     "text": [
      "27.882387502129028\n",
      "H0 nao foi rejeitada\n"
     ]
    }
   ],
   "source": [
    "from scipy import stats\n",
    "import numpy as np\n",
    "\n",
    "m_h0 = 30\n",
    "m_amostra = 28.5\n",
    "n = 18\n",
    "dp_amostra = 3.5\n",
    "nivel_confianca = 0.01\n",
    "\n",
    "grau_liberdade = n - 1\n",
    "t_critico = stats.t.ppf(nivel_confianca, grau_liberdade)\n",
    "erro_padrao = dp_amostra/np.sqrt(n)\n",
    "valor_critico = m_h0 + t_critico*erro_padrao\n",
    "print(valor_critico)\n",
    "\n",
    "if valor_critico < m_amostra:\n",
    "    print('H0 nao foi rejeitada')\n",
    "else:\n",
    "    print('H0 foi rejeitada')"
   ]
  },
  {
   "cell_type": "markdown",
   "id": "8f919354",
   "metadata": {},
   "source": [
    "---"
   ]
  },
  {
   "cell_type": "code",
   "execution_count": 9,
   "id": "6ce0c287",
   "metadata": {},
   "outputs": [
    {
     "name": "stdout",
     "output_type": "stream",
     "text": [
      "t_critico -1.8182745801939793\n",
      "alpha_critico 0.043343191329550466\n",
      "H0 nao foi rejeitado\n"
     ]
    }
   ],
   "source": [
    "from scipy import stats\n",
    "import numpy as np\n",
    "\n",
    "m_h0 = 30\n",
    "m_amostra = 28.5\n",
    "n = 18\n",
    "dp_amostra = 3.5\n",
    "nivel_confianca = 0.01\n",
    "\n",
    "grau_liberdade = n - 1\n",
    "t_critico = stats.t.ppf(nivel_confianca, grau_liberdade)\n",
    "erro_padrao = dp_amostra/np.sqrt(n)\n",
    "\n",
    "t_critico = (m_amostra - m_h0) / erro_padrao\n",
    "print(f't_critico {t_critico}')\n",
    "alpha_critico =  stats.t.cdf(t_critico, grau_liberdade)\n",
    "print(f'alpha_critico {alpha_critico}')\n",
    "\n",
    "if alpha_critico > nivel_confianca:\n",
    "    print('H0 nao foi rejeitado')\n",
    "else:\n",
    "    print('H0 foi rejeitado')\n"
   ]
  },
  {
   "cell_type": "markdown",
   "id": "0cd99ac2",
   "metadata": {},
   "source": [
    "---"
   ]
  },
  {
   "cell_type": "markdown",
   "id": "8884c50c",
   "metadata": {},
   "source": [
    "Exercício  19: A duração  média de uma  lâmpada  específica em um  sistema  de  iluminação \n",
    "pública em Caruaru, PE, é de 1500 horas. O desvio padrão da duração é conhecido por ser \n",
    "de 120 horas. Uma nova tecnologia de lâmpada é implementada e, após testes, uma amostra \n",
    "de  45  lâmpadas  dessa  nova  tecnologia  apresentou  uma  duração  média  de  1560  horas. \n",
    "Questão: A um nível de significância de α=0.01, a nova tecnologia realmente aumentou a \n",
    "duração média das lâmpadas? Use o método do valor crítico."
   ]
  },
  {
   "cell_type": "code",
   "execution_count": 18,
   "id": "5d99577e",
   "metadata": {},
   "outputs": [
    {
     "name": "stdout",
     "output_type": "stream",
     "text": [
      "1541.6149758853396\n",
      "H0 foi rejeitada\n"
     ]
    }
   ],
   "source": [
    "m0 = 1500\n",
    "dp_pop = 120\n",
    "n = 45\n",
    "m_amostra = 1560\n",
    "alpha = 0.01\n",
    "erro_padrao = dp_pop / np.sqrt(n)\n",
    "z = stats.norm.ppf(1 - alpha)\n",
    "valor_critico = 1500 + z*erro_padrao\n",
    "print(valor_critico)\n",
    "\n",
    "if valor_critico < m_amostra:\n",
    "    print('H0 foi rejeitada')\n",
    "else:\n",
    "    print('H0 nao foi rejeitada')\n"
   ]
  },
  {
   "cell_type": "markdown",
   "id": "b12cf838",
   "metadata": {},
   "source": [
    "---"
   ]
  },
  {
   "cell_type": "markdown",
   "id": "ea990336",
   "metadata": {},
   "source": [
    "Exercício 20: Um restaurante de frutos do mar em Porto de Galinhas, PE, afirma que o tempo \n",
    "médio de espera por uma mesa aos domingos é de 20 minutos. Um cliente frequente acredita \n",
    "que o tempo médio de espera é, na verdade, maior. Ele registra o tempo de espera de 15 \n",
    "visitas aleatórias e obtém uma média amostral de 23 minutos com um desvio padrão amostral \n",
    "de 6 minutos. Questão: A um nível de significância de α=0.05, há evidências para a afirmação \n",
    "do cliente? Use o método do p-valor"
   ]
  },
  {
   "cell_type": "code",
   "execution_count": 21,
   "id": "c4c34b24",
   "metadata": {},
   "outputs": [
    {
     "name": "stdout",
     "output_type": "stream",
     "text": [
      "Estatística t calculada: 1.9365\n",
      "Graus de liberdade: 14\n",
      "P-valor calculado: 0.0366\n",
      "Nível de significância (alpha): 0.05\n",
      "\n",
      "Decisão: Rejeitar a hipótese nula (H0).\n",
      "Conclusão: Há evidências estatísticas para afirmar que o tempo médio de espera é maior que 20 minutos.\n"
     ]
    }
   ],
   "source": [
    "import numpy as np\n",
    "from scipy import stats\n",
    "\n",
    "# Dados do problema\n",
    "media_populacional_H0 = 20  # Média afirmada pelo restaurante (H0)\n",
    "n = 15                      # Tamanho da amostra\n",
    "media_amostral = 23         # Média de espera observada na amostra\n",
    "desvio_padrao_amostral = 6  # Desvio padrão da amostra\n",
    "\n",
    "# 1. Definir as hipóteses (já feito na explicação anterior):\n",
    "# H0: mu = 20\n",
    "# H1: mu > 20 (teste unilateral à direita)\n",
    "\n",
    "# 2. Calcular a estatística t\n",
    "# Fórmula: t = (media_amostral - media_populacional_H0) / (desvio_padrao_amostral / sqrt(n))\n",
    "erro_padrao = desvio_padrao_amostral / np.sqrt(n)\n",
    "valor_t = (media_amostral - media_populacional_H0) / erro_padrao\n",
    "\n",
    "# Graus de liberdade\n",
    "graus_liberdade = n - 1\n",
    "\n",
    "print(f\"Estatística t calculada: {valor_t:.4f}\")\n",
    "print(f\"Graus de liberdade: {graus_liberdade}\")\n",
    "\n",
    "# 3. Calcular o p-valor\n",
    "# Para um teste unilateral à direita, o p-valor é P(T > valor_t)\n",
    "# Usamos a função sf (survival function) da distribuição t de Student, que é 1 - cdf\n",
    "p_valor = stats.t.sf(valor_t, graus_liberdade)\n",
    "\n",
    "print(f\"P-valor calculado: {p_valor:.4f}\")\n",
    "\n",
    "# 4. Tomar a decisão\n",
    "alpha = 0.05\n",
    "\n",
    "print(f\"Nível de significância (alpha): {alpha}\")\n",
    "\n",
    "if p_valor <= alpha:\n",
    "    print(\"\\nDecisão: Rejeitar a hipótese nula (H0).\")\n",
    "    print(\"Conclusão: Há evidências estatísticas para afirmar que o tempo médio de espera é maior que 20 minutos.\")\n",
    "else:\n",
    "    print(\"\\nDecisão: Não rejeitar a hipótese nula (H0).\")\n",
    "    print(\"Conclusão: Não há evidências estatísticas para afirmar que o tempo médio de espera é maior que 20 minutos.\")"
   ]
  }
 ],
 "metadata": {
  "kernelspec": {
   "display_name": "venv",
   "language": "python",
   "name": "python3"
  },
  "language_info": {
   "codemirror_mode": {
    "name": "ipython",
    "version": 3
   },
   "file_extension": ".py",
   "mimetype": "text/x-python",
   "name": "python",
   "nbconvert_exporter": "python",
   "pygments_lexer": "ipython3",
   "version": "3.13.0"
  }
 },
 "nbformat": 4,
 "nbformat_minor": 5
}
