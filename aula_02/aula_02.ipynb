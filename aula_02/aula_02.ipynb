{
 "cells": [
  {
   "cell_type": "code",
   "execution_count": 4,
   "id": "4d747852",
   "metadata": {},
   "outputs": [],
   "source": [
    "import numpy as np"
   ]
  },
  {
   "cell_type": "code",
   "execution_count": null,
   "id": "1e58ca83",
   "metadata": {},
   "outputs": [],
   "source": [
    "temperaturas = [31.5,32.0,31.8,32.5,33.0,32.0]"
   ]
  },
  {
   "cell_type": "code",
   "execution_count": 7,
   "id": "8a3cec67",
   "metadata": {},
   "outputs": [
    {
     "data": {
      "text/plain": [
       "np.float64(32.13333333333333)"
      ]
     },
     "execution_count": 7,
     "metadata": {},
     "output_type": "execute_result"
    }
   ],
   "source": [
    "np.mean(temperaturas)"
   ]
  },
  {
   "cell_type": "code",
   "execution_count": 8,
   "id": "cc3d57b1",
   "metadata": {},
   "outputs": [
    {
     "data": {
      "text/plain": [
       "np.float64(32.0)"
      ]
     },
     "execution_count": 8,
     "metadata": {},
     "output_type": "execute_result"
    }
   ],
   "source": [
    "np.median(temperaturas)"
   ]
  },
  {
   "cell_type": "code",
   "execution_count": 10,
   "id": "64688ad7",
   "metadata": {},
   "outputs": [],
   "source": [
    "import pandas as pd"
   ]
  },
  {
   "cell_type": "code",
   "execution_count": 11,
   "id": "555a13be",
   "metadata": {},
   "outputs": [
    {
     "data": {
      "text/plain": [
       "0    32.0\n",
       "dtype: float64"
      ]
     },
     "execution_count": 11,
     "metadata": {},
     "output_type": "execute_result"
    }
   ],
   "source": [
    "pd.Series(temperaturas).mode()"
   ]
  },
  {
   "cell_type": "code",
   "execution_count": 17,
   "id": "ebf9d66f",
   "metadata": {},
   "outputs": [
    {
     "data": {
      "text/plain": [
       "array([31.5, 31.8, 32. , 32.5, 33. ])"
      ]
     },
     "execution_count": 17,
     "metadata": {},
     "output_type": "execute_result"
    }
   ],
   "source": [
    "unicos = np.unique(temperaturas)\n",
    "unicos"
   ]
  },
  {
   "cell_type": "code",
   "execution_count": 18,
   "id": "98f7e7e1",
   "metadata": {},
   "outputs": [],
   "source": [
    "acidentes = [2, 0, 1, 3, 2, 2, 0, 1, 2, 4]"
   ]
  },
  {
   "cell_type": "code",
   "execution_count": 19,
   "id": "87969857",
   "metadata": {},
   "outputs": [
    {
     "data": {
      "text/plain": [
       "np.int64(4)"
      ]
     },
     "execution_count": 19,
     "metadata": {},
     "output_type": "execute_result"
    }
   ],
   "source": [
    "np.ptp(acidentes)"
   ]
  },
  {
   "cell_type": "code",
   "execution_count": 20,
   "id": "f6427afd",
   "metadata": {},
   "outputs": [
    {
     "data": {
      "text/plain": [
       "np.float64(1.1874342087037917)"
      ]
     },
     "execution_count": 20,
     "metadata": {},
     "output_type": "execute_result"
    }
   ],
   "source": [
    "np.std(acidentes)"
   ]
  },
  {
   "cell_type": "code",
   "execution_count": null,
   "id": "9ed75f91",
   "metadata": {},
   "outputs": [],
   "source": []
  }
 ],
 "metadata": {
  "kernelspec": {
   "display_name": "venv",
   "language": "python",
   "name": "python3"
  },
  "language_info": {
   "codemirror_mode": {
    "name": "ipython",
    "version": 3
   },
   "file_extension": ".py",
   "mimetype": "text/x-python",
   "name": "python",
   "nbconvert_exporter": "python",
   "pygments_lexer": "ipython3",
   "version": "3.12.3"
  }
 },
 "nbformat": 4,
 "nbformat_minor": 5
}
